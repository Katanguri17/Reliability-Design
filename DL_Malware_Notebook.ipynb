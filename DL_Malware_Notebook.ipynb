{
  "nbformat": 4,
  "nbformat_minor": 0,
  "metadata": {
    "colab": {
      "name": "DL_Malware_Notebook.ipynb",
      "provenance": [],
      "collapsed_sections": [],
      "toc_visible": true,
      "include_colab_link": true
    },
    "kernelspec": {
      "name": "python3",
      "display_name": "Python 3"
    }
  },
  "cells": [
    {
      "cell_type": "markdown",
      "metadata": {
        "id": "view-in-github",
        "colab_type": "text"
      },
      "source": [
        "<a href=\"https://colab.research.google.com/github/kamkali/Malware_Discovery_ML/blob/master/DL_Malware_Notebook.ipynb\" target=\"_parent\"><img src=\"https://colab.research.google.com/assets/colab-badge.svg\" alt=\"Open In Colab\"/></a>"
      ]
    },
    {
      "cell_type": "markdown",
      "metadata": {
        "id": "rp4LelB4jM7J",
        "colab_type": "text"
      },
      "source": [
        "\n",
        "# Welcome to the Jupyter Notebook with Google Colab! Here we will post our research on discovering malware using machine learning.\n",
        "\n",
        "*authors: Jakub Burghardt, Kamil Kaliś, Michał Szczepaniak-Krupowski*"
      ]
    },
    {
      "cell_type": "code",
      "metadata": {
        "id": "gjnVomalm7iN",
        "colab_type": "code",
        "colab": {}
      },
      "source": [
        "def upload_files():\n",
        "    \"\"\"Function for uploading files to the project\"\"\"\n",
        "    from google.colab import files\n",
        "    uploaded = files.upload()\n",
        "    for k, v in uploaded.items():\n",
        "        open(k, 'wb').write(v)\n",
        "    return list(uploaded.keys())"
      ],
      "execution_count": 0,
      "outputs": []
    },
    {
      "cell_type": "markdown",
      "metadata": {
        "id": "c4jwWlmDkolB",
        "colab_type": "text"
      },
      "source": [
        "-----"
      ]
    },
    {
      "cell_type": "markdown",
      "metadata": {
        "id": "kXzB8IW4wh_3",
        "colab_type": "text"
      },
      "source": [
        "# Part I: planning\n"
      ]
    },
    {
      "cell_type": "markdown",
      "metadata": {
        "id": "w4W_Rct2gYbN",
        "colab_type": "text"
      },
      "source": [
        "## Main tasks:\n",
        "- get acquaint with malware topic:\n",
        "    - types of malware\n",
        "    - frequency of appearance on different operating systems\n",
        "    - detection methods: static and dynamic\n",
        "    - trends\n",
        "- familiarity with machine learning topic: \n",
        "    - selection of different algorithms\n",
        "- most significant features pick\n",
        "- dataset pick:\n",
        "    - should be up to date (as current as possible)\n",
        "    - should contain proper features selected earlier\n",
        "- analysis of efficiency of chosen algorithms:\n",
        "    - statistical comparison of accuracy, true positives/false negatives/etc."
      ]
    },
    {
      "cell_type": "markdown",
      "metadata": {
        "id": "HGONaqPalQHq",
        "colab_type": "text"
      },
      "source": [
        "## Assignment of the task:\n",
        "### Michał Szczepaniak-Krupowski:\n",
        "A deeper look at malware – types and families, comparison between static and dynamic methods.\n",
        "\n",
        "The popularity of malware on different OS – why Windows users are the most threatened on the malicious software attack?\n",
        "\n",
        "### Kamil Kaliś:\n",
        "What is Machine Learning and why is it crucial in Cybersecurity – the need for accelerating the usage of ML in modern detecting malware.\n",
        "\n",
        "Comparison of different supervised learning algorithms – pros and cons in malware detection.\n",
        "\n",
        "### Jakub Burghardt:\n",
        "Malware detection methods – more detailed reasoning about static detection methods.\n",
        "\n",
        "A brief look at PE format (Portable Executable) – how can they be helpful in detecting malware with static methods?"
      ]
    },
    {
      "cell_type": "markdown",
      "metadata": {
        "id": "XCLfUg4anHAm",
        "colab_type": "text"
      },
      "source": [
        "-----"
      ]
    },
    {
      "cell_type": "markdown",
      "metadata": {
        "id": "2u92j9RanK5C",
        "colab_type": "text"
      },
      "source": [
        "# Mid-term presentation\n",
        "### link to presentation:\n",
        "https://drive.google.com/open?id=1x1DcDueWrDM8XHEd-sKMWykt5G3wMW9X-8NbKFgRhmk"
      ]
    },
    {
      "cell_type": "markdown",
      "metadata": {
        "id": "Ki4t_5tBMm4x",
        "colab_type": "text"
      },
      "source": [
        "# Project implementation:"
      ]
    },
    {
      "cell_type": "markdown",
      "metadata": {
        "id": "m-ELzWs2Jy6U",
        "colab_type": "text"
      },
      "source": [
        "># *'Before'* section:"
      ]
    },
    {
      "cell_type": "markdown",
      "metadata": {
        "id": "thgj7PYGJ8kK",
        "colab_type": "text"
      },
      "source": [
        "Code snippet to upload MalwareData.csv if not already in colab directory:"
      ]
    },
    {
      "cell_type": "code",
      "metadata": {
        "id": "NG3cOt_JJ7BF",
        "colab_type": "code",
        "colab": {}
      },
      "source": [
        "import os\n",
        "if not os.path.exists('Malware_Discovery_ML'):\n",
        "    !git clone https://github.com/kamkali/Malware_Discovery_ML\n",
        "    !unzip Malware_Discovery_ML/MalwareData.csv.zip\n",
        "    # !unzip Malware_Discovery_ML/KNN_logs.zip"
      ],
      "execution_count": 0,
      "outputs": []
    },
    {
      "cell_type": "markdown",
      "metadata": {
        "id": "AqUwz-vIKEyX",
        "colab_type": "text"
      },
      "source": [
        "Logger module to save outputs from functions:"
      ]
    },
    {
      "cell_type": "code",
      "metadata": {
        "id": "J8RVUXrVKMj0",
        "colab_type": "code",
        "colab": {}
      },
      "source": [
        "import logging\n",
        "import functools\n",
        "import time\n",
        "\n",
        "\"\"\"Logger module created by Kamil Kaliś\"\"\"\n",
        "\n",
        "\n",
        "def logger_setup(logger_file=\"results.log\"):\n",
        "    \"\"\"Sets up the logger.\n",
        "    Usage:\n",
        "        1. With wrapper @log_to_file(logger_file=<loggername.log>)\n",
        "        2. Set logger within module as:\n",
        "            2.1 log = get_logger(logger_file-<loggername.log>)\n",
        "            2.2 use 'log' variable to use logger and write them to file\"\"\"\n",
        "\n",
        "    logformat = \"[%(asctime)s %(levelname)s] %(message)s\"\n",
        "    dateformat = \"%d-%m-%y %H:%M:%S\"\n",
        "    logger = logging.getLogger(logger_file)\n",
        "    formatter = logging.Formatter(logformat)\n",
        "    formatter.datefmt = dateformat\n",
        "    fh = logging.FileHandler(logger_file, mode=\"a\")\n",
        "    fh.setFormatter(formatter)\n",
        "    sh = logging.StreamHandler()\n",
        "    sh.setFormatter(formatter)\n",
        "    logger.setLevel(logging.INFO)\n",
        "    logger.addHandler(fh)\n",
        "    logger.addHandler(sh)\n",
        "    logger.propagate = False\n",
        "\n",
        "\n",
        "def log_to_file(func=None, logger_file='results.log'):\n",
        "    def log_exec_time(original_func):\n",
        "        \"\"\"Wrapper for logging execution time of marked function.\n",
        "        Usage:\n",
        "        Add adnotation above function: '@log_to_file(<logger_file.log>)'\"\"\"\n",
        "\n",
        "        @functools.wraps(original_func)\n",
        "        def wrapper(*args, **kwargs):\n",
        "            log = logging.getLogger(logger_file)\n",
        "            log.info(f\"Running {original_func.__name__}...\")\n",
        "            start_time = time.time()\n",
        "            result = original_func(*args, **kwargs)\n",
        "            exec_time = time.time() - start_time\n",
        "            log.info(f\"Function {original_func.__name__} finished in {exec_time}s\")\n",
        "            return result\n",
        "\n",
        "        return wrapper\n",
        "\n",
        "    return log_exec_time if func is None else log_exec_time(func)\n",
        "\n",
        "\n",
        "def get_logger(logger_file='results.log'):\n",
        "    return logging.getLogger(logger_file)\n"
      ],
      "execution_count": 0,
      "outputs": []
    },
    {
      "cell_type": "markdown",
      "metadata": {
        "id": "XeXnUrh2nXPA",
        "colab_type": "text"
      },
      "source": [
        "--------"
      ]
    },
    {
      "cell_type": "markdown",
      "metadata": {
        "id": "ApZikBoQnYky",
        "colab_type": "text"
      },
      "source": [
        "> # K-Nearest Neighbors:\n",
        "*author: Kamil Kaliś*"
      ]
    },
    {
      "cell_type": "markdown",
      "metadata": {
        "id": "SBm7luWAlrdI",
        "colab_type": "text"
      },
      "source": [
        "One simple way to solve malware detection problems is to use the K-Nearest Neighbors algorithm. KNN model from the third-party library (*sklearn*) will be used.\n",
        "We also need data to work on and in this case, it is collected in *MalwareData.csv* file. To process data, *pandas* library and sklearn modules are used. To visualize data and charts *plotly* library will be used."
      ]
    },
    {
      "cell_type": "markdown",
      "metadata": {
        "id": "0g2tZPcnnZR_",
        "colab_type": "text"
      },
      "source": [
        "As mentioned above, let's start with importing adequate libraries and modules:"
      ]
    },
    {
      "cell_type": "code",
      "metadata": {
        "id": "x6HcpRdbnX_v",
        "colab_type": "code",
        "colab": {}
      },
      "source": [
        "import pandas as pd\n",
        "import plotly.graph_objects as go\n",
        "from plotly.offline import plot\n",
        "from sklearn import neighbors, preprocessing\n",
        "from sklearn.model_selection import train_test_split\n",
        "from sklearn.feature_selection import SelectKBest, f_classif\n",
        "from sklearn.metrics import confusion_matrix"
      ],
      "execution_count": 0,
      "outputs": []
    },
    {
      "cell_type": "code",
      "metadata": {
        "id": "EBSeYTMm7EYo",
        "colab_type": "code",
        "colab": {}
      },
      "source": [
        "LOGGER_FILE = 'KNN_results_runtime.log'"
      ],
      "execution_count": 0,
      "outputs": []
    },
    {
      "cell_type": "markdown",
      "metadata": {
        "id": "zXUfElNKnnfR",
        "colab_type": "text"
      },
      "source": [
        "Then, read data to work on:"
      ]
    },
    {
      "cell_type": "code",
      "metadata": {
        "id": "CSe3UA0voVYx",
        "colab_type": "code",
        "outputId": "a4593b63-5091-484d-bbeb-9ec4f79937e2",
        "colab": {
          "base_uri": "https://localhost:8080/",
          "height": 55
        }
      },
      "source": [
        "data = pd.read_csv('MalwareData.csv', sep='|')\n",
        "print(data.shape[0], data.shape[1])\n",
        "benign_files = data[data['legitimate'] == 1].count()\n",
        "malware_files = data[data['legitimate'] == 0].count()\n",
        "print(f\"Clean files count is {benign_files[1]} and malware files count is {malware_files[1]}\")"
      ],
      "execution_count": 6,
      "outputs": [
        {
          "output_type": "stream",
          "text": [
            "138047 57\n",
            "Clean files count is 41323 and malware files count is 96724\n"
          ],
          "name": "stdout"
        }
      ]
    },
    {
      "cell_type": "markdown",
      "metadata": {
        "id": "qfRHsxkdoEes",
        "colab_type": "text"
      },
      "source": [
        "MalwareData.csv contains 138 047 records as a whole, where 41 323 files are benign, clean files, and 96 724 files which are malicious. \n",
        "Data is reprezented with 56 features. Last 57'th feature represents a label *legitimate* classifies given sample:\n",
        "\n",
        "'1' – for clean file, '0' – for malware file.\n",
        "\n",
        "Knowing all this, we can start to process the data to more algorithm friendly form."
      ]
    },
    {
      "cell_type": "markdown",
      "metadata": {
        "id": "LyTpLt-a9Pfk",
        "colab_type": "text"
      },
      "source": [
        "## Function: malware_data_transform\n",
        "\n",
        "### **@description:** \n",
        "> Performs data transform as dropping insignificant columns and 'legitimate' column, which contains labels. It can normalize or standardize data.\n",
        "\n",
        "### **@params:**\n",
        "\n",
        ">*   optimize_data – enables data normalization or standardization: \n",
        "default is None\n",
        ">*   csv_data – cvs file to read and transform:\n",
        "default is MalwareData.csv\n",
        ">*   csv_sep – separator used in csv file:\n",
        "default is '|'\n",
        ">*   enable figures – enables plotly charts to show:\n",
        "default is False\n",
        "\n",
        "### **@returns:**\n",
        "\n",
        "\n",
        "> full_data.values, labels – tuple with values of features and labels for malicious and clean files\n",
        "\n",
        "\n",
        "\n",
        "\n",
        "\n",
        "\n"
      ]
    },
    {
      "cell_type": "code",
      "metadata": {
        "id": "VxFEUrZMqZJw",
        "colab_type": "code",
        "colab": {}
      },
      "source": [
        "@log_to_file(logger_file=LOGGER_FILE)\n",
        "def malware_data_transform(optimize_data=None, csv_data='MalwareData.csv', csv_sep='|', enable_figures=False):\n",
        "    log = get_logger(logger_file=LOGGER_FILE)\n",
        "    log.info(\"-Reading csv file\")\n",
        "    full_data = pd.read_csv(csv_data, sep=csv_sep)\n",
        "\n",
        "    pd.set_option(\"display.max_columns\", None)\n",
        "\n",
        "    labels = full_data['legitimate'].values\n",
        "    full_data: pd.DataFrame = full_data.drop(['Name', 'md5', 'legitimate'], axis=1)\n",
        "\n",
        "    if optimize_data == 'normalize':\n",
        "        log.info(\"--Data normalization processing...\")\n",
        "        full_data = pd.DataFrame(preprocessing.MinMaxScaler().fit_transform(full_data))\n",
        "    elif optimize_data == 'standardize':\n",
        "        log.info(\"--Data standardization processing...\")\n",
        "        full_data = pd.DataFrame(preprocessing.StandardScaler().fit_transform(full_data))\n",
        "\n",
        "    if enable_figures:\n",
        "        log.info(\"--Figures enabled\")\n",
        "        plot_bar_figures(full_data, optimize_data)\n",
        "\n",
        "    return full_data.values, labels\n"
      ],
      "execution_count": 0,
      "outputs": []
    },
    {
      "cell_type": "markdown",
      "metadata": {
        "id": "Pa7NfTXQBqyP",
        "colab_type": "text"
      },
      "source": [
        "When transforming data, it is good to see how it looks like. The next function provides a utility to show non-optimized data, normalized or standardized forms of data."
      ]
    },
    {
      "cell_type": "markdown",
      "metadata": {
        "id": "jyPQE8xcAiJU",
        "colab_type": "text"
      },
      "source": [
        "## Function: plot_bar_figures\n",
        "\n",
        "### **@description:** \n",
        "> Function to plot bar charts with features values\n",
        "### **@params:**\n",
        "\n",
        "\n",
        ">*   optimize_data – enables data normalization or standardization: \n",
        "default is None\n",
        ">*   full_data – transformed data\n",
        "\n",
        "### **@returns:**\n",
        "> Nothing\n",
        "\n",
        "\n",
        "\n",
        "\n",
        "\n",
        "\n"
      ]
    },
    {
      "cell_type": "code",
      "metadata": {
        "id": "U2WwdyG2qrZF",
        "colab_type": "code",
        "colab": {}
      },
      "source": [
        "def plot_bar_figures(full_data, optimize_data):\n",
        "    cols = full_data.keys()\n",
        "    if optimize_data == 'normalize':\n",
        "        cols = full_data.keys()\n",
        "        full_data_normalized = pd.DataFrame(preprocessing.MinMaxScaler().fit_transform(full_data))\n",
        "        trace_norm_mean: pd.DataFrame = full_data_normalized.mean()\n",
        "        trace_norm_std: pd.DataFrame = full_data_normalized.std()\n",
        "\n",
        "        # -------------------------------------------------\n",
        "        layout = go.Layout(title='Normalized data mean')\n",
        "        figure = go.Figure(go.Bar(y=trace_norm_mean,\n",
        "                                  x=cols\n",
        "                                  ), layout=layout)\n",
        "        figure.show()\n",
        "        # -------------------------------------------------\n",
        "        layout = go.Layout(title='Normalized data standard deviation')\n",
        "        figure = go.Figure(go.Bar(y=trace_norm_std,\n",
        "                                  x=cols\n",
        "                                  ), layout=layout)\n",
        "        figure.show()\n",
        "\n",
        "    elif optimize_data == 'standardize':\n",
        "        cols = full_data.keys()\n",
        "\n",
        "        full_data_standardized = pd.DataFrame(preprocessing.StandardScaler().fit_transform(full_data))\n",
        "        trace_stand_mean = full_data_standardized.mean()\n",
        "        trace_stand_std = full_data_standardized.std()\n",
        "\n",
        "        # -------------------------------------------------\n",
        "        layout = go.Layout(title='Standardized data mean')\n",
        "        figure = go.Figure(go.Bar(y=trace_stand_mean,\n",
        "                                  x=cols\n",
        "                                  ), layout=layout)\n",
        "        \n",
        "        figure.show()\n",
        "        # -------------------------------------------------\n",
        "        layout = go.Layout(title='Standardized data standard deviation')\n",
        "        figure = go.Figure(go.Bar(y=trace_stand_std,\n",
        "                                  x=cols\n",
        "                                  ), layout=layout)\n",
        "        figure.show()\n",
        "    else:\n",
        "        trace_mean = full_data.mean()\n",
        "        trace_std = full_data.std()\n",
        "\n",
        "        # -------------------------------------------------\n",
        "        layout = go.Layout(title='Data mean')\n",
        "        figure = go.Figure(go.Bar(y=trace_mean,\n",
        "                                  x=cols\n",
        "                                  ), layout=layout)\n",
        "        figure.show()\n",
        "        # -------------------------------------------------\n",
        "        layout = go.Layout(title='Data standard deviation')\n",
        "        figure = go.Figure(go.Bar(y=trace_std,\n",
        "                                  x=cols\n",
        "                                  ), layout=layout)\n",
        "        figure.show()"
      ],
      "execution_count": 0,
      "outputs": []
    },
    {
      "cell_type": "markdown",
      "metadata": {
        "id": "o3MhbAq22jAK",
        "colab_type": "text"
      },
      "source": [
        "The classifier is built using *sklearn* library. To get the best results, it needs to be parameterized and analyzed with different combinations of parameters, like:\n",
        "* Numbers of neighbors\n",
        "* Number of features and proper algorithm to choose them\n",
        "* Different metrics and weights in KNN algorithm\n",
        "* Non-optimized or normalized / standardized data"
      ]
    },
    {
      "cell_type": "markdown",
      "metadata": {
        "id": "E5fNfmY34kJR",
        "colab_type": "text"
      },
      "source": [
        "## Function: knn_classifier\n",
        "\n",
        "### **@description:** \n",
        "> Function to fit KNN classifier for different params and receive metrics, like accuracy, precision, recall percentage, false positives  and false negatives percentage.\n",
        "### **@params:**\n",
        "\n",
        "\n",
        ">*   input data – data applied to teach algorithm\n",
        ">*   labels – 0/1 label for each sample in input data\n",
        ">*   n_neighbors - upper limit of neighbors to classify with (descending order):\n",
        "default is 1\n",
        ">*   run_for_features – tuple of starting number of features to select, step, upper limit: default is (3, 30, 20)\n",
        "\n",
        "### **@returns:**\n",
        "> Nothing\n",
        "\n",
        "\n",
        "\n",
        "\n",
        "\n",
        "\n"
      ]
    },
    {
      "cell_type": "code",
      "metadata": {
        "id": "41iT-w-kq9ME",
        "colab_type": "code",
        "colab": {}
      },
      "source": [
        "@log_to_file(logger_file=LOGGER_FILE)\n",
        "def knn_classifier(input_data, labels, n_neighbors=1, run_for_features=(3, 30, 20)):\n",
        "    log = get_logger(logger_file=LOGGER_FILE)\n",
        "    for n in range(1, n_neighbors + 1):\n",
        "        log.info(f\"-Running KNN algorithm with n_neighbors={n_neighbors}\")\n",
        "        weights = ['distance', 'uniform']\n",
        "        metrics = ['chebyshev', 'euclidean', 'manhattan']\n",
        "        for metric in metrics:\n",
        "            for weight in weights:\n",
        "                classifier = neighbors.KNeighborsClassifier(n_neighbors, weights=weight, metric=metric)\n",
        "                for k in range(*run_for_features):\n",
        "                    start_time = time.time()\n",
        "                    log.info(f\"--Finding best {k} features\")\n",
        "                    best_features_data = SelectKBest(f_classif, k=k).fit_transform(input_data, labels)\n",
        "                    X_train, X_test, Y_train, Y_test = train_test_split(best_features_data, labels, test_size=0.3)\n",
        "\n",
        "                    log.info(f\"---Starting fitting for weight={weight} and metric={metric}\")\n",
        "                    classifier.fit(X_train, Y_train)\n",
        "\n",
        "                    score = classifier.score(X_test, Y_test)\n",
        "\n",
        "                    \"\"\" Confusion matrix \"\"\"\n",
        "                    log.info(\"----Measuring confusion matrix...\")\n",
        "                    result = classifier.predict(X_test)\n",
        "                    conf_matrix = confusion_matrix(Y_test, result)\n",
        "\n",
        "                    log.info(f\"-----KNN accuracy is: {score * 100}%\")\n",
        "\n",
        "                    precision = conf_matrix[0][0] / (conf_matrix[0][0] + conf_matrix[0][1]) * 100\n",
        "                    log.info(f\"-----Precision in percent: {precision}%\")\n",
        "\n",
        "                    recall = conf_matrix[0][0] / (conf_matrix[0][0] + conf_matrix[1][0]) * 100\n",
        "                    log.info(f\"-----Recall in percent: {recall}%\")\n",
        "\n",
        "                    false_positives = conf_matrix[0][1] / sum(conf_matrix[0]) * 100\n",
        "                    log.info(f\"-----False positives in percent: {false_positives}%\")\n",
        "\n",
        "                    false_negatives = conf_matrix[1][0] / sum(conf_matrix[1]) * 100\n",
        "                    log.info(f\"-----False negatives in percent: {false_negatives}%\")\n",
        "                    log.info(f\"Exec time for {k} features: {time.time() - start_time}s\")\n"
      ],
      "execution_count": 0,
      "outputs": []
    },
    {
      "cell_type": "markdown",
      "metadata": {
        "id": "RysrRygr60LH",
        "colab_type": "text"
      },
      "source": [
        "The output of functions is collected by the logger module. Output file with results is named *KNN_results_runtime.log*."
      ]
    },
    {
      "cell_type": "markdown",
      "metadata": {
        "id": "LrJBHPH07otM",
        "colab_type": "text"
      },
      "source": [
        "Below is the section, which evokes the above functions. It is *main* part of the program."
      ]
    },
    {
      "cell_type": "code",
      "metadata": {
        "id": "HIJ7vXmoK1MU",
        "colab_type": "code",
        "outputId": "3e244f88-dfab-4a28-8882-ccd69d3da460",
        "colab": {
          "base_uri": "https://localhost:8080/",
          "height": 55
        }
      },
      "source": [
        "logger_setup(logger_file=LOGGER_FILE)\n",
        "get_logger(logger_file=LOGGER_FILE).info(\"---------------Starting---------------\")\n",
        "get_logger(logger_file=LOGGER_FILE).info(\"--------------------------------------\")"
      ],
      "execution_count": 10,
      "outputs": [
        {
          "output_type": "stream",
          "text": [
            "[20-01-20 19:07:31 INFO] ---------------Starting---------------\n",
            "[20-01-20 19:07:31 INFO] --------------------------------------\n"
          ],
          "name": "stderr"
        }
      ]
    },
    {
      "cell_type": "code",
      "metadata": {
        "id": "tJJ7HnLMrara",
        "colab_type": "code",
        "outputId": "973b27aa-47a4-4f7f-e544-c28f40e0d29d",
        "colab": {
          "base_uri": "https://localhost:8080/",
          "height": 1000
        }
      },
      "source": [
        "input_data, labels = malware_data_transform(enable_figures=True)\n",
        "knn_classifier(input_data, labels, 1, (3, 24, 20))"
      ],
      "execution_count": 11,
      "outputs": [
        {
          "output_type": "stream",
          "text": [
            "[20-01-20 19:07:31 INFO] Running malware_data_transform...\n",
            "[20-01-20 19:07:31 INFO] -Reading csv file\n",
            "[20-01-20 19:07:32 INFO] --Figures enabled\n"
          ],
          "name": "stderr"
        },
        {
          "output_type": "display_data",
          "data": {
            "text/html": [
              "<html>\n",
              "<head><meta charset=\"utf-8\" /></head>\n",
              "<body>\n",
              "    <div>\n",
              "            <script src=\"https://cdnjs.cloudflare.com/ajax/libs/mathjax/2.7.5/MathJax.js?config=TeX-AMS-MML_SVG\"></script><script type=\"text/javascript\">if (window.MathJax) {MathJax.Hub.Config({SVG: {font: \"STIX-Web\"}});}</script>\n",
              "                <script type=\"text/javascript\">window.PlotlyConfig = {MathJaxConfig: 'local'};</script>\n",
              "        <script src=\"https://cdn.plot.ly/plotly-latest.min.js\"></script>    \n",
              "            <div id=\"0e9344a1-bc8b-4470-a335-00fb82397640\" class=\"plotly-graph-div\" style=\"height:525px; width:100%;\"></div>\n",
              "            <script type=\"text/javascript\">\n",
              "                \n",
              "                    window.PLOTLYENV=window.PLOTLYENV || {};\n",
              "                    \n",
              "                if (document.getElementById(\"0e9344a1-bc8b-4470-a335-00fb82397640\")) {\n",
              "                    Plotly.newPlot(\n",
              "                        '0e9344a1-bc8b-4470-a335-00fb82397640',\n",
              "                        [{\"type\": \"bar\", \"x\": [\"Machine\", \"SizeOfOptionalHeader\", \"Characteristics\", \"MajorLinkerVersion\", \"MinorLinkerVersion\", \"SizeOfCode\", \"SizeOfInitializedData\", \"SizeOfUninitializedData\", \"AddressOfEntryPoint\", \"BaseOfCode\", \"BaseOfData\", \"ImageBase\", \"SectionAlignment\", \"FileAlignment\", \"MajorOperatingSystemVersion\", \"MinorOperatingSystemVersion\", \"MajorImageVersion\", \"MinorImageVersion\", \"MajorSubsystemVersion\", \"MinorSubsystemVersion\", \"SizeOfImage\", \"SizeOfHeaders\", \"CheckSum\", \"Subsystem\", \"DllCharacteristics\", \"SizeOfStackReserve\", \"SizeOfStackCommit\", \"SizeOfHeapReserve\", \"SizeOfHeapCommit\", \"LoaderFlags\", \"NumberOfRvaAndSizes\", \"SectionsNb\", \"SectionsMeanEntropy\", \"SectionsMinEntropy\", \"SectionsMaxEntropy\", \"SectionsMeanRawsize\", \"SectionsMinRawsize\", \"SectionMaxRawsize\", \"SectionsMeanVirtualsize\", \"SectionsMinVirtualsize\", \"SectionMaxVirtualsize\", \"ImportsNbDLL\", \"ImportsNb\", \"ImportsNbOrdinal\", \"ExportNb\", \"ResourcesNb\", \"ResourcesMeanEntropy\", \"ResourcesMinEntropy\", \"ResourcesMaxEntropy\", \"ResourcesMeanSize\", \"ResourcesMinSize\", \"ResourcesMaxSize\", \"LoadConfigurationSize\", \"VersionInformationSize\"], \"y\": [4259.069273508298, 225.8456322846567, 4444.14599375575, 8.619774424652473, 3.819286185139844, 242595.5626561968, 450486.67476294306, 100952.50529891993, 171956.14344389955, 57798.44920932726, 221374.27168283265, 535087648618069.3, 7323.764341130195, 694.3866943866943, 5.09784348808739, 1.0929828246901419, 68.7519830202757, 64.85128253420936, 4.861894861894862, 1.4446022006997616, 815975.0379870624, 1297.8765203155447, 179795931.25568828, 2.1574029135004746, 22312.125283417965, 930247.7281505574, 5445.5428078842715, 1031957.5115141944, 34298.82206060255, 36085.05999405999, 79087.62005693713, 4.994509116460336, 4.637598809859562, 2.259625023207957, 6.958912884783592, 187151.2808781152, 19564.878382000334, 650680.5078198005, 188423.72694030218, 21098.36581019508, 634980.8137808138, 5.462936536107268, 113.2256477866234, 4.338341289560802, 23.674263113287502, 22.050700123870854, 4.000126786359949, 2.434541487118737, 5.5216096064038895, 55450.93495999901, 18180.816562475098, 246590.2539714735, 465674.9807239563, 12.363115460676436]}],\n",
              "                        {\"template\": {\"data\": {\"bar\": [{\"error_x\": {\"color\": \"#2a3f5f\"}, \"error_y\": {\"color\": \"#2a3f5f\"}, \"marker\": {\"line\": {\"color\": \"#E5ECF6\", \"width\": 0.5}}, \"type\": \"bar\"}], \"barpolar\": [{\"marker\": {\"line\": {\"color\": \"#E5ECF6\", \"width\": 0.5}}, \"type\": \"barpolar\"}], \"carpet\": [{\"aaxis\": {\"endlinecolor\": \"#2a3f5f\", \"gridcolor\": \"white\", \"linecolor\": \"white\", \"minorgridcolor\": \"white\", \"startlinecolor\": \"#2a3f5f\"}, \"baxis\": {\"endlinecolor\": \"#2a3f5f\", \"gridcolor\": \"white\", \"linecolor\": \"white\", \"minorgridcolor\": \"white\", \"startlinecolor\": \"#2a3f5f\"}, \"type\": \"carpet\"}], \"choropleth\": [{\"colorbar\": {\"outlinewidth\": 0, \"ticks\": \"\"}, \"type\": \"choropleth\"}], \"contour\": [{\"colorbar\": {\"outlinewidth\": 0, \"ticks\": \"\"}, \"colorscale\": [[0.0, \"#0d0887\"], [0.1111111111111111, \"#46039f\"], [0.2222222222222222, \"#7201a8\"], [0.3333333333333333, \"#9c179e\"], [0.4444444444444444, \"#bd3786\"], [0.5555555555555556, \"#d8576b\"], [0.6666666666666666, \"#ed7953\"], [0.7777777777777778, \"#fb9f3a\"], [0.8888888888888888, \"#fdca26\"], [1.0, \"#f0f921\"]], \"type\": \"contour\"}], \"contourcarpet\": [{\"colorbar\": {\"outlinewidth\": 0, \"ticks\": \"\"}, \"type\": \"contourcarpet\"}], \"heatmap\": [{\"colorbar\": {\"outlinewidth\": 0, \"ticks\": \"\"}, \"colorscale\": [[0.0, \"#0d0887\"], [0.1111111111111111, \"#46039f\"], [0.2222222222222222, \"#7201a8\"], [0.3333333333333333, \"#9c179e\"], [0.4444444444444444, \"#bd3786\"], [0.5555555555555556, \"#d8576b\"], [0.6666666666666666, \"#ed7953\"], [0.7777777777777778, \"#fb9f3a\"], [0.8888888888888888, \"#fdca26\"], [1.0, \"#f0f921\"]], \"type\": \"heatmap\"}], \"heatmapgl\": [{\"colorbar\": {\"outlinewidth\": 0, \"ticks\": \"\"}, \"colorscale\": [[0.0, \"#0d0887\"], [0.1111111111111111, \"#46039f\"], [0.2222222222222222, \"#7201a8\"], [0.3333333333333333, \"#9c179e\"], [0.4444444444444444, \"#bd3786\"], [0.5555555555555556, \"#d8576b\"], [0.6666666666666666, \"#ed7953\"], [0.7777777777777778, \"#fb9f3a\"], [0.8888888888888888, \"#fdca26\"], [1.0, \"#f0f921\"]], \"type\": \"heatmapgl\"}], \"histogram\": [{\"marker\": {\"colorbar\": {\"outlinewidth\": 0, \"ticks\": \"\"}}, \"type\": \"histogram\"}], \"histogram2d\": [{\"colorbar\": {\"outlinewidth\": 0, \"ticks\": \"\"}, \"colorscale\": [[0.0, \"#0d0887\"], [0.1111111111111111, \"#46039f\"], [0.2222222222222222, \"#7201a8\"], [0.3333333333333333, \"#9c179e\"], [0.4444444444444444, \"#bd3786\"], [0.5555555555555556, \"#d8576b\"], [0.6666666666666666, \"#ed7953\"], [0.7777777777777778, \"#fb9f3a\"], [0.8888888888888888, \"#fdca26\"], [1.0, \"#f0f921\"]], \"type\": \"histogram2d\"}], \"histogram2dcontour\": [{\"colorbar\": {\"outlinewidth\": 0, \"ticks\": \"\"}, \"colorscale\": [[0.0, \"#0d0887\"], [0.1111111111111111, \"#46039f\"], [0.2222222222222222, \"#7201a8\"], [0.3333333333333333, \"#9c179e\"], [0.4444444444444444, \"#bd3786\"], [0.5555555555555556, \"#d8576b\"], [0.6666666666666666, \"#ed7953\"], [0.7777777777777778, \"#fb9f3a\"], [0.8888888888888888, \"#fdca26\"], [1.0, \"#f0f921\"]], \"type\": \"histogram2dcontour\"}], \"mesh3d\": [{\"colorbar\": {\"outlinewidth\": 0, \"ticks\": \"\"}, \"type\": \"mesh3d\"}], \"parcoords\": [{\"line\": {\"colorbar\": {\"outlinewidth\": 0, \"ticks\": \"\"}}, \"type\": \"parcoords\"}], \"pie\": [{\"automargin\": true, \"type\": \"pie\"}], \"scatter\": [{\"marker\": {\"colorbar\": {\"outlinewidth\": 0, \"ticks\": \"\"}}, \"type\": \"scatter\"}], \"scatter3d\": [{\"line\": {\"colorbar\": {\"outlinewidth\": 0, \"ticks\": \"\"}}, \"marker\": {\"colorbar\": {\"outlinewidth\": 0, \"ticks\": \"\"}}, \"type\": \"scatter3d\"}], \"scattercarpet\": [{\"marker\": {\"colorbar\": {\"outlinewidth\": 0, \"ticks\": \"\"}}, \"type\": \"scattercarpet\"}], \"scattergeo\": [{\"marker\": {\"colorbar\": {\"outlinewidth\": 0, \"ticks\": \"\"}}, \"type\": \"scattergeo\"}], \"scattergl\": [{\"marker\": {\"colorbar\": {\"outlinewidth\": 0, \"ticks\": \"\"}}, \"type\": \"scattergl\"}], \"scattermapbox\": [{\"marker\": {\"colorbar\": {\"outlinewidth\": 0, \"ticks\": \"\"}}, \"type\": \"scattermapbox\"}], \"scatterpolar\": [{\"marker\": {\"colorbar\": {\"outlinewidth\": 0, \"ticks\": \"\"}}, \"type\": \"scatterpolar\"}], \"scatterpolargl\": [{\"marker\": {\"colorbar\": {\"outlinewidth\": 0, \"ticks\": \"\"}}, \"type\": \"scatterpolargl\"}], \"scatterternary\": [{\"marker\": {\"colorbar\": {\"outlinewidth\": 0, \"ticks\": \"\"}}, \"type\": \"scatterternary\"}], \"surface\": [{\"colorbar\": {\"outlinewidth\": 0, \"ticks\": \"\"}, \"colorscale\": [[0.0, \"#0d0887\"], [0.1111111111111111, \"#46039f\"], [0.2222222222222222, \"#7201a8\"], [0.3333333333333333, \"#9c179e\"], [0.4444444444444444, \"#bd3786\"], [0.5555555555555556, \"#d8576b\"], [0.6666666666666666, \"#ed7953\"], [0.7777777777777778, \"#fb9f3a\"], [0.8888888888888888, \"#fdca26\"], [1.0, \"#f0f921\"]], \"type\": \"surface\"}], \"table\": [{\"cells\": {\"fill\": {\"color\": \"#EBF0F8\"}, \"line\": {\"color\": \"white\"}}, \"header\": {\"fill\": {\"color\": \"#C8D4E3\"}, \"line\": {\"color\": \"white\"}}, \"type\": \"table\"}]}, \"layout\": {\"annotationdefaults\": {\"arrowcolor\": \"#2a3f5f\", \"arrowhead\": 0, \"arrowwidth\": 1}, \"coloraxis\": {\"colorbar\": {\"outlinewidth\": 0, \"ticks\": \"\"}}, \"colorscale\": {\"diverging\": [[0, \"#8e0152\"], [0.1, \"#c51b7d\"], [0.2, \"#de77ae\"], [0.3, \"#f1b6da\"], [0.4, \"#fde0ef\"], [0.5, \"#f7f7f7\"], [0.6, \"#e6f5d0\"], [0.7, \"#b8e186\"], [0.8, \"#7fbc41\"], [0.9, \"#4d9221\"], [1, \"#276419\"]], \"sequential\": [[0.0, \"#0d0887\"], [0.1111111111111111, \"#46039f\"], [0.2222222222222222, \"#7201a8\"], [0.3333333333333333, \"#9c179e\"], [0.4444444444444444, \"#bd3786\"], [0.5555555555555556, \"#d8576b\"], [0.6666666666666666, \"#ed7953\"], [0.7777777777777778, \"#fb9f3a\"], [0.8888888888888888, \"#fdca26\"], [1.0, \"#f0f921\"]], \"sequentialminus\": [[0.0, \"#0d0887\"], [0.1111111111111111, \"#46039f\"], [0.2222222222222222, \"#7201a8\"], [0.3333333333333333, \"#9c179e\"], [0.4444444444444444, \"#bd3786\"], [0.5555555555555556, \"#d8576b\"], [0.6666666666666666, \"#ed7953\"], [0.7777777777777778, \"#fb9f3a\"], [0.8888888888888888, \"#fdca26\"], [1.0, \"#f0f921\"]]}, \"colorway\": [\"#636efa\", \"#EF553B\", \"#00cc96\", \"#ab63fa\", \"#FFA15A\", \"#19d3f3\", \"#FF6692\", \"#B6E880\", \"#FF97FF\", \"#FECB52\"], \"font\": {\"color\": \"#2a3f5f\"}, \"geo\": {\"bgcolor\": \"white\", \"lakecolor\": \"white\", \"landcolor\": \"#E5ECF6\", \"showlakes\": true, \"showland\": true, \"subunitcolor\": \"white\"}, \"hoverlabel\": {\"align\": \"left\"}, \"hovermode\": \"closest\", \"mapbox\": {\"style\": \"light\"}, \"paper_bgcolor\": \"white\", \"plot_bgcolor\": \"#E5ECF6\", \"polar\": {\"angularaxis\": {\"gridcolor\": \"white\", \"linecolor\": \"white\", \"ticks\": \"\"}, \"bgcolor\": \"#E5ECF6\", \"radialaxis\": {\"gridcolor\": \"white\", \"linecolor\": \"white\", \"ticks\": \"\"}}, \"scene\": {\"xaxis\": {\"backgroundcolor\": \"#E5ECF6\", \"gridcolor\": \"white\", \"gridwidth\": 2, \"linecolor\": \"white\", \"showbackground\": true, \"ticks\": \"\", \"zerolinecolor\": \"white\"}, \"yaxis\": {\"backgroundcolor\": \"#E5ECF6\", \"gridcolor\": \"white\", \"gridwidth\": 2, \"linecolor\": \"white\", \"showbackground\": true, \"ticks\": \"\", \"zerolinecolor\": \"white\"}, \"zaxis\": {\"backgroundcolor\": \"#E5ECF6\", \"gridcolor\": \"white\", \"gridwidth\": 2, \"linecolor\": \"white\", \"showbackground\": true, \"ticks\": \"\", \"zerolinecolor\": \"white\"}}, \"shapedefaults\": {\"line\": {\"color\": \"#2a3f5f\"}}, \"ternary\": {\"aaxis\": {\"gridcolor\": \"white\", \"linecolor\": \"white\", \"ticks\": \"\"}, \"baxis\": {\"gridcolor\": \"white\", \"linecolor\": \"white\", \"ticks\": \"\"}, \"bgcolor\": \"#E5ECF6\", \"caxis\": {\"gridcolor\": \"white\", \"linecolor\": \"white\", \"ticks\": \"\"}}, \"title\": {\"x\": 0.05}, \"xaxis\": {\"automargin\": true, \"gridcolor\": \"white\", \"linecolor\": \"white\", \"ticks\": \"\", \"title\": {\"standoff\": 15}, \"zerolinecolor\": \"white\", \"zerolinewidth\": 2}, \"yaxis\": {\"automargin\": true, \"gridcolor\": \"white\", \"linecolor\": \"white\", \"ticks\": \"\", \"title\": {\"standoff\": 15}, \"zerolinecolor\": \"white\", \"zerolinewidth\": 2}}}, \"title\": {\"text\": \"Data mean\"}},\n",
              "                        {\"responsive\": true}\n",
              "                    ).then(function(){\n",
              "                            \n",
              "var gd = document.getElementById('0e9344a1-bc8b-4470-a335-00fb82397640');\n",
              "var x = new MutationObserver(function (mutations, observer) {{\n",
              "        var display = window.getComputedStyle(gd).display;\n",
              "        if (!display || display === 'none') {{\n",
              "            console.log([gd, 'removed!']);\n",
              "            Plotly.purge(gd);\n",
              "            observer.disconnect();\n",
              "        }}\n",
              "}});\n",
              "\n",
              "// Listen for the removal of the full notebook cells\n",
              "var notebookContainer = gd.closest('#notebook-container');\n",
              "if (notebookContainer) {{\n",
              "    x.observe(notebookContainer, {childList: true});\n",
              "}}\n",
              "\n",
              "// Listen for the clearing of the current output cell\n",
              "var outputEl = gd.closest('.output');\n",
              "if (outputEl) {{\n",
              "    x.observe(outputEl, {childList: true});\n",
              "}}\n",
              "\n",
              "                        })\n",
              "                };\n",
              "                \n",
              "            </script>\n",
              "        </div>\n",
              "</body>\n",
              "</html>"
            ]
          },
          "metadata": {
            "tags": []
          }
        },
        {
          "output_type": "display_data",
          "data": {
            "text/html": [
              "<html>\n",
              "<head><meta charset=\"utf-8\" /></head>\n",
              "<body>\n",
              "    <div>\n",
              "            <script src=\"https://cdnjs.cloudflare.com/ajax/libs/mathjax/2.7.5/MathJax.js?config=TeX-AMS-MML_SVG\"></script><script type=\"text/javascript\">if (window.MathJax) {MathJax.Hub.Config({SVG: {font: \"STIX-Web\"}});}</script>\n",
              "                <script type=\"text/javascript\">window.PlotlyConfig = {MathJaxConfig: 'local'};</script>\n",
              "        <script src=\"https://cdn.plot.ly/plotly-latest.min.js\"></script>    \n",
              "            <div id=\"883d4162-d35a-4a24-9c1f-21ed07140fb8\" class=\"plotly-graph-div\" style=\"height:525px; width:100%;\"></div>\n",
              "            <script type=\"text/javascript\">\n",
              "                \n",
              "                    window.PLOTLYENV=window.PLOTLYENV || {};\n",
              "                    \n",
              "                if (document.getElementById(\"883d4162-d35a-4a24-9c1f-21ed07140fb8\")) {\n",
              "                    Plotly.newPlot(\n",
              "                        '883d4162-d35a-4a24-9c1f-21ed07140fb8',\n",
              "                        [{\"type\": \"bar\", \"x\": [\"Machine\", \"SizeOfOptionalHeader\", \"Characteristics\", \"MajorLinkerVersion\", \"MinorLinkerVersion\", \"SizeOfCode\", \"SizeOfInitializedData\", \"SizeOfUninitializedData\", \"AddressOfEntryPoint\", \"BaseOfCode\", \"BaseOfData\", \"ImageBase\", \"SectionAlignment\", \"FileAlignment\", \"MajorOperatingSystemVersion\", \"MinorOperatingSystemVersion\", \"MajorImageVersion\", \"MinorImageVersion\", \"MajorSubsystemVersion\", \"MinorSubsystemVersion\", \"SizeOfImage\", \"SizeOfHeaders\", \"CheckSum\", \"Subsystem\", \"DllCharacteristics\", \"SizeOfStackReserve\", \"SizeOfStackCommit\", \"SizeOfHeapReserve\", \"SizeOfHeapCommit\", \"LoaderFlags\", \"NumberOfRvaAndSizes\", \"SectionsNb\", \"SectionsMeanEntropy\", \"SectionsMinEntropy\", \"SectionsMaxEntropy\", \"SectionsMeanRawsize\", \"SectionsMinRawsize\", \"SectionMaxRawsize\", \"SectionsMeanVirtualsize\", \"SectionsMinVirtualsize\", \"SectionMaxVirtualsize\", \"ImportsNbDLL\", \"ImportsNb\", \"ImportsNbOrdinal\", \"ExportNb\", \"ResourcesNb\", \"ResourcesMeanEntropy\", \"ResourcesMinEntropy\", \"ResourcesMaxEntropy\", \"ResourcesMeanSize\", \"ResourcesMinSize\", \"ResourcesMaxSize\", \"LoadConfigurationSize\", \"VersionInformationSize\"], \"y\": [10880.347245376208, 5.121398630509971, 8186.782523681734, 4.088756512543184, 11.862674830949203, 5754485.404037357, 21015985.183456965, 16352876.18206114, 3430552.5002441085, 5527658.054143652, 2188020.094605205, 9.929589435801232e+16, 625768.6894616858, 1289.9210984643664, 99.22019151162063, 77.5510770756867, 1185.8860419819814, 1139.6913970815312, 0.6477202307648442, 181.180392664942, 6530064.851916466, 5595.523020963893, 597619186.4064535, 0.4529401132491726, 15440.574817283776, 555008.0632430781, 18047.242105229536, 181774.39528055905, 7906877.492302277, 8904748.09415926, 14669006.496434085, 1.9153292515008877, 1.0994644288632032, 1.8318933942622138, 1.0442968350015671, 7735218.223678169, 354086.8249980658, 30072259.73921732, 4180152.822568605, 354314.10777250334, 12854626.762898482, 4.362811008202623, 123.13470419124151, 34.77674454963192, 252.09395796744096, 136.49424383806627, 1.1129807840413473, 0.8155769062552004, 1.5974025641898237, 7799163.383786961, 6502369.1854296345, 21248603.863616556, 26089866.925890185, 6.798878196596645]}],\n",
              "                        {\"template\": {\"data\": {\"bar\": [{\"error_x\": {\"color\": \"#2a3f5f\"}, \"error_y\": {\"color\": \"#2a3f5f\"}, \"marker\": {\"line\": {\"color\": \"#E5ECF6\", \"width\": 0.5}}, \"type\": \"bar\"}], \"barpolar\": [{\"marker\": {\"line\": {\"color\": \"#E5ECF6\", \"width\": 0.5}}, \"type\": \"barpolar\"}], \"carpet\": [{\"aaxis\": {\"endlinecolor\": \"#2a3f5f\", \"gridcolor\": \"white\", \"linecolor\": \"white\", \"minorgridcolor\": \"white\", \"startlinecolor\": \"#2a3f5f\"}, \"baxis\": {\"endlinecolor\": \"#2a3f5f\", \"gridcolor\": \"white\", \"linecolor\": \"white\", \"minorgridcolor\": \"white\", \"startlinecolor\": \"#2a3f5f\"}, \"type\": \"carpet\"}], \"choropleth\": [{\"colorbar\": {\"outlinewidth\": 0, \"ticks\": \"\"}, \"type\": \"choropleth\"}], \"contour\": [{\"colorbar\": {\"outlinewidth\": 0, \"ticks\": \"\"}, \"colorscale\": [[0.0, \"#0d0887\"], [0.1111111111111111, \"#46039f\"], [0.2222222222222222, \"#7201a8\"], [0.3333333333333333, \"#9c179e\"], [0.4444444444444444, \"#bd3786\"], [0.5555555555555556, \"#d8576b\"], [0.6666666666666666, \"#ed7953\"], [0.7777777777777778, \"#fb9f3a\"], [0.8888888888888888, \"#fdca26\"], [1.0, \"#f0f921\"]], \"type\": \"contour\"}], \"contourcarpet\": [{\"colorbar\": {\"outlinewidth\": 0, \"ticks\": \"\"}, \"type\": \"contourcarpet\"}], \"heatmap\": [{\"colorbar\": {\"outlinewidth\": 0, \"ticks\": \"\"}, \"colorscale\": [[0.0, \"#0d0887\"], [0.1111111111111111, \"#46039f\"], [0.2222222222222222, \"#7201a8\"], [0.3333333333333333, \"#9c179e\"], [0.4444444444444444, \"#bd3786\"], [0.5555555555555556, \"#d8576b\"], [0.6666666666666666, \"#ed7953\"], [0.7777777777777778, \"#fb9f3a\"], [0.8888888888888888, \"#fdca26\"], [1.0, \"#f0f921\"]], \"type\": \"heatmap\"}], \"heatmapgl\": [{\"colorbar\": {\"outlinewidth\": 0, \"ticks\": \"\"}, \"colorscale\": [[0.0, \"#0d0887\"], [0.1111111111111111, \"#46039f\"], [0.2222222222222222, \"#7201a8\"], [0.3333333333333333, \"#9c179e\"], [0.4444444444444444, \"#bd3786\"], [0.5555555555555556, \"#d8576b\"], [0.6666666666666666, \"#ed7953\"], [0.7777777777777778, \"#fb9f3a\"], [0.8888888888888888, \"#fdca26\"], [1.0, \"#f0f921\"]], \"type\": \"heatmapgl\"}], \"histogram\": [{\"marker\": {\"colorbar\": {\"outlinewidth\": 0, \"ticks\": \"\"}}, \"type\": \"histogram\"}], \"histogram2d\": [{\"colorbar\": {\"outlinewidth\": 0, \"ticks\": \"\"}, \"colorscale\": [[0.0, \"#0d0887\"], [0.1111111111111111, \"#46039f\"], [0.2222222222222222, \"#7201a8\"], [0.3333333333333333, \"#9c179e\"], [0.4444444444444444, \"#bd3786\"], [0.5555555555555556, \"#d8576b\"], [0.6666666666666666, \"#ed7953\"], [0.7777777777777778, \"#fb9f3a\"], [0.8888888888888888, \"#fdca26\"], [1.0, \"#f0f921\"]], \"type\": \"histogram2d\"}], \"histogram2dcontour\": [{\"colorbar\": {\"outlinewidth\": 0, \"ticks\": \"\"}, \"colorscale\": [[0.0, \"#0d0887\"], [0.1111111111111111, \"#46039f\"], [0.2222222222222222, \"#7201a8\"], [0.3333333333333333, \"#9c179e\"], [0.4444444444444444, \"#bd3786\"], [0.5555555555555556, \"#d8576b\"], [0.6666666666666666, \"#ed7953\"], [0.7777777777777778, \"#fb9f3a\"], [0.8888888888888888, \"#fdca26\"], [1.0, \"#f0f921\"]], \"type\": \"histogram2dcontour\"}], \"mesh3d\": [{\"colorbar\": {\"outlinewidth\": 0, \"ticks\": \"\"}, \"type\": \"mesh3d\"}], \"parcoords\": [{\"line\": {\"colorbar\": {\"outlinewidth\": 0, \"ticks\": \"\"}}, \"type\": \"parcoords\"}], \"pie\": [{\"automargin\": true, \"type\": \"pie\"}], \"scatter\": [{\"marker\": {\"colorbar\": {\"outlinewidth\": 0, \"ticks\": \"\"}}, \"type\": \"scatter\"}], \"scatter3d\": [{\"line\": {\"colorbar\": {\"outlinewidth\": 0, \"ticks\": \"\"}}, \"marker\": {\"colorbar\": {\"outlinewidth\": 0, \"ticks\": \"\"}}, \"type\": \"scatter3d\"}], \"scattercarpet\": [{\"marker\": {\"colorbar\": {\"outlinewidth\": 0, \"ticks\": \"\"}}, \"type\": \"scattercarpet\"}], \"scattergeo\": [{\"marker\": {\"colorbar\": {\"outlinewidth\": 0, \"ticks\": \"\"}}, \"type\": \"scattergeo\"}], \"scattergl\": [{\"marker\": {\"colorbar\": {\"outlinewidth\": 0, \"ticks\": \"\"}}, \"type\": \"scattergl\"}], \"scattermapbox\": [{\"marker\": {\"colorbar\": {\"outlinewidth\": 0, \"ticks\": \"\"}}, \"type\": \"scattermapbox\"}], \"scatterpolar\": [{\"marker\": {\"colorbar\": {\"outlinewidth\": 0, \"ticks\": \"\"}}, \"type\": \"scatterpolar\"}], \"scatterpolargl\": [{\"marker\": {\"colorbar\": {\"outlinewidth\": 0, \"ticks\": \"\"}}, \"type\": \"scatterpolargl\"}], \"scatterternary\": [{\"marker\": {\"colorbar\": {\"outlinewidth\": 0, \"ticks\": \"\"}}, \"type\": \"scatterternary\"}], \"surface\": [{\"colorbar\": {\"outlinewidth\": 0, \"ticks\": \"\"}, \"colorscale\": [[0.0, \"#0d0887\"], [0.1111111111111111, \"#46039f\"], [0.2222222222222222, \"#7201a8\"], [0.3333333333333333, \"#9c179e\"], [0.4444444444444444, \"#bd3786\"], [0.5555555555555556, \"#d8576b\"], [0.6666666666666666, \"#ed7953\"], [0.7777777777777778, \"#fb9f3a\"], [0.8888888888888888, \"#fdca26\"], [1.0, \"#f0f921\"]], \"type\": \"surface\"}], \"table\": [{\"cells\": {\"fill\": {\"color\": \"#EBF0F8\"}, \"line\": {\"color\": \"white\"}}, \"header\": {\"fill\": {\"color\": \"#C8D4E3\"}, \"line\": {\"color\": \"white\"}}, \"type\": \"table\"}]}, \"layout\": {\"annotationdefaults\": {\"arrowcolor\": \"#2a3f5f\", \"arrowhead\": 0, \"arrowwidth\": 1}, \"coloraxis\": {\"colorbar\": {\"outlinewidth\": 0, \"ticks\": \"\"}}, \"colorscale\": {\"diverging\": [[0, \"#8e0152\"], [0.1, \"#c51b7d\"], [0.2, \"#de77ae\"], [0.3, \"#f1b6da\"], [0.4, \"#fde0ef\"], [0.5, \"#f7f7f7\"], [0.6, \"#e6f5d0\"], [0.7, \"#b8e186\"], [0.8, \"#7fbc41\"], [0.9, \"#4d9221\"], [1, \"#276419\"]], \"sequential\": [[0.0, \"#0d0887\"], [0.1111111111111111, \"#46039f\"], [0.2222222222222222, \"#7201a8\"], [0.3333333333333333, \"#9c179e\"], [0.4444444444444444, \"#bd3786\"], [0.5555555555555556, \"#d8576b\"], [0.6666666666666666, \"#ed7953\"], [0.7777777777777778, \"#fb9f3a\"], [0.8888888888888888, \"#fdca26\"], [1.0, \"#f0f921\"]], \"sequentialminus\": [[0.0, \"#0d0887\"], [0.1111111111111111, \"#46039f\"], [0.2222222222222222, \"#7201a8\"], [0.3333333333333333, \"#9c179e\"], [0.4444444444444444, \"#bd3786\"], [0.5555555555555556, \"#d8576b\"], [0.6666666666666666, \"#ed7953\"], [0.7777777777777778, \"#fb9f3a\"], [0.8888888888888888, \"#fdca26\"], [1.0, \"#f0f921\"]]}, \"colorway\": [\"#636efa\", \"#EF553B\", \"#00cc96\", \"#ab63fa\", \"#FFA15A\", \"#19d3f3\", \"#FF6692\", \"#B6E880\", \"#FF97FF\", \"#FECB52\"], \"font\": {\"color\": \"#2a3f5f\"}, \"geo\": {\"bgcolor\": \"white\", \"lakecolor\": \"white\", \"landcolor\": \"#E5ECF6\", \"showlakes\": true, \"showland\": true, \"subunitcolor\": \"white\"}, \"hoverlabel\": {\"align\": \"left\"}, \"hovermode\": \"closest\", \"mapbox\": {\"style\": \"light\"}, \"paper_bgcolor\": \"white\", \"plot_bgcolor\": \"#E5ECF6\", \"polar\": {\"angularaxis\": {\"gridcolor\": \"white\", \"linecolor\": \"white\", \"ticks\": \"\"}, \"bgcolor\": \"#E5ECF6\", \"radialaxis\": {\"gridcolor\": \"white\", \"linecolor\": \"white\", \"ticks\": \"\"}}, \"scene\": {\"xaxis\": {\"backgroundcolor\": \"#E5ECF6\", \"gridcolor\": \"white\", \"gridwidth\": 2, \"linecolor\": \"white\", \"showbackground\": true, \"ticks\": \"\", \"zerolinecolor\": \"white\"}, \"yaxis\": {\"backgroundcolor\": \"#E5ECF6\", \"gridcolor\": \"white\", \"gridwidth\": 2, \"linecolor\": \"white\", \"showbackground\": true, \"ticks\": \"\", \"zerolinecolor\": \"white\"}, \"zaxis\": {\"backgroundcolor\": \"#E5ECF6\", \"gridcolor\": \"white\", \"gridwidth\": 2, \"linecolor\": \"white\", \"showbackground\": true, \"ticks\": \"\", \"zerolinecolor\": \"white\"}}, \"shapedefaults\": {\"line\": {\"color\": \"#2a3f5f\"}}, \"ternary\": {\"aaxis\": {\"gridcolor\": \"white\", \"linecolor\": \"white\", \"ticks\": \"\"}, \"baxis\": {\"gridcolor\": \"white\", \"linecolor\": \"white\", \"ticks\": \"\"}, \"bgcolor\": \"#E5ECF6\", \"caxis\": {\"gridcolor\": \"white\", \"linecolor\": \"white\", \"ticks\": \"\"}}, \"title\": {\"x\": 0.05}, \"xaxis\": {\"automargin\": true, \"gridcolor\": \"white\", \"linecolor\": \"white\", \"ticks\": \"\", \"title\": {\"standoff\": 15}, \"zerolinecolor\": \"white\", \"zerolinewidth\": 2}, \"yaxis\": {\"automargin\": true, \"gridcolor\": \"white\", \"linecolor\": \"white\", \"ticks\": \"\", \"title\": {\"standoff\": 15}, \"zerolinecolor\": \"white\", \"zerolinewidth\": 2}}}, \"title\": {\"text\": \"Data standard deviation\"}},\n",
              "                        {\"responsive\": true}\n",
              "                    ).then(function(){\n",
              "                            \n",
              "var gd = document.getElementById('883d4162-d35a-4a24-9c1f-21ed07140fb8');\n",
              "var x = new MutationObserver(function (mutations, observer) {{\n",
              "        var display = window.getComputedStyle(gd).display;\n",
              "        if (!display || display === 'none') {{\n",
              "            console.log([gd, 'removed!']);\n",
              "            Plotly.purge(gd);\n",
              "            observer.disconnect();\n",
              "        }}\n",
              "}});\n",
              "\n",
              "// Listen for the removal of the full notebook cells\n",
              "var notebookContainer = gd.closest('#notebook-container');\n",
              "if (notebookContainer) {{\n",
              "    x.observe(notebookContainer, {childList: true});\n",
              "}}\n",
              "\n",
              "// Listen for the clearing of the current output cell\n",
              "var outputEl = gd.closest('.output');\n",
              "if (outputEl) {{\n",
              "    x.observe(outputEl, {childList: true});\n",
              "}}\n",
              "\n",
              "                        })\n",
              "                };\n",
              "                \n",
              "            </script>\n",
              "        </div>\n",
              "</body>\n",
              "</html>"
            ]
          },
          "metadata": {
            "tags": []
          }
        },
        {
          "output_type": "stream",
          "text": [
            "[20-01-20 19:07:33 INFO] Function malware_data_transform finished in 1.7889420986175537s\n",
            "[20-01-20 19:07:33 INFO] Running knn_classifier...\n",
            "[20-01-20 19:07:33 INFO] -Running KNN algorithm with n_neighbors=1\n",
            "[20-01-20 19:07:33 INFO] --Finding best 3 features\n",
            "[20-01-20 19:07:33 INFO] ---Starting fitting for weight=distance and metric=chebyshev\n",
            "[20-01-20 19:07:39 INFO] ----Measuring confusion matrix...\n",
            "[20-01-20 19:07:41 INFO] -----KNN accuracy is: 96.4336593021852%\n",
            "[20-01-20 19:07:41 INFO] -----Precision in percent: 97.39534883720931%\n",
            "[20-01-20 19:07:41 INFO] -----Recall in percent: 97.51293549499827%\n",
            "[20-01-20 19:07:41 INFO] -----False positives in percent: 2.604651162790698%\n",
            "[20-01-20 19:07:41 INFO] -----False negatives in percent: 5.8192090395480225%\n",
            "[20-01-20 19:07:41 INFO] Exec time for 3 features: 7.847141981124878s\n",
            "[20-01-20 19:07:41 INFO] --Finding best 23 features\n",
            "[20-01-20 19:07:41 INFO] ---Starting fitting for weight=distance and metric=chebyshev\n",
            "[20-01-20 19:07:55 INFO] ----Measuring confusion matrix...\n",
            "[20-01-20 19:08:05 INFO] -----KNN accuracy is: 97.4912471326814%\n",
            "[20-01-20 19:08:05 INFO] -----Precision in percent: 98.30066256994748%\n",
            "[20-01-20 19:08:05 INFO] -----Recall in percent: 98.13558160257728%\n",
            "[20-01-20 19:08:05 INFO] -----False positives in percent: 1.699337430052525%\n",
            "[20-01-20 19:08:05 INFO] -----False negatives in percent: 4.427804004558034%\n",
            "[20-01-20 19:08:05 INFO] Exec time for 23 features: 24.22573494911194s\n",
            "[20-01-20 19:08:05 INFO] --Finding best 3 features\n",
            "[20-01-20 19:08:05 INFO] ---Starting fitting for weight=uniform and metric=chebyshev\n",
            "[20-01-20 19:08:12 INFO] ----Measuring confusion matrix...\n",
            "[20-01-20 19:08:14 INFO] -----KNN accuracy is: 96.593021851986%\n",
            "[20-01-20 19:08:14 INFO] -----Precision in percent: 97.6614045390169%\n",
            "[20-01-20 19:08:14 INFO] -----Recall in percent: 97.46948907122665%\n",
            "[20-01-20 19:08:14 INFO] -----False positives in percent: 2.3385954609831083%\n",
            "[20-01-20 19:08:14 INFO] -----False negatives in percent: 5.888015401893149%\n",
            "[20-01-20 19:08:14 INFO] Exec time for 3 features: 9.399003744125366s\n",
            "[20-01-20 19:08:14 INFO] --Finding best 23 features\n",
            "[20-01-20 19:08:14 INFO] ---Starting fitting for weight=uniform and metric=chebyshev\n",
            "[20-01-20 19:08:29 INFO] ----Measuring confusion matrix...\n",
            "[20-01-20 19:08:38 INFO] -----KNN accuracy is: 97.6747555233611%\n",
            "[20-01-20 19:08:38 INFO] -----Precision in percent: 98.46619437375335%\n",
            "[20-01-20 19:08:38 INFO] -----Recall in percent: 98.22635424885931%\n",
            "[20-01-20 19:08:38 INFO] -----False positives in percent: 1.533805626246647%\n",
            "[20-01-20 19:08:38 INFO] -----False negatives in percent: 4.19064602415498%\n",
            "[20-01-20 19:08:38 INFO] Exec time for 23 features: 23.24976944923401s\n",
            "[20-01-20 19:08:38 INFO] --Finding best 3 features\n",
            "[20-01-20 19:08:38 INFO] ---Starting fitting for weight=distance and metric=euclidean\n",
            "[20-01-20 19:08:44 INFO] ----Measuring confusion matrix...\n",
            "[20-01-20 19:08:45 INFO] -----KNN accuracy is: 96.5374864179645%\n",
            "[20-01-20 19:08:45 INFO] -----Precision in percent: 97.55853650125866%\n",
            "[20-01-20 19:08:45 INFO] -----Recall in percent: 97.49801840300513%\n",
            "[20-01-20 19:08:45 INFO] -----False positives in percent: 2.441463498741336%\n",
            "[20-01-20 19:08:45 INFO] -----False negatives in percent: 5.84729381443299%\n",
            "[20-01-20 19:08:45 INFO] Exec time for 3 features: 7.346361398696899s\n",
            "[20-01-20 19:08:45 INFO] --Finding best 23 features\n",
            "[20-01-20 19:08:45 INFO] ---Starting fitting for weight=distance and metric=euclidean\n",
            "[20-01-20 19:09:00 INFO] ----Measuring confusion matrix...\n",
            "[20-01-20 19:09:09 INFO] -----KNN accuracy is: 97.69407219606423%\n",
            "[20-01-20 19:09:09 INFO] -----Precision in percent: 98.4726493659076%\n",
            "[20-01-20 19:09:09 INFO] -----Recall in percent: 98.2316442605998%\n",
            "[20-01-20 19:09:09 INFO] -----False positives in percent: 1.5273506340924012%\n",
            "[20-01-20 19:09:09 INFO] -----False negatives in percent: 4.111894838089132%\n",
            "[20-01-20 19:09:09 INFO] Exec time for 23 features: 23.8876850605011s\n",
            "[20-01-20 19:09:09 INFO] --Finding best 3 features\n",
            "[20-01-20 19:09:09 INFO] ---Starting fitting for weight=uniform and metric=euclidean\n",
            "[20-01-20 19:09:16 INFO] ----Measuring confusion matrix...\n",
            "[20-01-20 19:09:18 INFO] -----KNN accuracy is: 96.52782808161294%\n",
            "[20-01-20 19:09:18 INFO] -----Precision in percent: 97.55229040622298%\n",
            "[20-01-20 19:09:18 INFO] -----Recall in percent: 97.47814972190555%\n",
            "[20-01-20 19:09:18 INFO] -----False positives in percent: 2.4477095937770095%\n",
            "[20-01-20 19:09:18 INFO] -----False negatives in percent: 5.844675740592474%\n",
            "[20-01-20 19:09:18 INFO] Exec time for 3 features: 9.410200119018555s\n",
            "[20-01-20 19:09:18 INFO] --Finding best 23 features\n",
            "[20-01-20 19:09:18 INFO] ---Starting fitting for weight=uniform and metric=euclidean\n",
            "[20-01-20 19:09:31 INFO] ----Measuring confusion matrix...\n",
            "[20-01-20 19:09:41 INFO] -----KNN accuracy is: 97.6506096824822%\n",
            "[20-01-20 19:09:41 INFO] -----Precision in percent: 98.50220872446162%\n",
            "[20-01-20 19:09:41 INFO] -----Recall in percent: 98.14655617069565%\n",
            "[20-01-20 19:09:41 INFO] -----False positives in percent: 1.4977912755383764%\n",
            "[20-01-20 19:09:41 INFO] -----False negatives in percent: 4.333145751266179%\n",
            "[20-01-20 19:09:41 INFO] Exec time for 23 features: 22.98038911819458s\n",
            "[20-01-20 19:09:41 INFO] --Finding best 3 features\n",
            "[20-01-20 19:09:41 INFO] ---Starting fitting for weight=distance and metric=manhattan\n",
            "[20-01-20 19:09:48 INFO] ----Measuring confusion matrix...\n",
            "[20-01-20 19:09:50 INFO] -----KNN accuracy is: 96.6944343836774%\n",
            "[20-01-20 19:09:50 INFO] -----Precision in percent: 97.68413059984815%\n",
            "[20-01-20 19:09:50 INFO] -----Recall in percent: 97.59318644184684%\n",
            "[20-01-20 19:09:50 INFO] -----False positives in percent: 2.3158694001518603%\n",
            "[20-01-20 19:09:50 INFO] -----False negatives in percent: 5.610481472550438%\n",
            "[20-01-20 19:09:50 INFO] Exec time for 3 features: 8.474524974822998s\n",
            "[20-01-20 19:09:50 INFO] --Finding best 23 features\n",
            "[20-01-20 19:09:50 INFO] ---Starting fitting for weight=distance and metric=manhattan\n",
            "[20-01-20 19:10:03 INFO] ----Measuring confusion matrix...\n",
            "[20-01-20 19:10:12 INFO] -----KNN accuracy is: 97.98382228661113%\n",
            "[20-01-20 19:10:12 INFO] -----Precision in percent: 98.52880374862183%\n",
            "[20-01-20 19:10:12 INFO] -----Recall in percent: 98.59334597483192%\n",
            "[20-01-20 19:10:12 INFO] -----False positives in percent: 1.4711962513781698%\n",
            "[20-01-20 19:10:12 INFO] -----False negatives in percent: 3.2927124525865548%\n",
            "[20-01-20 19:10:12 INFO] Exec time for 23 features: 22.042607069015503s\n",
            "[20-01-20 19:10:12 INFO] --Finding best 3 features\n",
            "[20-01-20 19:10:12 INFO] ---Starting fitting for weight=uniform and metric=manhattan\n",
            "[20-01-20 19:10:19 INFO] ----Measuring confusion matrix...\n",
            "[20-01-20 19:10:21 INFO] -----KNN accuracy is: 96.66304479053484%\n",
            "[20-01-20 19:10:21 INFO] -----Precision in percent: 97.64920492875335%\n",
            "[20-01-20 19:10:21 INFO] -----Recall in percent: 97.5954592363261%\n",
            "[20-01-20 19:10:21 INFO] -----False positives in percent: 2.3507950712466443%\n",
            "[20-01-20 19:10:21 INFO] -----False negatives in percent: 5.654882291076774%\n",
            "[20-01-20 19:10:21 INFO] Exec time for 3 features: 9.685320377349854s\n",
            "[20-01-20 19:10:21 INFO] --Finding best 23 features\n",
            "[20-01-20 19:10:22 INFO] ---Starting fitting for weight=uniform and metric=manhattan\n",
            "[20-01-20 19:10:35 INFO] ----Measuring confusion matrix...\n",
            "[20-01-20 19:10:45 INFO] -----KNN accuracy is: 97.84377640951347%\n",
            "[20-01-20 19:10:45 INFO] -----Precision in percent: 98.38204413232813%\n",
            "[20-01-20 19:10:45 INFO] -----Recall in percent: 98.54147989793807%\n",
            "[20-01-20 19:10:45 INFO] -----False positives in percent: 1.6179558676718646%\n",
            "[20-01-20 19:10:45 INFO] -----False negatives in percent: 3.420669577874818%\n",
            "[20-01-20 19:10:45 INFO] Exec time for 23 features: 23.489351987838745s\n",
            "[20-01-20 19:10:45 INFO] Function knn_classifier finished in 192.06835961341858s\n"
          ],
          "name": "stderr"
        }
      ]
    },
    {
      "cell_type": "markdown",
      "metadata": {
        "id": "D_58pSne78kG",
        "colab_type": "text"
      },
      "source": [
        "When data is a raw input without optimization, charts show that the value of one feature dominates another one. The function executes quickly, because it may enter this dominant value and pretend based on its value. However, results, in this case, may not be the most accurate."
      ]
    },
    {
      "cell_type": "code",
      "metadata": {
        "id": "a5ev6HRhzvnH",
        "colab_type": "code",
        "outputId": "410ed2c3-62dc-4482-eaa7-315b8512fa62",
        "colab": {
          "base_uri": "https://localhost:8080/",
          "height": 1000
        }
      },
      "source": [
        "get_logger(logger_file=LOGGER_FILE).info(\"--------------------------------------\")\n",
        "input_data, labels = malware_data_transform(optimize_data='normalize', enable_figures=True)\n",
        "knn_classifier(input_data, labels, 1, (3, 24, 20))"
      ],
      "execution_count": 12,
      "outputs": [
        {
          "output_type": "stream",
          "text": [
            "[20-01-20 19:10:45 INFO] --------------------------------------\n",
            "[20-01-20 19:10:45 INFO] Running malware_data_transform...\n",
            "[20-01-20 19:10:45 INFO] -Reading csv file\n",
            "[20-01-20 19:10:46 INFO] --Data normalization processing...\n",
            "[20-01-20 19:10:46 INFO] --Figures enabled\n"
          ],
          "name": "stderr"
        },
        {
          "output_type": "display_data",
          "data": {
            "text/html": [
              "<html>\n",
              "<head><meta charset=\"utf-8\" /></head>\n",
              "<body>\n",
              "    <div>\n",
              "            <script src=\"https://cdnjs.cloudflare.com/ajax/libs/mathjax/2.7.5/MathJax.js?config=TeX-AMS-MML_SVG\"></script><script type=\"text/javascript\">if (window.MathJax) {MathJax.Hub.Config({SVG: {font: \"STIX-Web\"}});}</script>\n",
              "                <script type=\"text/javascript\">window.PlotlyConfig = {MathJaxConfig: 'local'};</script>\n",
              "        <script src=\"https://cdn.plot.ly/plotly-latest.min.js\"></script>    \n",
              "            <div id=\"01f0ed6d-0c56-4322-ad36-1f5c26d2a8a9\" class=\"plotly-graph-div\" style=\"height:525px; width:100%;\"></div>\n",
              "            <script type=\"text/javascript\">\n",
              "                \n",
              "                    window.PLOTLYENV=window.PLOTLYENV || {};\n",
              "                    \n",
              "                if (document.getElementById(\"01f0ed6d-0c56-4322-ad36-1f5c26d2a8a9\")) {\n",
              "                    Plotly.newPlot(\n",
              "                        '01f0ed6d-0c56-4322-ad36-1f5c26d2a8a9',\n",
              "                        [{\"type\": \"bar\", \"x\": [0, 1, 2, 3, 4, 5, 6, 7, 8, 9, 10, 11, 12, 13, 14, 15, 16, 17, 18, 19, 20, 21, 22, 23, 24, 25, 26, 27, 28, 29, 30, 31, 32, 33, 34, 35, 36, 37, 38, 39, 40, 41, 42, 43, 44, 45, 46, 47, 48, 49, 50, 51, 52, 53], \"y\": [0.11525796177237313, 0.014419002223880272, 0.08965157710075866, 0.03380303695939558, 0.014977592882899324, 0.00013339785097250998, 0.00010488712744958372, 2.3504982267475397e-05, 0.00016003597625767355, 2.8490229538947172e-05, 0.0008246834266291285, 2.900717338323494e-05, 5.444709369751537e-05, 0.010353887276930322, 0.00013827285147263138, 6.155222304960032e-05, 0.0024023195436685325, 0.0031616264886035537, 0.42909942910007987, 3.0348785728987863e-05, 0.0005786910438098045, 0.0010812898485402284, 0.041862002410341166, 0.07716019423355232, 0.45071358442542486, 0.02772354269476406, 0.002596637157385002, 0.0757039518733833, 1.6511064458274067e-05, 1.549847469473754e-05, 2.324321627637662e-05, 0.10242331067854434, 0.5800219391416609, 0.2826100621095702, 0.8698647856073974, 0.00013068022376314987, 0.0006746346013516239, 0.00015148635191777998, 0.0001316108365107565, 0.0007275129972922164, 0.00014784582872744918, 0.019510487628947037, 0.025547303200954417, 0.0012574902288568124, 0.0014265041644542522, 0.0028659605047978427, 0.5000331702234168, 0.3043282282944656, 0.6902012026402097, 2.295231386066596e-05, 7.525424202238237e-06, 5.7414632078824044e-05, 0.00010842340554594728, 0.4755044407948735]}],\n",
              "                        {\"template\": {\"data\": {\"bar\": [{\"error_x\": {\"color\": \"#2a3f5f\"}, \"error_y\": {\"color\": \"#2a3f5f\"}, \"marker\": {\"line\": {\"color\": \"#E5ECF6\", \"width\": 0.5}}, \"type\": \"bar\"}], \"barpolar\": [{\"marker\": {\"line\": {\"color\": \"#E5ECF6\", \"width\": 0.5}}, \"type\": \"barpolar\"}], \"carpet\": [{\"aaxis\": {\"endlinecolor\": \"#2a3f5f\", \"gridcolor\": \"white\", \"linecolor\": \"white\", \"minorgridcolor\": \"white\", \"startlinecolor\": \"#2a3f5f\"}, \"baxis\": {\"endlinecolor\": \"#2a3f5f\", \"gridcolor\": \"white\", \"linecolor\": \"white\", \"minorgridcolor\": \"white\", \"startlinecolor\": \"#2a3f5f\"}, \"type\": \"carpet\"}], \"choropleth\": [{\"colorbar\": {\"outlinewidth\": 0, \"ticks\": \"\"}, \"type\": \"choropleth\"}], \"contour\": [{\"colorbar\": {\"outlinewidth\": 0, \"ticks\": \"\"}, \"colorscale\": [[0.0, \"#0d0887\"], [0.1111111111111111, \"#46039f\"], [0.2222222222222222, \"#7201a8\"], [0.3333333333333333, \"#9c179e\"], [0.4444444444444444, \"#bd3786\"], [0.5555555555555556, \"#d8576b\"], [0.6666666666666666, \"#ed7953\"], [0.7777777777777778, \"#fb9f3a\"], [0.8888888888888888, \"#fdca26\"], [1.0, \"#f0f921\"]], \"type\": \"contour\"}], \"contourcarpet\": [{\"colorbar\": {\"outlinewidth\": 0, \"ticks\": \"\"}, \"type\": \"contourcarpet\"}], \"heatmap\": [{\"colorbar\": {\"outlinewidth\": 0, \"ticks\": \"\"}, \"colorscale\": [[0.0, \"#0d0887\"], [0.1111111111111111, \"#46039f\"], [0.2222222222222222, \"#7201a8\"], [0.3333333333333333, \"#9c179e\"], [0.4444444444444444, \"#bd3786\"], [0.5555555555555556, \"#d8576b\"], [0.6666666666666666, \"#ed7953\"], [0.7777777777777778, \"#fb9f3a\"], [0.8888888888888888, \"#fdca26\"], [1.0, \"#f0f921\"]], \"type\": \"heatmap\"}], \"heatmapgl\": [{\"colorbar\": {\"outlinewidth\": 0, \"ticks\": \"\"}, \"colorscale\": [[0.0, \"#0d0887\"], [0.1111111111111111, \"#46039f\"], [0.2222222222222222, \"#7201a8\"], [0.3333333333333333, \"#9c179e\"], [0.4444444444444444, \"#bd3786\"], [0.5555555555555556, \"#d8576b\"], [0.6666666666666666, \"#ed7953\"], [0.7777777777777778, \"#fb9f3a\"], [0.8888888888888888, \"#fdca26\"], [1.0, \"#f0f921\"]], \"type\": \"heatmapgl\"}], \"histogram\": [{\"marker\": {\"colorbar\": {\"outlinewidth\": 0, \"ticks\": \"\"}}, \"type\": \"histogram\"}], \"histogram2d\": [{\"colorbar\": {\"outlinewidth\": 0, \"ticks\": \"\"}, \"colorscale\": [[0.0, \"#0d0887\"], [0.1111111111111111, \"#46039f\"], [0.2222222222222222, \"#7201a8\"], [0.3333333333333333, \"#9c179e\"], [0.4444444444444444, \"#bd3786\"], [0.5555555555555556, \"#d8576b\"], [0.6666666666666666, \"#ed7953\"], [0.7777777777777778, \"#fb9f3a\"], [0.8888888888888888, \"#fdca26\"], [1.0, \"#f0f921\"]], \"type\": \"histogram2d\"}], \"histogram2dcontour\": [{\"colorbar\": {\"outlinewidth\": 0, \"ticks\": \"\"}, \"colorscale\": [[0.0, \"#0d0887\"], [0.1111111111111111, \"#46039f\"], [0.2222222222222222, \"#7201a8\"], [0.3333333333333333, \"#9c179e\"], [0.4444444444444444, \"#bd3786\"], [0.5555555555555556, \"#d8576b\"], [0.6666666666666666, \"#ed7953\"], [0.7777777777777778, \"#fb9f3a\"], [0.8888888888888888, \"#fdca26\"], [1.0, \"#f0f921\"]], \"type\": \"histogram2dcontour\"}], \"mesh3d\": [{\"colorbar\": {\"outlinewidth\": 0, \"ticks\": \"\"}, \"type\": \"mesh3d\"}], \"parcoords\": [{\"line\": {\"colorbar\": {\"outlinewidth\": 0, \"ticks\": \"\"}}, \"type\": \"parcoords\"}], \"pie\": [{\"automargin\": true, \"type\": \"pie\"}], \"scatter\": [{\"marker\": {\"colorbar\": {\"outlinewidth\": 0, \"ticks\": \"\"}}, \"type\": \"scatter\"}], \"scatter3d\": [{\"line\": {\"colorbar\": {\"outlinewidth\": 0, \"ticks\": \"\"}}, \"marker\": {\"colorbar\": {\"outlinewidth\": 0, \"ticks\": \"\"}}, \"type\": \"scatter3d\"}], \"scattercarpet\": [{\"marker\": {\"colorbar\": {\"outlinewidth\": 0, \"ticks\": \"\"}}, \"type\": \"scattercarpet\"}], \"scattergeo\": [{\"marker\": {\"colorbar\": {\"outlinewidth\": 0, \"ticks\": \"\"}}, \"type\": \"scattergeo\"}], \"scattergl\": [{\"marker\": {\"colorbar\": {\"outlinewidth\": 0, \"ticks\": \"\"}}, \"type\": \"scattergl\"}], \"scattermapbox\": [{\"marker\": {\"colorbar\": {\"outlinewidth\": 0, \"ticks\": \"\"}}, \"type\": \"scattermapbox\"}], \"scatterpolar\": [{\"marker\": {\"colorbar\": {\"outlinewidth\": 0, \"ticks\": \"\"}}, \"type\": \"scatterpolar\"}], \"scatterpolargl\": [{\"marker\": {\"colorbar\": {\"outlinewidth\": 0, \"ticks\": \"\"}}, \"type\": \"scatterpolargl\"}], \"scatterternary\": [{\"marker\": {\"colorbar\": {\"outlinewidth\": 0, \"ticks\": \"\"}}, \"type\": \"scatterternary\"}], \"surface\": [{\"colorbar\": {\"outlinewidth\": 0, \"ticks\": \"\"}, \"colorscale\": [[0.0, \"#0d0887\"], [0.1111111111111111, \"#46039f\"], [0.2222222222222222, \"#7201a8\"], [0.3333333333333333, \"#9c179e\"], [0.4444444444444444, \"#bd3786\"], [0.5555555555555556, \"#d8576b\"], [0.6666666666666666, \"#ed7953\"], [0.7777777777777778, \"#fb9f3a\"], [0.8888888888888888, \"#fdca26\"], [1.0, \"#f0f921\"]], \"type\": \"surface\"}], \"table\": [{\"cells\": {\"fill\": {\"color\": \"#EBF0F8\"}, \"line\": {\"color\": \"white\"}}, \"header\": {\"fill\": {\"color\": \"#C8D4E3\"}, \"line\": {\"color\": \"white\"}}, \"type\": \"table\"}]}, \"layout\": {\"annotationdefaults\": {\"arrowcolor\": \"#2a3f5f\", \"arrowhead\": 0, \"arrowwidth\": 1}, \"coloraxis\": {\"colorbar\": {\"outlinewidth\": 0, \"ticks\": \"\"}}, \"colorscale\": {\"diverging\": [[0, \"#8e0152\"], [0.1, \"#c51b7d\"], [0.2, \"#de77ae\"], [0.3, \"#f1b6da\"], [0.4, \"#fde0ef\"], [0.5, \"#f7f7f7\"], [0.6, \"#e6f5d0\"], [0.7, \"#b8e186\"], [0.8, \"#7fbc41\"], [0.9, \"#4d9221\"], [1, \"#276419\"]], \"sequential\": [[0.0, \"#0d0887\"], [0.1111111111111111, \"#46039f\"], [0.2222222222222222, \"#7201a8\"], [0.3333333333333333, \"#9c179e\"], [0.4444444444444444, \"#bd3786\"], [0.5555555555555556, \"#d8576b\"], [0.6666666666666666, \"#ed7953\"], [0.7777777777777778, \"#fb9f3a\"], [0.8888888888888888, \"#fdca26\"], [1.0, \"#f0f921\"]], \"sequentialminus\": [[0.0, \"#0d0887\"], [0.1111111111111111, \"#46039f\"], [0.2222222222222222, \"#7201a8\"], [0.3333333333333333, \"#9c179e\"], [0.4444444444444444, \"#bd3786\"], [0.5555555555555556, \"#d8576b\"], [0.6666666666666666, \"#ed7953\"], [0.7777777777777778, \"#fb9f3a\"], [0.8888888888888888, \"#fdca26\"], [1.0, \"#f0f921\"]]}, \"colorway\": [\"#636efa\", \"#EF553B\", \"#00cc96\", \"#ab63fa\", \"#FFA15A\", \"#19d3f3\", \"#FF6692\", \"#B6E880\", \"#FF97FF\", \"#FECB52\"], \"font\": {\"color\": \"#2a3f5f\"}, \"geo\": {\"bgcolor\": \"white\", \"lakecolor\": \"white\", \"landcolor\": \"#E5ECF6\", \"showlakes\": true, \"showland\": true, \"subunitcolor\": \"white\"}, \"hoverlabel\": {\"align\": \"left\"}, \"hovermode\": \"closest\", \"mapbox\": {\"style\": \"light\"}, \"paper_bgcolor\": \"white\", \"plot_bgcolor\": \"#E5ECF6\", \"polar\": {\"angularaxis\": {\"gridcolor\": \"white\", \"linecolor\": \"white\", \"ticks\": \"\"}, \"bgcolor\": \"#E5ECF6\", \"radialaxis\": {\"gridcolor\": \"white\", \"linecolor\": \"white\", \"ticks\": \"\"}}, \"scene\": {\"xaxis\": {\"backgroundcolor\": \"#E5ECF6\", \"gridcolor\": \"white\", \"gridwidth\": 2, \"linecolor\": \"white\", \"showbackground\": true, \"ticks\": \"\", \"zerolinecolor\": \"white\"}, \"yaxis\": {\"backgroundcolor\": \"#E5ECF6\", \"gridcolor\": \"white\", \"gridwidth\": 2, \"linecolor\": \"white\", \"showbackground\": true, \"ticks\": \"\", \"zerolinecolor\": \"white\"}, \"zaxis\": {\"backgroundcolor\": \"#E5ECF6\", \"gridcolor\": \"white\", \"gridwidth\": 2, \"linecolor\": \"white\", \"showbackground\": true, \"ticks\": \"\", \"zerolinecolor\": \"white\"}}, \"shapedefaults\": {\"line\": {\"color\": \"#2a3f5f\"}}, \"ternary\": {\"aaxis\": {\"gridcolor\": \"white\", \"linecolor\": \"white\", \"ticks\": \"\"}, \"baxis\": {\"gridcolor\": \"white\", \"linecolor\": \"white\", \"ticks\": \"\"}, \"bgcolor\": \"#E5ECF6\", \"caxis\": {\"gridcolor\": \"white\", \"linecolor\": \"white\", \"ticks\": \"\"}}, \"title\": {\"x\": 0.05}, \"xaxis\": {\"automargin\": true, \"gridcolor\": \"white\", \"linecolor\": \"white\", \"ticks\": \"\", \"title\": {\"standoff\": 15}, \"zerolinecolor\": \"white\", \"zerolinewidth\": 2}, \"yaxis\": {\"automargin\": true, \"gridcolor\": \"white\", \"linecolor\": \"white\", \"ticks\": \"\", \"title\": {\"standoff\": 15}, \"zerolinecolor\": \"white\", \"zerolinewidth\": 2}}}, \"title\": {\"text\": \"Normalized data mean\"}},\n",
              "                        {\"responsive\": true}\n",
              "                    ).then(function(){\n",
              "                            \n",
              "var gd = document.getElementById('01f0ed6d-0c56-4322-ad36-1f5c26d2a8a9');\n",
              "var x = new MutationObserver(function (mutations, observer) {{\n",
              "        var display = window.getComputedStyle(gd).display;\n",
              "        if (!display || display === 'none') {{\n",
              "            console.log([gd, 'removed!']);\n",
              "            Plotly.purge(gd);\n",
              "            observer.disconnect();\n",
              "        }}\n",
              "}});\n",
              "\n",
              "// Listen for the removal of the full notebook cells\n",
              "var notebookContainer = gd.closest('#notebook-container');\n",
              "if (notebookContainer) {{\n",
              "    x.observe(notebookContainer, {childList: true});\n",
              "}}\n",
              "\n",
              "// Listen for the clearing of the current output cell\n",
              "var outputEl = gd.closest('.output');\n",
              "if (outputEl) {{\n",
              "    x.observe(outputEl, {childList: true});\n",
              "}}\n",
              "\n",
              "                        })\n",
              "                };\n",
              "                \n",
              "            </script>\n",
              "        </div>\n",
              "</body>\n",
              "</html>"
            ]
          },
          "metadata": {
            "tags": []
          }
        },
        {
          "output_type": "display_data",
          "data": {
            "text/html": [
              "<html>\n",
              "<head><meta charset=\"utf-8\" /></head>\n",
              "<body>\n",
              "    <div>\n",
              "            <script src=\"https://cdnjs.cloudflare.com/ajax/libs/mathjax/2.7.5/MathJax.js?config=TeX-AMS-MML_SVG\"></script><script type=\"text/javascript\">if (window.MathJax) {MathJax.Hub.Config({SVG: {font: \"STIX-Web\"}});}</script>\n",
              "                <script type=\"text/javascript\">window.PlotlyConfig = {MathJaxConfig: 'local'};</script>\n",
              "        <script src=\"https://cdn.plot.ly/plotly-latest.min.js\"></script>    \n",
              "            <div id=\"04f46d7c-6cf6-485b-8b7c-fb2ff09c3ec9\" class=\"plotly-graph-div\" style=\"height:525px; width:100%;\"></div>\n",
              "            <script type=\"text/javascript\">\n",
              "                \n",
              "                    window.PLOTLYENV=window.PLOTLYENV || {};\n",
              "                    \n",
              "                if (document.getElementById(\"04f46d7c-6cf6-485b-8b7c-fb2ff09c3ec9\")) {\n",
              "                    Plotly.newPlot(\n",
              "                        '04f46d7c-6cf6-485b-8b7c-fb2ff09c3ec9',\n",
              "                        [{\"type\": \"bar\", \"x\": [0, 1, 2, 3, 4, 5, 6, 7, 8, 9, 10, 11, 12, 13, 14, 15, 16, 17, 18, 19, 20, 21, 22, 23, 24, 25, 26, 27, 28, 29, 30, 31, 32, 33, 34, 35, 36, 37, 38, 39, 40, 41, 42, 43, 44, 45, 46, 47, 48, 49, 50, 51, 52, 53], \"y\": [0.3193339764438102, 0.040010926800859145, 0.16522598889331502, 0.01603433926488062, 0.04652029345466581, 0.0031642622723434444, 0.0048931665239107846, 0.003807474252804525, 0.0031927432628112034, 0.002724714052542495, 0.00815101003127249, 0.005382843785838599, 0.004662340611650206, 0.019687440452822873, 0.00269122793510657, 0.0043673524286579335, 0.04143701883306202, 0.05556217809502565, 0.07196891452940694, 0.003806310770272139, 0.0046311343722327, 0.007119130950461916, 0.13914405986329756, 0.030196007549989464, 0.3119055998965396, 0.0165405292285406, 0.008605595638861435, 0.013334890166123044, 0.0038062812684476373, 0.003824574852391811, 0.004311484789965446, 0.049111006448735575, 0.13750941299421218, 0.22911390191441966, 0.13053720567127142, 0.005403039926510992, 0.012209594118765748, 0.007001877245749881, 0.002919767158066822, 0.012217444746533222, 0.0029930084586719027, 0.015581467886435461, 0.0277831011261903, 0.010080215811516937, 0.015190043261529118, 0.01774034882220397, 0.13912741759573388, 0.10195064501131057, 0.1996753210559248, 0.0032282385493486534, 0.0026914680246499924, 0.0049474006104097915, 0.006074520512026901, 0.26149531525392894]}],\n",
              "                        {\"template\": {\"data\": {\"bar\": [{\"error_x\": {\"color\": \"#2a3f5f\"}, \"error_y\": {\"color\": \"#2a3f5f\"}, \"marker\": {\"line\": {\"color\": \"#E5ECF6\", \"width\": 0.5}}, \"type\": \"bar\"}], \"barpolar\": [{\"marker\": {\"line\": {\"color\": \"#E5ECF6\", \"width\": 0.5}}, \"type\": \"barpolar\"}], \"carpet\": [{\"aaxis\": {\"endlinecolor\": \"#2a3f5f\", \"gridcolor\": \"white\", \"linecolor\": \"white\", \"minorgridcolor\": \"white\", \"startlinecolor\": \"#2a3f5f\"}, \"baxis\": {\"endlinecolor\": \"#2a3f5f\", \"gridcolor\": \"white\", \"linecolor\": \"white\", \"minorgridcolor\": \"white\", \"startlinecolor\": \"#2a3f5f\"}, \"type\": \"carpet\"}], \"choropleth\": [{\"colorbar\": {\"outlinewidth\": 0, \"ticks\": \"\"}, \"type\": \"choropleth\"}], \"contour\": [{\"colorbar\": {\"outlinewidth\": 0, \"ticks\": \"\"}, \"colorscale\": [[0.0, \"#0d0887\"], [0.1111111111111111, \"#46039f\"], [0.2222222222222222, \"#7201a8\"], [0.3333333333333333, \"#9c179e\"], [0.4444444444444444, \"#bd3786\"], [0.5555555555555556, \"#d8576b\"], [0.6666666666666666, \"#ed7953\"], [0.7777777777777778, \"#fb9f3a\"], [0.8888888888888888, \"#fdca26\"], [1.0, \"#f0f921\"]], \"type\": \"contour\"}], \"contourcarpet\": [{\"colorbar\": {\"outlinewidth\": 0, \"ticks\": \"\"}, \"type\": \"contourcarpet\"}], \"heatmap\": [{\"colorbar\": {\"outlinewidth\": 0, \"ticks\": \"\"}, \"colorscale\": [[0.0, \"#0d0887\"], [0.1111111111111111, \"#46039f\"], [0.2222222222222222, \"#7201a8\"], [0.3333333333333333, \"#9c179e\"], [0.4444444444444444, \"#bd3786\"], [0.5555555555555556, \"#d8576b\"], [0.6666666666666666, \"#ed7953\"], [0.7777777777777778, \"#fb9f3a\"], [0.8888888888888888, \"#fdca26\"], [1.0, \"#f0f921\"]], \"type\": \"heatmap\"}], \"heatmapgl\": [{\"colorbar\": {\"outlinewidth\": 0, \"ticks\": \"\"}, \"colorscale\": [[0.0, \"#0d0887\"], [0.1111111111111111, \"#46039f\"], [0.2222222222222222, \"#7201a8\"], [0.3333333333333333, \"#9c179e\"], [0.4444444444444444, \"#bd3786\"], [0.5555555555555556, \"#d8576b\"], [0.6666666666666666, \"#ed7953\"], [0.7777777777777778, \"#fb9f3a\"], [0.8888888888888888, \"#fdca26\"], [1.0, \"#f0f921\"]], \"type\": \"heatmapgl\"}], \"histogram\": [{\"marker\": {\"colorbar\": {\"outlinewidth\": 0, \"ticks\": \"\"}}, \"type\": \"histogram\"}], \"histogram2d\": [{\"colorbar\": {\"outlinewidth\": 0, \"ticks\": \"\"}, \"colorscale\": [[0.0, \"#0d0887\"], [0.1111111111111111, \"#46039f\"], [0.2222222222222222, \"#7201a8\"], [0.3333333333333333, \"#9c179e\"], [0.4444444444444444, \"#bd3786\"], [0.5555555555555556, \"#d8576b\"], [0.6666666666666666, \"#ed7953\"], [0.7777777777777778, \"#fb9f3a\"], [0.8888888888888888, \"#fdca26\"], [1.0, \"#f0f921\"]], \"type\": \"histogram2d\"}], \"histogram2dcontour\": [{\"colorbar\": {\"outlinewidth\": 0, \"ticks\": \"\"}, \"colorscale\": [[0.0, \"#0d0887\"], [0.1111111111111111, \"#46039f\"], [0.2222222222222222, \"#7201a8\"], [0.3333333333333333, \"#9c179e\"], [0.4444444444444444, \"#bd3786\"], [0.5555555555555556, \"#d8576b\"], [0.6666666666666666, \"#ed7953\"], [0.7777777777777778, \"#fb9f3a\"], [0.8888888888888888, \"#fdca26\"], [1.0, \"#f0f921\"]], \"type\": \"histogram2dcontour\"}], \"mesh3d\": [{\"colorbar\": {\"outlinewidth\": 0, \"ticks\": \"\"}, \"type\": \"mesh3d\"}], \"parcoords\": [{\"line\": {\"colorbar\": {\"outlinewidth\": 0, \"ticks\": \"\"}}, \"type\": \"parcoords\"}], \"pie\": [{\"automargin\": true, \"type\": \"pie\"}], \"scatter\": [{\"marker\": {\"colorbar\": {\"outlinewidth\": 0, \"ticks\": \"\"}}, \"type\": \"scatter\"}], \"scatter3d\": [{\"line\": {\"colorbar\": {\"outlinewidth\": 0, \"ticks\": \"\"}}, \"marker\": {\"colorbar\": {\"outlinewidth\": 0, \"ticks\": \"\"}}, \"type\": \"scatter3d\"}], \"scattercarpet\": [{\"marker\": {\"colorbar\": {\"outlinewidth\": 0, \"ticks\": \"\"}}, \"type\": \"scattercarpet\"}], \"scattergeo\": [{\"marker\": {\"colorbar\": {\"outlinewidth\": 0, \"ticks\": \"\"}}, \"type\": \"scattergeo\"}], \"scattergl\": [{\"marker\": {\"colorbar\": {\"outlinewidth\": 0, \"ticks\": \"\"}}, \"type\": \"scattergl\"}], \"scattermapbox\": [{\"marker\": {\"colorbar\": {\"outlinewidth\": 0, \"ticks\": \"\"}}, \"type\": \"scattermapbox\"}], \"scatterpolar\": [{\"marker\": {\"colorbar\": {\"outlinewidth\": 0, \"ticks\": \"\"}}, \"type\": \"scatterpolar\"}], \"scatterpolargl\": [{\"marker\": {\"colorbar\": {\"outlinewidth\": 0, \"ticks\": \"\"}}, \"type\": \"scatterpolargl\"}], \"scatterternary\": [{\"marker\": {\"colorbar\": {\"outlinewidth\": 0, \"ticks\": \"\"}}, \"type\": \"scatterternary\"}], \"surface\": [{\"colorbar\": {\"outlinewidth\": 0, \"ticks\": \"\"}, \"colorscale\": [[0.0, \"#0d0887\"], [0.1111111111111111, \"#46039f\"], [0.2222222222222222, \"#7201a8\"], [0.3333333333333333, \"#9c179e\"], [0.4444444444444444, \"#bd3786\"], [0.5555555555555556, \"#d8576b\"], [0.6666666666666666, \"#ed7953\"], [0.7777777777777778, \"#fb9f3a\"], [0.8888888888888888, \"#fdca26\"], [1.0, \"#f0f921\"]], \"type\": \"surface\"}], \"table\": [{\"cells\": {\"fill\": {\"color\": \"#EBF0F8\"}, \"line\": {\"color\": \"white\"}}, \"header\": {\"fill\": {\"color\": \"#C8D4E3\"}, \"line\": {\"color\": \"white\"}}, \"type\": \"table\"}]}, \"layout\": {\"annotationdefaults\": {\"arrowcolor\": \"#2a3f5f\", \"arrowhead\": 0, \"arrowwidth\": 1}, \"coloraxis\": {\"colorbar\": {\"outlinewidth\": 0, \"ticks\": \"\"}}, \"colorscale\": {\"diverging\": [[0, \"#8e0152\"], [0.1, \"#c51b7d\"], [0.2, \"#de77ae\"], [0.3, \"#f1b6da\"], [0.4, \"#fde0ef\"], [0.5, \"#f7f7f7\"], [0.6, \"#e6f5d0\"], [0.7, \"#b8e186\"], [0.8, \"#7fbc41\"], [0.9, \"#4d9221\"], [1, \"#276419\"]], \"sequential\": [[0.0, \"#0d0887\"], [0.1111111111111111, \"#46039f\"], [0.2222222222222222, \"#7201a8\"], [0.3333333333333333, \"#9c179e\"], [0.4444444444444444, \"#bd3786\"], [0.5555555555555556, \"#d8576b\"], [0.6666666666666666, \"#ed7953\"], [0.7777777777777778, \"#fb9f3a\"], [0.8888888888888888, \"#fdca26\"], [1.0, \"#f0f921\"]], \"sequentialminus\": [[0.0, \"#0d0887\"], [0.1111111111111111, \"#46039f\"], [0.2222222222222222, \"#7201a8\"], [0.3333333333333333, \"#9c179e\"], [0.4444444444444444, \"#bd3786\"], [0.5555555555555556, \"#d8576b\"], [0.6666666666666666, \"#ed7953\"], [0.7777777777777778, \"#fb9f3a\"], [0.8888888888888888, \"#fdca26\"], [1.0, \"#f0f921\"]]}, \"colorway\": [\"#636efa\", \"#EF553B\", \"#00cc96\", \"#ab63fa\", \"#FFA15A\", \"#19d3f3\", \"#FF6692\", \"#B6E880\", \"#FF97FF\", \"#FECB52\"], \"font\": {\"color\": \"#2a3f5f\"}, \"geo\": {\"bgcolor\": \"white\", \"lakecolor\": \"white\", \"landcolor\": \"#E5ECF6\", \"showlakes\": true, \"showland\": true, \"subunitcolor\": \"white\"}, \"hoverlabel\": {\"align\": \"left\"}, \"hovermode\": \"closest\", \"mapbox\": {\"style\": \"light\"}, \"paper_bgcolor\": \"white\", \"plot_bgcolor\": \"#E5ECF6\", \"polar\": {\"angularaxis\": {\"gridcolor\": \"white\", \"linecolor\": \"white\", \"ticks\": \"\"}, \"bgcolor\": \"#E5ECF6\", \"radialaxis\": {\"gridcolor\": \"white\", \"linecolor\": \"white\", \"ticks\": \"\"}}, \"scene\": {\"xaxis\": {\"backgroundcolor\": \"#E5ECF6\", \"gridcolor\": \"white\", \"gridwidth\": 2, \"linecolor\": \"white\", \"showbackground\": true, \"ticks\": \"\", \"zerolinecolor\": \"white\"}, \"yaxis\": {\"backgroundcolor\": \"#E5ECF6\", \"gridcolor\": \"white\", \"gridwidth\": 2, \"linecolor\": \"white\", \"showbackground\": true, \"ticks\": \"\", \"zerolinecolor\": \"white\"}, \"zaxis\": {\"backgroundcolor\": \"#E5ECF6\", \"gridcolor\": \"white\", \"gridwidth\": 2, \"linecolor\": \"white\", \"showbackground\": true, \"ticks\": \"\", \"zerolinecolor\": \"white\"}}, \"shapedefaults\": {\"line\": {\"color\": \"#2a3f5f\"}}, \"ternary\": {\"aaxis\": {\"gridcolor\": \"white\", \"linecolor\": \"white\", \"ticks\": \"\"}, \"baxis\": {\"gridcolor\": \"white\", \"linecolor\": \"white\", \"ticks\": \"\"}, \"bgcolor\": \"#E5ECF6\", \"caxis\": {\"gridcolor\": \"white\", \"linecolor\": \"white\", \"ticks\": \"\"}}, \"title\": {\"x\": 0.05}, \"xaxis\": {\"automargin\": true, \"gridcolor\": \"white\", \"linecolor\": \"white\", \"ticks\": \"\", \"title\": {\"standoff\": 15}, \"zerolinecolor\": \"white\", \"zerolinewidth\": 2}, \"yaxis\": {\"automargin\": true, \"gridcolor\": \"white\", \"linecolor\": \"white\", \"ticks\": \"\", \"title\": {\"standoff\": 15}, \"zerolinecolor\": \"white\", \"zerolinewidth\": 2}}}, \"title\": {\"text\": \"Normalized data standard deviation\"}},\n",
              "                        {\"responsive\": true}\n",
              "                    ).then(function(){\n",
              "                            \n",
              "var gd = document.getElementById('04f46d7c-6cf6-485b-8b7c-fb2ff09c3ec9');\n",
              "var x = new MutationObserver(function (mutations, observer) {{\n",
              "        var display = window.getComputedStyle(gd).display;\n",
              "        if (!display || display === 'none') {{\n",
              "            console.log([gd, 'removed!']);\n",
              "            Plotly.purge(gd);\n",
              "            observer.disconnect();\n",
              "        }}\n",
              "}});\n",
              "\n",
              "// Listen for the removal of the full notebook cells\n",
              "var notebookContainer = gd.closest('#notebook-container');\n",
              "if (notebookContainer) {{\n",
              "    x.observe(notebookContainer, {childList: true});\n",
              "}}\n",
              "\n",
              "// Listen for the clearing of the current output cell\n",
              "var outputEl = gd.closest('.output');\n",
              "if (outputEl) {{\n",
              "    x.observe(outputEl, {childList: true});\n",
              "}}\n",
              "\n",
              "                        })\n",
              "                };\n",
              "                \n",
              "            </script>\n",
              "        </div>\n",
              "</body>\n",
              "</html>"
            ]
          },
          "metadata": {
            "tags": []
          }
        },
        {
          "output_type": "stream",
          "text": [
            "[20-01-20 19:10:46 INFO] Function malware_data_transform finished in 1.5447800159454346s\n",
            "[20-01-20 19:10:46 INFO] Running knn_classifier...\n",
            "[20-01-20 19:10:46 INFO] -Running KNN algorithm with n_neighbors=1\n",
            "[20-01-20 19:10:46 INFO] --Finding best 3 features\n",
            "[20-01-20 19:10:47 INFO] ---Starting fitting for weight=distance and metric=chebyshev\n",
            "[20-01-20 19:10:51 INFO] ----Measuring confusion matrix...\n",
            "[20-01-20 19:10:53 INFO] -----KNN accuracy is: 96.50368224073404%\n",
            "[20-01-20 19:10:53 INFO] -----Precision in percent: 97.46206896551725%\n",
            "[20-01-20 19:10:53 INFO] -----Recall in percent: 97.54279403644396%\n",
            "[20-01-20 19:10:53 INFO] -----False positives in percent: 2.5379310344827584%\n",
            "[20-01-20 19:10:53 INFO] -----False negatives in percent: 5.734997986306887%\n",
            "[20-01-20 19:10:53 INFO] Exec time for 3 features: 6.6847357749938965s\n",
            "[20-01-20 19:10:53 INFO] --Finding best 23 features\n",
            "[20-01-20 19:10:53 INFO] ---Starting fitting for weight=distance and metric=chebyshev\n",
            "[20-01-20 19:11:20 INFO] ----Measuring confusion matrix...\n",
            "[20-01-20 19:11:35 INFO] -----KNN accuracy is: 99.04623928528311%\n",
            "[20-01-20 19:11:35 INFO] -----Precision in percent: 99.20779802293941%\n",
            "[20-01-20 19:11:35 INFO] -----Recall in percent: 99.43040596520298%\n",
            "[20-01-20 19:11:35 INFO] -----False positives in percent: 0.7922019770605863%\n",
            "[20-01-20 19:11:35 INFO] -----False negatives in percent: 1.3325795509610725%\n",
            "[20-01-20 19:11:35 INFO] Exec time for 23 features: 41.85010480880737s\n",
            "[20-01-20 19:11:35 INFO] --Finding best 3 features\n",
            "[20-01-20 19:11:35 INFO] ---Starting fitting for weight=uniform and metric=chebyshev\n",
            "[20-01-20 19:11:40 INFO] ----Measuring confusion matrix...\n",
            "[20-01-20 19:11:42 INFO] -----KNN accuracy is: 96.42400096583363%\n",
            "[20-01-20 19:11:42 INFO] -----Precision in percent: 97.47632983301773%\n",
            "[20-01-20 19:11:42 INFO] -----Recall in percent: 97.4260151410874%\n",
            "[20-01-20 19:11:42 INFO] -----False positives in percent: 2.523670166982269%\n",
            "[20-01-20 19:11:42 INFO] -----False negatives in percent: 6.046887631366209%\n",
            "[20-01-20 19:11:42 INFO] Exec time for 3 features: 7.48384690284729s\n",
            "[20-01-20 19:11:42 INFO] --Finding best 23 features\n",
            "[20-01-20 19:11:43 INFO] ---Starting fitting for weight=uniform and metric=chebyshev\n",
            "[20-01-20 19:12:21 INFO] ----Measuring confusion matrix...\n",
            "[20-01-20 19:12:41 INFO] -----KNN accuracy is: 99.04623928528311%\n",
            "[20-01-20 19:12:41 INFO] -----Precision in percent: 99.23132604874013%\n",
            "[20-01-20 19:12:41 INFO] -----Recall in percent: 99.4060773480663%\n",
            "[20-01-20 19:12:41 INFO] -----False positives in percent: 0.768673951259867%\n",
            "[20-01-20 19:12:41 INFO] -----False negatives in percent: 1.3866494679135764%\n",
            "[20-01-20 19:12:41 INFO] Exec time for 23 features: 58.90753412246704s\n",
            "[20-01-20 19:12:41 INFO] --Finding best 3 features\n",
            "[20-01-20 19:12:41 INFO] ---Starting fitting for weight=distance and metric=euclidean\n",
            "[20-01-20 19:12:46 INFO] ----Measuring confusion matrix...\n",
            "[20-01-20 19:12:47 INFO] -----KNN accuracy is: 96.32258843414222%\n",
            "[20-01-20 19:12:47 INFO] -----Precision in percent: 97.54800386793757%\n",
            "[20-01-20 19:12:47 INFO] -----Recall in percent: 97.20224371107058%\n",
            "[20-01-20 19:12:47 INFO] -----False positives in percent: 2.4519961320624395%\n",
            "[20-01-20 19:12:47 INFO] -----False negatives in percent: 6.525403322899109%\n",
            "[20-01-20 19:12:47 INFO] Exec time for 3 features: 5.622771739959717s\n",
            "[20-01-20 19:12:47 INFO] --Finding best 23 features\n",
            "[20-01-20 19:12:47 INFO] ---Starting fitting for weight=distance and metric=euclidean\n",
            "[20-01-20 19:13:32 INFO] ----Measuring confusion matrix...\n",
            "[20-01-20 19:13:56 INFO] -----KNN accuracy is: 99.11626222383194%\n",
            "[20-01-20 19:13:56 INFO] -----Precision in percent: 99.2878625505583%\n",
            "[20-01-20 19:13:56 INFO] -----Recall in percent: 99.44600256223815%\n",
            "[20-01-20 19:13:56 INFO] -----False positives in percent: 0.7121374494416981%\n",
            "[20-01-20 19:13:56 INFO] -----False negatives in percent: 1.2812299807815504%\n",
            "[20-01-20 19:13:56 INFO] Exec time for 23 features: 68.91065239906311s\n",
            "[20-01-20 19:13:56 INFO] --Finding best 3 features\n",
            "[20-01-20 19:13:56 INFO] ---Starting fitting for weight=uniform and metric=euclidean\n",
            "[20-01-20 19:14:02 INFO] ----Measuring confusion matrix...\n",
            "[20-01-20 19:14:04 INFO] -----KNN accuracy is: 96.46746347941567%\n",
            "[20-01-20 19:14:04 INFO] -----Precision in percent: 97.5535590877678%\n",
            "[20-01-20 19:14:04 INFO] -----Recall in percent: 97.39538413771692%\n",
            "[20-01-20 19:14:04 INFO] -----False positives in percent: 2.4464409122322044%\n",
            "[20-01-20 19:14:04 INFO] -----False negatives in percent: 6.052104208416834%\n",
            "[20-01-20 19:14:04 INFO] Exec time for 3 features: 7.930104732513428s\n",
            "[20-01-20 19:14:04 INFO] --Finding best 23 features\n",
            "[20-01-20 19:14:04 INFO] ---Starting fitting for weight=uniform and metric=euclidean\n",
            "[20-01-20 19:14:47 INFO] ----Measuring confusion matrix...\n",
            "[20-01-20 19:15:11 INFO] -----KNN accuracy is: 99.12109139200773%\n",
            "[20-01-20 19:15:11 INFO] -----Precision in percent: 99.33034173282707%\n",
            "[20-01-20 19:15:11 INFO] -----Recall in percent: 99.41269950943136%\n",
            "[20-01-20 19:15:11 INFO] -----False positives in percent: 0.6696582671729375%\n",
            "[20-01-20 19:15:11 INFO] -----False negatives in percent: 1.3660104459622338%\n",
            "[20-01-20 19:15:11 INFO] Exec time for 23 features: 67.4264440536499s\n",
            "[20-01-20 19:15:11 INFO] --Finding best 3 features\n",
            "[20-01-20 19:15:11 INFO] ---Starting fitting for weight=distance and metric=manhattan\n",
            "[20-01-20 19:15:16 INFO] ----Measuring confusion matrix...\n",
            "[20-01-20 19:15:17 INFO] -----KNN accuracy is: 96.64131353374381%\n",
            "[20-01-20 19:15:17 INFO] -----Precision in percent: 97.7205222076397%\n",
            "[20-01-20 19:15:17 INFO] -----Recall in percent: 97.48148148148148%\n",
            "[20-01-20 19:15:17 INFO] -----False positives in percent: 2.2794777923602956%\n",
            "[20-01-20 19:15:17 INFO] -----False negatives in percent: 5.866302864938609%\n",
            "[20-01-20 19:15:17 INFO] Exec time for 3 features: 5.8360514640808105s\n",
            "[20-01-20 19:15:17 INFO] --Finding best 23 features\n",
            "[20-01-20 19:15:17 INFO] ---Starting fitting for weight=distance and metric=manhattan\n",
            "[20-01-20 19:16:00 INFO] ----Measuring confusion matrix...\n",
            "[20-01-20 19:16:25 INFO] -----KNN accuracy is: 99.16213932150187%\n",
            "[20-01-20 19:16:25 INFO] -----Precision in percent: 99.34455636815234%\n",
            "[20-01-20 19:16:25 INFO] -----Recall in percent: 99.45777931272664%\n",
            "[20-01-20 19:16:25 INFO] -----False positives in percent: 0.6554436318476611%\n",
            "[20-01-20 19:16:25 INFO] -----False negatives in percent: 1.2633781282690915%\n",
            "[20-01-20 19:16:25 INFO] Exec time for 23 features: 68.39429306983948s\n",
            "[20-01-20 19:16:25 INFO] --Finding best 3 features\n",
            "[20-01-20 19:16:26 INFO] ---Starting fitting for weight=uniform and metric=manhattan\n",
            "[20-01-20 19:16:32 INFO] ----Measuring confusion matrix...\n",
            "[20-01-20 19:16:34 INFO] -----KNN accuracy is: 96.4312447180973%\n",
            "[20-01-20 19:16:34 INFO] -----Precision in percent: 97.65684051398337%\n",
            "[20-01-20 19:16:34 INFO] -----Recall in percent: 97.27583846680355%\n",
            "[20-01-20 19:16:34 INFO] -----False positives in percent: 2.3431594860166287%\n",
            "[20-01-20 19:16:34 INFO] -----False negatives in percent: 6.466812901129256%\n",
            "[20-01-20 19:16:34 INFO] Exec time for 3 features: 8.419345140457153s\n",
            "[20-01-20 19:16:34 INFO] --Finding best 23 features\n",
            "[20-01-20 19:16:34 INFO] ---Starting fitting for weight=uniform and metric=manhattan\n",
            "[20-01-20 19:17:20 INFO] ----Measuring confusion matrix...\n",
            "[20-01-20 19:17:48 INFO] -----KNN accuracy is: 99.18145599420501%\n",
            "[20-01-20 19:17:48 INFO] -----Precision in percent: 99.31851036001927%\n",
            "[20-01-20 19:17:48 INFO] -----Recall in percent: 99.51374280097941%\n",
            "[20-01-20 19:17:48 INFO] -----False positives in percent: 0.6814896399807255%\n",
            "[20-01-20 19:17:48 INFO] -----False negatives in percent: 1.1406844106463878%\n",
            "[20-01-20 19:17:48 INFO] Exec time for 23 features: 74.06178069114685s\n",
            "[20-01-20 19:17:48 INFO] Function knn_classifier finished in 421.5487856864929s\n"
          ],
          "name": "stderr"
        }
      ]
    },
    {
      "cell_type": "markdown",
      "metadata": {
        "id": "UdUlXd6Lps47",
        "colab_type": "text"
      },
      "source": [
        "After performing data normalization - a process of eliminating units of data, enabling to compare data more easily - mean value and std are looking better. It affects algorithm execution time, which doubles, but it performs better on data rescaled to values ​​between 0 and 1. The algorithm predicts classes more accurate and False positives/negatives results lower.\n",
        "Precision and recall measurements for normalized data is above 99%, which is a satisfying result."
      ]
    },
    {
      "cell_type": "code",
      "metadata": {
        "id": "yVXRD7ll0All",
        "colab_type": "code",
        "outputId": "e85ee93a-7ed2-46e2-b80e-3b8074e853e4",
        "colab": {
          "base_uri": "https://localhost:8080/",
          "height": 1000
        }
      },
      "source": [
        "get_logger(logger_file=LOGGER_FILE).info(\"--------------------------------------\")\n",
        "input_data, labels = malware_data_transform(optimize_data='standardize', enable_figures=True)\n",
        "knn_classifier(input_data, labels, 1, (3, 24, 20))"
      ],
      "execution_count": 13,
      "outputs": [
        {
          "output_type": "stream",
          "text": [
            "[20-01-20 19:17:48 INFO] --------------------------------------\n",
            "[20-01-20 19:17:48 INFO] Running malware_data_transform...\n",
            "[20-01-20 19:17:48 INFO] -Reading csv file\n",
            "[20-01-20 19:17:49 INFO] --Data standardization processing...\n",
            "[20-01-20 19:17:49 INFO] --Figures enabled\n"
          ],
          "name": "stderr"
        },
        {
          "output_type": "display_data",
          "data": {
            "text/html": [
              "<html>\n",
              "<head><meta charset=\"utf-8\" /></head>\n",
              "<body>\n",
              "    <div>\n",
              "            <script src=\"https://cdnjs.cloudflare.com/ajax/libs/mathjax/2.7.5/MathJax.js?config=TeX-AMS-MML_SVG\"></script><script type=\"text/javascript\">if (window.MathJax) {MathJax.Hub.Config({SVG: {font: \"STIX-Web\"}});}</script>\n",
              "                <script type=\"text/javascript\">window.PlotlyConfig = {MathJaxConfig: 'local'};</script>\n",
              "        <script src=\"https://cdn.plot.ly/plotly-latest.min.js\"></script>    \n",
              "            <div id=\"d9d09d7c-4cee-4f11-91b0-42f1ca00d9bc\" class=\"plotly-graph-div\" style=\"height:525px; width:100%;\"></div>\n",
              "            <script type=\"text/javascript\">\n",
              "                \n",
              "                    window.PLOTLYENV=window.PLOTLYENV || {};\n",
              "                    \n",
              "                if (document.getElementById(\"d9d09d7c-4cee-4f11-91b0-42f1ca00d9bc\")) {\n",
              "                    Plotly.newPlot(\n",
              "                        'd9d09d7c-4cee-4f11-91b0-42f1ca00d9bc',\n",
              "                        [{\"type\": \"bar\", \"x\": [0, 1, 2, 3, 4, 5, 6, 7, 8, 9, 10, 11, 12, 13, 14, 15, 16, 17, 18, 19, 20, 21, 22, 23, 24, 25, 26, 27, 28, 29, 30, 31, 32, 33, 34, 35, 36, 37, 38, 39, 40, 41, 42, 43, 44, 45, 46, 47, 48, 49, 50, 51, 52, 53], \"y\": [-3.040380499932144e-14, 1.310182766923623e-13, 6.461145346037704e-14, -2.4779831766660595e-15, 9.379014878088035e-15, 3.355089208284636e-15, -3.781215814389734e-16, -1.1186587818067937e-14, -7.915223273368484e-16, -2.8398254303235957e-15, -4.120304714919366e-17, -4.2661148787525515e-15, -3.253556910230073e-15, -1.0662638763825038e-13, 1.5332367334333203e-15, 2.5650447108607008e-15, 1.1515399314197691e-14, 2.939048290651428e-15, -2.93827078187691e-13, -5.842448784806687e-15, 2.0810071900944458e-16, 2.8733923113627855e-15, -1.4476516229960295e-14, 4.313452944169223e-13, 1.4102188099035772e-13, -1.2301303282268007e-13, 5.823472501863207e-15, 1.1867778228881626e-14, -8.63936415921551e-15, -3.2265650190828175e-15, -4.31869735602993e-15, -1.2505361280158994e-14, -4.071639658864586e-14, 4.224744148494971e-15, 3.206799350062632e-14, 8.518365616568969e-16, 3.743933358282091e-14, -8.029905249618592e-16, -3.0400341860591937e-16, -4.216671986197274e-15, 7.609631363925399e-17, -1.0876147574721217e-15, -1.089243133365194e-14, 6.873574497188657e-15, 9.73178690309993e-14, 3.20155609630109e-15, 2.6827865802597224e-14, 5.785421102969092e-15, 3.431859798020248e-14, -4.016464650440037e-16, 8.624621843343338e-16, -1.9038660142469087e-15, -8.097812057969583e-15, -1.1908848888809337e-13]}],\n",
              "                        {\"template\": {\"data\": {\"bar\": [{\"error_x\": {\"color\": \"#2a3f5f\"}, \"error_y\": {\"color\": \"#2a3f5f\"}, \"marker\": {\"line\": {\"color\": \"#E5ECF6\", \"width\": 0.5}}, \"type\": \"bar\"}], \"barpolar\": [{\"marker\": {\"line\": {\"color\": \"#E5ECF6\", \"width\": 0.5}}, \"type\": \"barpolar\"}], \"carpet\": [{\"aaxis\": {\"endlinecolor\": \"#2a3f5f\", \"gridcolor\": \"white\", \"linecolor\": \"white\", \"minorgridcolor\": \"white\", \"startlinecolor\": \"#2a3f5f\"}, \"baxis\": {\"endlinecolor\": \"#2a3f5f\", \"gridcolor\": \"white\", \"linecolor\": \"white\", \"minorgridcolor\": \"white\", \"startlinecolor\": \"#2a3f5f\"}, \"type\": \"carpet\"}], \"choropleth\": [{\"colorbar\": {\"outlinewidth\": 0, \"ticks\": \"\"}, \"type\": \"choropleth\"}], \"contour\": [{\"colorbar\": {\"outlinewidth\": 0, \"ticks\": \"\"}, \"colorscale\": [[0.0, \"#0d0887\"], [0.1111111111111111, \"#46039f\"], [0.2222222222222222, \"#7201a8\"], [0.3333333333333333, \"#9c179e\"], [0.4444444444444444, \"#bd3786\"], [0.5555555555555556, \"#d8576b\"], [0.6666666666666666, \"#ed7953\"], [0.7777777777777778, \"#fb9f3a\"], [0.8888888888888888, \"#fdca26\"], [1.0, \"#f0f921\"]], \"type\": \"contour\"}], \"contourcarpet\": [{\"colorbar\": {\"outlinewidth\": 0, \"ticks\": \"\"}, \"type\": \"contourcarpet\"}], \"heatmap\": [{\"colorbar\": {\"outlinewidth\": 0, \"ticks\": \"\"}, \"colorscale\": [[0.0, \"#0d0887\"], [0.1111111111111111, \"#46039f\"], [0.2222222222222222, \"#7201a8\"], [0.3333333333333333, \"#9c179e\"], [0.4444444444444444, \"#bd3786\"], [0.5555555555555556, \"#d8576b\"], [0.6666666666666666, \"#ed7953\"], [0.7777777777777778, \"#fb9f3a\"], [0.8888888888888888, \"#fdca26\"], [1.0, \"#f0f921\"]], \"type\": \"heatmap\"}], \"heatmapgl\": [{\"colorbar\": {\"outlinewidth\": 0, \"ticks\": \"\"}, \"colorscale\": [[0.0, \"#0d0887\"], [0.1111111111111111, \"#46039f\"], [0.2222222222222222, \"#7201a8\"], [0.3333333333333333, \"#9c179e\"], [0.4444444444444444, \"#bd3786\"], [0.5555555555555556, \"#d8576b\"], [0.6666666666666666, \"#ed7953\"], [0.7777777777777778, \"#fb9f3a\"], [0.8888888888888888, \"#fdca26\"], [1.0, \"#f0f921\"]], \"type\": \"heatmapgl\"}], \"histogram\": [{\"marker\": {\"colorbar\": {\"outlinewidth\": 0, \"ticks\": \"\"}}, \"type\": \"histogram\"}], \"histogram2d\": [{\"colorbar\": {\"outlinewidth\": 0, \"ticks\": \"\"}, \"colorscale\": [[0.0, \"#0d0887\"], [0.1111111111111111, \"#46039f\"], [0.2222222222222222, \"#7201a8\"], [0.3333333333333333, \"#9c179e\"], [0.4444444444444444, \"#bd3786\"], [0.5555555555555556, \"#d8576b\"], [0.6666666666666666, \"#ed7953\"], [0.7777777777777778, \"#fb9f3a\"], [0.8888888888888888, \"#fdca26\"], [1.0, \"#f0f921\"]], \"type\": \"histogram2d\"}], \"histogram2dcontour\": [{\"colorbar\": {\"outlinewidth\": 0, \"ticks\": \"\"}, \"colorscale\": [[0.0, \"#0d0887\"], [0.1111111111111111, \"#46039f\"], [0.2222222222222222, \"#7201a8\"], [0.3333333333333333, \"#9c179e\"], [0.4444444444444444, \"#bd3786\"], [0.5555555555555556, \"#d8576b\"], [0.6666666666666666, \"#ed7953\"], [0.7777777777777778, \"#fb9f3a\"], [0.8888888888888888, \"#fdca26\"], [1.0, \"#f0f921\"]], \"type\": \"histogram2dcontour\"}], \"mesh3d\": [{\"colorbar\": {\"outlinewidth\": 0, \"ticks\": \"\"}, \"type\": \"mesh3d\"}], \"parcoords\": [{\"line\": {\"colorbar\": {\"outlinewidth\": 0, \"ticks\": \"\"}}, \"type\": \"parcoords\"}], \"pie\": [{\"automargin\": true, \"type\": \"pie\"}], \"scatter\": [{\"marker\": {\"colorbar\": {\"outlinewidth\": 0, \"ticks\": \"\"}}, \"type\": \"scatter\"}], \"scatter3d\": [{\"line\": {\"colorbar\": {\"outlinewidth\": 0, \"ticks\": \"\"}}, \"marker\": {\"colorbar\": {\"outlinewidth\": 0, \"ticks\": \"\"}}, \"type\": \"scatter3d\"}], \"scattercarpet\": [{\"marker\": {\"colorbar\": {\"outlinewidth\": 0, \"ticks\": \"\"}}, \"type\": \"scattercarpet\"}], \"scattergeo\": [{\"marker\": {\"colorbar\": {\"outlinewidth\": 0, \"ticks\": \"\"}}, \"type\": \"scattergeo\"}], \"scattergl\": [{\"marker\": {\"colorbar\": {\"outlinewidth\": 0, \"ticks\": \"\"}}, \"type\": \"scattergl\"}], \"scattermapbox\": [{\"marker\": {\"colorbar\": {\"outlinewidth\": 0, \"ticks\": \"\"}}, \"type\": \"scattermapbox\"}], \"scatterpolar\": [{\"marker\": {\"colorbar\": {\"outlinewidth\": 0, \"ticks\": \"\"}}, \"type\": \"scatterpolar\"}], \"scatterpolargl\": [{\"marker\": {\"colorbar\": {\"outlinewidth\": 0, \"ticks\": \"\"}}, \"type\": \"scatterpolargl\"}], \"scatterternary\": [{\"marker\": {\"colorbar\": {\"outlinewidth\": 0, \"ticks\": \"\"}}, \"type\": \"scatterternary\"}], \"surface\": [{\"colorbar\": {\"outlinewidth\": 0, \"ticks\": \"\"}, \"colorscale\": [[0.0, \"#0d0887\"], [0.1111111111111111, \"#46039f\"], [0.2222222222222222, \"#7201a8\"], [0.3333333333333333, \"#9c179e\"], [0.4444444444444444, \"#bd3786\"], [0.5555555555555556, \"#d8576b\"], [0.6666666666666666, \"#ed7953\"], [0.7777777777777778, \"#fb9f3a\"], [0.8888888888888888, \"#fdca26\"], [1.0, \"#f0f921\"]], \"type\": \"surface\"}], \"table\": [{\"cells\": {\"fill\": {\"color\": \"#EBF0F8\"}, \"line\": {\"color\": \"white\"}}, \"header\": {\"fill\": {\"color\": \"#C8D4E3\"}, \"line\": {\"color\": \"white\"}}, \"type\": \"table\"}]}, \"layout\": {\"annotationdefaults\": {\"arrowcolor\": \"#2a3f5f\", \"arrowhead\": 0, \"arrowwidth\": 1}, \"coloraxis\": {\"colorbar\": {\"outlinewidth\": 0, \"ticks\": \"\"}}, \"colorscale\": {\"diverging\": [[0, \"#8e0152\"], [0.1, \"#c51b7d\"], [0.2, \"#de77ae\"], [0.3, \"#f1b6da\"], [0.4, \"#fde0ef\"], [0.5, \"#f7f7f7\"], [0.6, \"#e6f5d0\"], [0.7, \"#b8e186\"], [0.8, \"#7fbc41\"], [0.9, \"#4d9221\"], [1, \"#276419\"]], \"sequential\": [[0.0, \"#0d0887\"], [0.1111111111111111, \"#46039f\"], [0.2222222222222222, \"#7201a8\"], [0.3333333333333333, \"#9c179e\"], [0.4444444444444444, \"#bd3786\"], [0.5555555555555556, \"#d8576b\"], [0.6666666666666666, \"#ed7953\"], [0.7777777777777778, \"#fb9f3a\"], [0.8888888888888888, \"#fdca26\"], [1.0, \"#f0f921\"]], \"sequentialminus\": [[0.0, \"#0d0887\"], [0.1111111111111111, \"#46039f\"], [0.2222222222222222, \"#7201a8\"], [0.3333333333333333, \"#9c179e\"], [0.4444444444444444, \"#bd3786\"], [0.5555555555555556, \"#d8576b\"], [0.6666666666666666, \"#ed7953\"], [0.7777777777777778, \"#fb9f3a\"], [0.8888888888888888, \"#fdca26\"], [1.0, \"#f0f921\"]]}, \"colorway\": [\"#636efa\", \"#EF553B\", \"#00cc96\", \"#ab63fa\", \"#FFA15A\", \"#19d3f3\", \"#FF6692\", \"#B6E880\", \"#FF97FF\", \"#FECB52\"], \"font\": {\"color\": \"#2a3f5f\"}, \"geo\": {\"bgcolor\": \"white\", \"lakecolor\": \"white\", \"landcolor\": \"#E5ECF6\", \"showlakes\": true, \"showland\": true, \"subunitcolor\": \"white\"}, \"hoverlabel\": {\"align\": \"left\"}, \"hovermode\": \"closest\", \"mapbox\": {\"style\": \"light\"}, \"paper_bgcolor\": \"white\", \"plot_bgcolor\": \"#E5ECF6\", \"polar\": {\"angularaxis\": {\"gridcolor\": \"white\", \"linecolor\": \"white\", \"ticks\": \"\"}, \"bgcolor\": \"#E5ECF6\", \"radialaxis\": {\"gridcolor\": \"white\", \"linecolor\": \"white\", \"ticks\": \"\"}}, \"scene\": {\"xaxis\": {\"backgroundcolor\": \"#E5ECF6\", \"gridcolor\": \"white\", \"gridwidth\": 2, \"linecolor\": \"white\", \"showbackground\": true, \"ticks\": \"\", \"zerolinecolor\": \"white\"}, \"yaxis\": {\"backgroundcolor\": \"#E5ECF6\", \"gridcolor\": \"white\", \"gridwidth\": 2, \"linecolor\": \"white\", \"showbackground\": true, \"ticks\": \"\", \"zerolinecolor\": \"white\"}, \"zaxis\": {\"backgroundcolor\": \"#E5ECF6\", \"gridcolor\": \"white\", \"gridwidth\": 2, \"linecolor\": \"white\", \"showbackground\": true, \"ticks\": \"\", \"zerolinecolor\": \"white\"}}, \"shapedefaults\": {\"line\": {\"color\": \"#2a3f5f\"}}, \"ternary\": {\"aaxis\": {\"gridcolor\": \"white\", \"linecolor\": \"white\", \"ticks\": \"\"}, \"baxis\": {\"gridcolor\": \"white\", \"linecolor\": \"white\", \"ticks\": \"\"}, \"bgcolor\": \"#E5ECF6\", \"caxis\": {\"gridcolor\": \"white\", \"linecolor\": \"white\", \"ticks\": \"\"}}, \"title\": {\"x\": 0.05}, \"xaxis\": {\"automargin\": true, \"gridcolor\": \"white\", \"linecolor\": \"white\", \"ticks\": \"\", \"title\": {\"standoff\": 15}, \"zerolinecolor\": \"white\", \"zerolinewidth\": 2}, \"yaxis\": {\"automargin\": true, \"gridcolor\": \"white\", \"linecolor\": \"white\", \"ticks\": \"\", \"title\": {\"standoff\": 15}, \"zerolinecolor\": \"white\", \"zerolinewidth\": 2}}}, \"title\": {\"text\": \"Standardized data mean\"}},\n",
              "                        {\"responsive\": true}\n",
              "                    ).then(function(){\n",
              "                            \n",
              "var gd = document.getElementById('d9d09d7c-4cee-4f11-91b0-42f1ca00d9bc');\n",
              "var x = new MutationObserver(function (mutations, observer) {{\n",
              "        var display = window.getComputedStyle(gd).display;\n",
              "        if (!display || display === 'none') {{\n",
              "            console.log([gd, 'removed!']);\n",
              "            Plotly.purge(gd);\n",
              "            observer.disconnect();\n",
              "        }}\n",
              "}});\n",
              "\n",
              "// Listen for the removal of the full notebook cells\n",
              "var notebookContainer = gd.closest('#notebook-container');\n",
              "if (notebookContainer) {{\n",
              "    x.observe(notebookContainer, {childList: true});\n",
              "}}\n",
              "\n",
              "// Listen for the clearing of the current output cell\n",
              "var outputEl = gd.closest('.output');\n",
              "if (outputEl) {{\n",
              "    x.observe(outputEl, {childList: true});\n",
              "}}\n",
              "\n",
              "                        })\n",
              "                };\n",
              "                \n",
              "            </script>\n",
              "        </div>\n",
              "</body>\n",
              "</html>"
            ]
          },
          "metadata": {
            "tags": []
          }
        },
        {
          "output_type": "display_data",
          "data": {
            "text/html": [
              "<html>\n",
              "<head><meta charset=\"utf-8\" /></head>\n",
              "<body>\n",
              "    <div>\n",
              "            <script src=\"https://cdnjs.cloudflare.com/ajax/libs/mathjax/2.7.5/MathJax.js?config=TeX-AMS-MML_SVG\"></script><script type=\"text/javascript\">if (window.MathJax) {MathJax.Hub.Config({SVG: {font: \"STIX-Web\"}});}</script>\n",
              "                <script type=\"text/javascript\">window.PlotlyConfig = {MathJaxConfig: 'local'};</script>\n",
              "        <script src=\"https://cdn.plot.ly/plotly-latest.min.js\"></script>    \n",
              "            <div id=\"ac148c4c-ee23-4b59-9300-32f41c60d5df\" class=\"plotly-graph-div\" style=\"height:525px; width:100%;\"></div>\n",
              "            <script type=\"text/javascript\">\n",
              "                \n",
              "                    window.PLOTLYENV=window.PLOTLYENV || {};\n",
              "                    \n",
              "                if (document.getElementById(\"ac148c4c-ee23-4b59-9300-32f41c60d5df\")) {\n",
              "                    Plotly.newPlot(\n",
              "                        'ac148c4c-ee23-4b59-9300-32f41c60d5df',\n",
              "                        [{\"type\": \"bar\", \"x\": [0, 1, 2, 3, 4, 5, 6, 7, 8, 9, 10, 11, 12, 13, 14, 15, 16, 17, 18, 19, 20, 21, 22, 23, 24, 25, 26, 27, 28, 29, 30, 31, 32, 33, 34, 35, 36, 37, 38, 39, 40, 41, 42, 43, 44, 45, 46, 47, 48, 49, 50, 51, 52, 53], \"y\": [1.000003621974054, 1.0000036219763098, 1.0000036219740227, 1.0000036219739135, 1.0000036219750665, 1.000003621974591, 1.0000036219743291, 1.0000036219744455, 1.0000036219745476, 1.0000036219753023, 1.000003621974774, 1.0000036219795756, 1.0000036219732786, 1.0000036219743993, 1.0000036219736026, 1.0000036219744197, 1.0000036219737967, 1.0000036219714799, 1.0000036219755357, 1.0000036219744048, 1.0000036219746944, 1.0000036219741002, 1.0000036219744548, 1.0000036219727273, 1.0000036219734776, 1.000003621973713, 1.000003621974887, 1.0000036219730042, 1.000003621974963, 1.0000036219746888, 1.0000036219744841, 1.0000036219755966, 1.000003621974454, 1.000003621974543, 1.0000036219744048, 1.0000036219744064, 1.000003621975663, 1.000003621974138, 1.0000036219745672, 1.0000036219744322, 1.0000036219745405, 1.0000036219740982, 1.0000036219746038, 1.0000036219731951, 1.0000036219793218, 1.0000036219739437, 1.0000036219744983, 1.0000036219743853, 1.0000036219747974, 1.0000036219743698, 1.000003621972984, 1.0000036219747905, 1.0000036219744635, 1.0000036219747863]}],\n",
              "                        {\"template\": {\"data\": {\"bar\": [{\"error_x\": {\"color\": \"#2a3f5f\"}, \"error_y\": {\"color\": \"#2a3f5f\"}, \"marker\": {\"line\": {\"color\": \"#E5ECF6\", \"width\": 0.5}}, \"type\": \"bar\"}], \"barpolar\": [{\"marker\": {\"line\": {\"color\": \"#E5ECF6\", \"width\": 0.5}}, \"type\": \"barpolar\"}], \"carpet\": [{\"aaxis\": {\"endlinecolor\": \"#2a3f5f\", \"gridcolor\": \"white\", \"linecolor\": \"white\", \"minorgridcolor\": \"white\", \"startlinecolor\": \"#2a3f5f\"}, \"baxis\": {\"endlinecolor\": \"#2a3f5f\", \"gridcolor\": \"white\", \"linecolor\": \"white\", \"minorgridcolor\": \"white\", \"startlinecolor\": \"#2a3f5f\"}, \"type\": \"carpet\"}], \"choropleth\": [{\"colorbar\": {\"outlinewidth\": 0, \"ticks\": \"\"}, \"type\": \"choropleth\"}], \"contour\": [{\"colorbar\": {\"outlinewidth\": 0, \"ticks\": \"\"}, \"colorscale\": [[0.0, \"#0d0887\"], [0.1111111111111111, \"#46039f\"], [0.2222222222222222, \"#7201a8\"], [0.3333333333333333, \"#9c179e\"], [0.4444444444444444, \"#bd3786\"], [0.5555555555555556, \"#d8576b\"], [0.6666666666666666, \"#ed7953\"], [0.7777777777777778, \"#fb9f3a\"], [0.8888888888888888, \"#fdca26\"], [1.0, \"#f0f921\"]], \"type\": \"contour\"}], \"contourcarpet\": [{\"colorbar\": {\"outlinewidth\": 0, \"ticks\": \"\"}, \"type\": \"contourcarpet\"}], \"heatmap\": [{\"colorbar\": {\"outlinewidth\": 0, \"ticks\": \"\"}, \"colorscale\": [[0.0, \"#0d0887\"], [0.1111111111111111, \"#46039f\"], [0.2222222222222222, \"#7201a8\"], [0.3333333333333333, \"#9c179e\"], [0.4444444444444444, \"#bd3786\"], [0.5555555555555556, \"#d8576b\"], [0.6666666666666666, \"#ed7953\"], [0.7777777777777778, \"#fb9f3a\"], [0.8888888888888888, \"#fdca26\"], [1.0, \"#f0f921\"]], \"type\": \"heatmap\"}], \"heatmapgl\": [{\"colorbar\": {\"outlinewidth\": 0, \"ticks\": \"\"}, \"colorscale\": [[0.0, \"#0d0887\"], [0.1111111111111111, \"#46039f\"], [0.2222222222222222, \"#7201a8\"], [0.3333333333333333, \"#9c179e\"], [0.4444444444444444, \"#bd3786\"], [0.5555555555555556, \"#d8576b\"], [0.6666666666666666, \"#ed7953\"], [0.7777777777777778, \"#fb9f3a\"], [0.8888888888888888, \"#fdca26\"], [1.0, \"#f0f921\"]], \"type\": \"heatmapgl\"}], \"histogram\": [{\"marker\": {\"colorbar\": {\"outlinewidth\": 0, \"ticks\": \"\"}}, \"type\": \"histogram\"}], \"histogram2d\": [{\"colorbar\": {\"outlinewidth\": 0, \"ticks\": \"\"}, \"colorscale\": [[0.0, \"#0d0887\"], [0.1111111111111111, \"#46039f\"], [0.2222222222222222, \"#7201a8\"], [0.3333333333333333, \"#9c179e\"], [0.4444444444444444, \"#bd3786\"], [0.5555555555555556, \"#d8576b\"], [0.6666666666666666, \"#ed7953\"], [0.7777777777777778, \"#fb9f3a\"], [0.8888888888888888, \"#fdca26\"], [1.0, \"#f0f921\"]], \"type\": \"histogram2d\"}], \"histogram2dcontour\": [{\"colorbar\": {\"outlinewidth\": 0, \"ticks\": \"\"}, \"colorscale\": [[0.0, \"#0d0887\"], [0.1111111111111111, \"#46039f\"], [0.2222222222222222, \"#7201a8\"], [0.3333333333333333, \"#9c179e\"], [0.4444444444444444, \"#bd3786\"], [0.5555555555555556, \"#d8576b\"], [0.6666666666666666, \"#ed7953\"], [0.7777777777777778, \"#fb9f3a\"], [0.8888888888888888, \"#fdca26\"], [1.0, \"#f0f921\"]], \"type\": \"histogram2dcontour\"}], \"mesh3d\": [{\"colorbar\": {\"outlinewidth\": 0, \"ticks\": \"\"}, \"type\": \"mesh3d\"}], \"parcoords\": [{\"line\": {\"colorbar\": {\"outlinewidth\": 0, \"ticks\": \"\"}}, \"type\": \"parcoords\"}], \"pie\": [{\"automargin\": true, \"type\": \"pie\"}], \"scatter\": [{\"marker\": {\"colorbar\": {\"outlinewidth\": 0, \"ticks\": \"\"}}, \"type\": \"scatter\"}], \"scatter3d\": [{\"line\": {\"colorbar\": {\"outlinewidth\": 0, \"ticks\": \"\"}}, \"marker\": {\"colorbar\": {\"outlinewidth\": 0, \"ticks\": \"\"}}, \"type\": \"scatter3d\"}], \"scattercarpet\": [{\"marker\": {\"colorbar\": {\"outlinewidth\": 0, \"ticks\": \"\"}}, \"type\": \"scattercarpet\"}], \"scattergeo\": [{\"marker\": {\"colorbar\": {\"outlinewidth\": 0, \"ticks\": \"\"}}, \"type\": \"scattergeo\"}], \"scattergl\": [{\"marker\": {\"colorbar\": {\"outlinewidth\": 0, \"ticks\": \"\"}}, \"type\": \"scattergl\"}], \"scattermapbox\": [{\"marker\": {\"colorbar\": {\"outlinewidth\": 0, \"ticks\": \"\"}}, \"type\": \"scattermapbox\"}], \"scatterpolar\": [{\"marker\": {\"colorbar\": {\"outlinewidth\": 0, \"ticks\": \"\"}}, \"type\": \"scatterpolar\"}], \"scatterpolargl\": [{\"marker\": {\"colorbar\": {\"outlinewidth\": 0, \"ticks\": \"\"}}, \"type\": \"scatterpolargl\"}], \"scatterternary\": [{\"marker\": {\"colorbar\": {\"outlinewidth\": 0, \"ticks\": \"\"}}, \"type\": \"scatterternary\"}], \"surface\": [{\"colorbar\": {\"outlinewidth\": 0, \"ticks\": \"\"}, \"colorscale\": [[0.0, \"#0d0887\"], [0.1111111111111111, \"#46039f\"], [0.2222222222222222, \"#7201a8\"], [0.3333333333333333, \"#9c179e\"], [0.4444444444444444, \"#bd3786\"], [0.5555555555555556, \"#d8576b\"], [0.6666666666666666, \"#ed7953\"], [0.7777777777777778, \"#fb9f3a\"], [0.8888888888888888, \"#fdca26\"], [1.0, \"#f0f921\"]], \"type\": \"surface\"}], \"table\": [{\"cells\": {\"fill\": {\"color\": \"#EBF0F8\"}, \"line\": {\"color\": \"white\"}}, \"header\": {\"fill\": {\"color\": \"#C8D4E3\"}, \"line\": {\"color\": \"white\"}}, \"type\": \"table\"}]}, \"layout\": {\"annotationdefaults\": {\"arrowcolor\": \"#2a3f5f\", \"arrowhead\": 0, \"arrowwidth\": 1}, \"coloraxis\": {\"colorbar\": {\"outlinewidth\": 0, \"ticks\": \"\"}}, \"colorscale\": {\"diverging\": [[0, \"#8e0152\"], [0.1, \"#c51b7d\"], [0.2, \"#de77ae\"], [0.3, \"#f1b6da\"], [0.4, \"#fde0ef\"], [0.5, \"#f7f7f7\"], [0.6, \"#e6f5d0\"], [0.7, \"#b8e186\"], [0.8, \"#7fbc41\"], [0.9, \"#4d9221\"], [1, \"#276419\"]], \"sequential\": [[0.0, \"#0d0887\"], [0.1111111111111111, \"#46039f\"], [0.2222222222222222, \"#7201a8\"], [0.3333333333333333, \"#9c179e\"], [0.4444444444444444, \"#bd3786\"], [0.5555555555555556, \"#d8576b\"], [0.6666666666666666, \"#ed7953\"], [0.7777777777777778, \"#fb9f3a\"], [0.8888888888888888, \"#fdca26\"], [1.0, \"#f0f921\"]], \"sequentialminus\": [[0.0, \"#0d0887\"], [0.1111111111111111, \"#46039f\"], [0.2222222222222222, \"#7201a8\"], [0.3333333333333333, \"#9c179e\"], [0.4444444444444444, \"#bd3786\"], [0.5555555555555556, \"#d8576b\"], [0.6666666666666666, \"#ed7953\"], [0.7777777777777778, \"#fb9f3a\"], [0.8888888888888888, \"#fdca26\"], [1.0, \"#f0f921\"]]}, \"colorway\": [\"#636efa\", \"#EF553B\", \"#00cc96\", \"#ab63fa\", \"#FFA15A\", \"#19d3f3\", \"#FF6692\", \"#B6E880\", \"#FF97FF\", \"#FECB52\"], \"font\": {\"color\": \"#2a3f5f\"}, \"geo\": {\"bgcolor\": \"white\", \"lakecolor\": \"white\", \"landcolor\": \"#E5ECF6\", \"showlakes\": true, \"showland\": true, \"subunitcolor\": \"white\"}, \"hoverlabel\": {\"align\": \"left\"}, \"hovermode\": \"closest\", \"mapbox\": {\"style\": \"light\"}, \"paper_bgcolor\": \"white\", \"plot_bgcolor\": \"#E5ECF6\", \"polar\": {\"angularaxis\": {\"gridcolor\": \"white\", \"linecolor\": \"white\", \"ticks\": \"\"}, \"bgcolor\": \"#E5ECF6\", \"radialaxis\": {\"gridcolor\": \"white\", \"linecolor\": \"white\", \"ticks\": \"\"}}, \"scene\": {\"xaxis\": {\"backgroundcolor\": \"#E5ECF6\", \"gridcolor\": \"white\", \"gridwidth\": 2, \"linecolor\": \"white\", \"showbackground\": true, \"ticks\": \"\", \"zerolinecolor\": \"white\"}, \"yaxis\": {\"backgroundcolor\": \"#E5ECF6\", \"gridcolor\": \"white\", \"gridwidth\": 2, \"linecolor\": \"white\", \"showbackground\": true, \"ticks\": \"\", \"zerolinecolor\": \"white\"}, \"zaxis\": {\"backgroundcolor\": \"#E5ECF6\", \"gridcolor\": \"white\", \"gridwidth\": 2, \"linecolor\": \"white\", \"showbackground\": true, \"ticks\": \"\", \"zerolinecolor\": \"white\"}}, \"shapedefaults\": {\"line\": {\"color\": \"#2a3f5f\"}}, \"ternary\": {\"aaxis\": {\"gridcolor\": \"white\", \"linecolor\": \"white\", \"ticks\": \"\"}, \"baxis\": {\"gridcolor\": \"white\", \"linecolor\": \"white\", \"ticks\": \"\"}, \"bgcolor\": \"#E5ECF6\", \"caxis\": {\"gridcolor\": \"white\", \"linecolor\": \"white\", \"ticks\": \"\"}}, \"title\": {\"x\": 0.05}, \"xaxis\": {\"automargin\": true, \"gridcolor\": \"white\", \"linecolor\": \"white\", \"ticks\": \"\", \"title\": {\"standoff\": 15}, \"zerolinecolor\": \"white\", \"zerolinewidth\": 2}, \"yaxis\": {\"automargin\": true, \"gridcolor\": \"white\", \"linecolor\": \"white\", \"ticks\": \"\", \"title\": {\"standoff\": 15}, \"zerolinecolor\": \"white\", \"zerolinewidth\": 2}}}, \"title\": {\"text\": \"Standardized data standard deviation\"}},\n",
              "                        {\"responsive\": true}\n",
              "                    ).then(function(){\n",
              "                            \n",
              "var gd = document.getElementById('ac148c4c-ee23-4b59-9300-32f41c60d5df');\n",
              "var x = new MutationObserver(function (mutations, observer) {{\n",
              "        var display = window.getComputedStyle(gd).display;\n",
              "        if (!display || display === 'none') {{\n",
              "            console.log([gd, 'removed!']);\n",
              "            Plotly.purge(gd);\n",
              "            observer.disconnect();\n",
              "        }}\n",
              "}});\n",
              "\n",
              "// Listen for the removal of the full notebook cells\n",
              "var notebookContainer = gd.closest('#notebook-container');\n",
              "if (notebookContainer) {{\n",
              "    x.observe(notebookContainer, {childList: true});\n",
              "}}\n",
              "\n",
              "// Listen for the clearing of the current output cell\n",
              "var outputEl = gd.closest('.output');\n",
              "if (outputEl) {{\n",
              "    x.observe(outputEl, {childList: true});\n",
              "}}\n",
              "\n",
              "                        })\n",
              "                };\n",
              "                \n",
              "            </script>\n",
              "        </div>\n",
              "</body>\n",
              "</html>"
            ]
          },
          "metadata": {
            "tags": []
          }
        },
        {
          "output_type": "stream",
          "text": [
            "[20-01-20 19:17:50 INFO] Function malware_data_transform finished in 1.5547454357147217s\n",
            "[20-01-20 19:17:50 INFO] Running knn_classifier...\n",
            "[20-01-20 19:17:50 INFO] -Running KNN algorithm with n_neighbors=1\n",
            "[20-01-20 19:17:50 INFO] --Finding best 3 features\n",
            "[20-01-20 19:17:50 INFO] ---Starting fitting for weight=distance and metric=chebyshev\n",
            "[20-01-20 19:17:53 INFO] ----Measuring confusion matrix...\n",
            "[20-01-20 19:17:54 INFO] -----KNN accuracy is: 96.37812386816371%\n",
            "[20-01-20 19:17:54 INFO] -----Precision in percent: 97.51242064587359%\n",
            "[20-01-20 19:17:54 INFO] -----Recall in percent: 97.31767784587838%\n",
            "[20-01-20 19:17:54 INFO] -----False positives in percent: 2.4875793541264146%\n",
            "[20-01-20 19:17:54 INFO] -----False negatives in percent: 6.2665915855522485%\n",
            "[20-01-20 19:17:54 INFO] Exec time for 3 features: 4.4405481815338135s\n",
            "[20-01-20 19:17:54 INFO] --Finding best 23 features\n",
            "[20-01-20 19:17:54 INFO] ---Starting fitting for weight=distance and metric=chebyshev\n",
            "[20-01-20 19:18:22 INFO] ----Measuring confusion matrix...\n",
            "[20-01-20 19:18:38 INFO] -----KNN accuracy is: 99.04865386937101%\n",
            "[20-01-20 19:18:38 INFO] -----Precision in percent: 99.23198244531304%\n",
            "[20-01-20 19:18:38 INFO] -----Recall in percent: 99.41604836493542%\n",
            "[20-01-20 19:18:38 INFO] -----False positives in percent: 0.7680175546869642%\n",
            "[20-01-20 19:18:38 INFO] -----False negatives in percent: 1.3878683974201975%\n",
            "[20-01-20 19:18:38 INFO] Exec time for 23 features: 43.71846270561218s\n",
            "[20-01-20 19:18:38 INFO] --Finding best 3 features\n",
            "[20-01-20 19:18:38 INFO] ---Starting fitting for weight=uniform and metric=chebyshev\n",
            "[20-01-20 19:18:42 INFO] ----Measuring confusion matrix...\n",
            "[20-01-20 19:18:44 INFO] -----KNN accuracy is: 96.41434262948208%\n",
            "[20-01-20 19:18:44 INFO] -----Precision in percent: 97.61880147489576%\n",
            "[20-01-20 19:18:44 INFO] -----Recall in percent: 97.27353890529497%\n",
            "[20-01-20 19:18:44 INFO] -----False positives in percent: 2.3811985251042422%\n",
            "[20-01-20 19:18:44 INFO] -----False negatives in percent: 6.405292029686996%\n",
            "[20-01-20 19:18:44 INFO] Exec time for 3 features: 6.325060606002808s\n",
            "[20-01-20 19:18:44 INFO] --Finding best 23 features\n",
            "[20-01-20 19:18:44 INFO] ---Starting fitting for weight=uniform and metric=chebyshev\n",
            "[20-01-20 19:19:15 INFO] ----Measuring confusion matrix...\n",
            "[20-01-20 19:19:34 INFO] -----KNN accuracy is: 99.11143305565616%\n",
            "[20-01-20 19:19:34 INFO] -----Precision in percent: 99.27080108691914%\n",
            "[20-01-20 19:19:34 INFO] -----Recall in percent: 99.46238411965399%\n",
            "[20-01-20 19:19:34 INFO] -----False positives in percent: 0.7291989130808654%\n",
            "[20-01-20 19:19:34 INFO] -----False negatives in percent: 1.2639766650461837%\n",
            "[20-01-20 19:19:34 INFO] Exec time for 23 features: 50.20097541809082s\n",
            "[20-01-20 19:19:34 INFO] --Finding best 3 features\n",
            "[20-01-20 19:19:34 INFO] ---Starting fitting for weight=distance and metric=euclidean\n",
            "[20-01-20 19:19:38 INFO] ----Measuring confusion matrix...\n",
            "[20-01-20 19:19:39 INFO] -----KNN accuracy is: 96.5133405770856%\n",
            "[20-01-20 19:19:39 INFO] -----Precision in percent: 97.58025543665862%\n",
            "[20-01-20 19:19:39 INFO] -----Recall in percent: 97.43899076244313%\n",
            "[20-01-20 19:19:39 INFO] -----False positives in percent: 2.4197445633413874%\n",
            "[20-01-20 19:19:39 INFO] -----False negatives in percent: 5.97026918441141%\n",
            "[20-01-20 19:19:39 INFO] Exec time for 3 features: 4.377427816390991s\n",
            "[20-01-20 19:19:39 INFO] --Finding best 23 features\n",
            "[20-01-20 19:19:39 INFO] ---Starting fitting for weight=distance and metric=euclidean\n",
            "[20-01-20 19:20:23 INFO] ----Measuring confusion matrix...\n",
            "[20-01-20 19:20:54 INFO] -----KNN accuracy is: 99.20560183508391%\n",
            "[20-01-20 19:20:54 INFO] -----Precision in percent: 99.34950955085183%\n",
            "[20-01-20 19:20:54 INFO] -----Recall in percent: 99.5173412397435%\n",
            "[20-01-20 19:20:54 INFO] -----False positives in percent: 0.6504904491481672%\n",
            "[20-01-20 19:20:54 INFO] -----False negatives in percent: 1.132686084142395%\n",
            "[20-01-20 19:20:54 INFO] Exec time for 23 features: 75.58630537986755s\n",
            "[20-01-20 19:20:54 INFO] --Finding best 3 features\n",
            "[20-01-20 19:20:54 INFO] ---Starting fitting for weight=uniform and metric=euclidean\n",
            "[20-01-20 19:20:59 INFO] ----Measuring confusion matrix...\n",
            "[20-01-20 19:21:01 INFO] -----KNN accuracy is: 96.27912592056018%\n",
            "[20-01-20 19:21:01 INFO] -----Precision in percent: 97.35654196019425%\n",
            "[20-01-20 19:21:01 INFO] -----Recall in percent: 97.37319150391627%\n",
            "[20-01-20 19:21:01 INFO] -----False positives in percent: 2.643458039805759%\n",
            "[20-01-20 19:21:01 INFO] -----False negatives in percent: 6.309044606916947%\n",
            "[20-01-20 19:21:01 INFO] Exec time for 3 features: 6.681373357772827s\n",
            "[20-01-20 19:21:01 INFO] --Finding best 23 features\n",
            "[20-01-20 19:21:01 INFO] ---Starting fitting for weight=uniform and metric=euclidean\n",
            "[20-01-20 19:21:44 INFO] ----Measuring confusion matrix...\n",
            "[20-01-20 19:22:15 INFO] -----KNN accuracy is: 99.1766268260292%\n",
            "[20-01-20 19:22:15 INFO] -----Precision in percent: 99.30891499654457%\n",
            "[20-01-20 19:22:15 INFO] -----Recall in percent: 99.51178975797237%\n",
            "[20-01-20 19:22:15 INFO] -----False positives in percent: 0.691085003455425%\n",
            "[20-01-20 19:22:15 INFO] -----False negatives in percent: 1.1302605210420842%\n",
            "[20-01-20 19:22:15 INFO] Exec time for 23 features: 74.2781434059143s\n",
            "[20-01-20 19:22:15 INFO] --Finding best 3 features\n",
            "[20-01-20 19:22:15 INFO] ---Starting fitting for weight=distance and metric=manhattan\n",
            "[20-01-20 19:22:19 INFO] ----Measuring confusion matrix...\n",
            "[20-01-20 19:22:20 INFO] -----KNN accuracy is: 96.38295303633949%\n",
            "[20-01-20 19:22:20 INFO] -----Precision in percent: 97.61420444750904%\n",
            "[20-01-20 19:22:20 INFO] -----Recall in percent: 97.23204780383942%\n",
            "[20-01-20 19:22:20 INFO] -----False positives in percent: 2.3857955524909498%\n",
            "[20-01-20 19:22:20 INFO] -----False negatives in percent: 6.494762288477035%\n",
            "[20-01-20 19:22:20 INFO] Exec time for 3 features: 4.498077154159546s\n",
            "[20-01-20 19:22:20 INFO] --Finding best 23 features\n",
            "[20-01-20 19:22:20 INFO] ---Starting fitting for weight=distance and metric=manhattan\n",
            "[20-01-20 19:23:03 INFO] ----Measuring confusion matrix...\n",
            "[20-01-20 19:23:33 INFO] -----KNN accuracy is: 99.18145599420501%\n",
            "[20-01-20 19:23:33 INFO] -----Precision in percent: 99.36745848946337%\n",
            "[20-01-20 19:23:33 INFO] -----Recall in percent: 99.46662078458361%\n",
            "[20-01-20 19:23:33 INFO] -----False positives in percent: 0.632541510536629%\n",
            "[20-01-20 19:23:33 INFO] -----False negatives in percent: 1.2575044621126075%\n",
            "[20-01-20 19:23:33 INFO] Exec time for 23 features: 73.17670392990112s\n",
            "[20-01-20 19:23:33 INFO] --Finding best 3 features\n",
            "[20-01-20 19:23:33 INFO] ---Starting fitting for weight=uniform and metric=manhattan\n",
            "[20-01-20 19:23:37 INFO] ----Measuring confusion matrix...\n",
            "[20-01-20 19:23:39 INFO] -----KNN accuracy is: 96.30810092961487%\n",
            "[20-01-20 19:23:39 INFO] -----Precision in percent: 97.43996140991628%\n",
            "[20-01-20 19:23:39 INFO] -----Recall in percent: 97.29580953691598%\n",
            "[20-01-20 19:23:39 INFO] -----False positives in percent: 2.5600385900837264%\n",
            "[20-01-20 19:23:39 INFO] -----False negatives in percent: 6.342801807617818%\n",
            "[20-01-20 19:23:39 INFO] Exec time for 3 features: 6.414351224899292s\n",
            "[20-01-20 19:23:39 INFO] --Finding best 23 features\n",
            "[20-01-20 19:23:39 INFO] ---Starting fitting for weight=uniform and metric=manhattan\n",
            "[20-01-20 19:24:33 INFO] ----Measuring confusion matrix...\n",
            "[20-01-20 19:25:16 INFO] -----KNN accuracy is: 99.22733309187493%\n",
            "[20-01-20 19:25:16 INFO] -----Precision in percent: 99.32728464484079%\n",
            "[20-01-20 19:25:16 INFO] -----Recall in percent: 99.56772832589826%\n",
            "[20-01-20 19:25:16 INFO] -----False positives in percent: 0.6727153551592093%\n",
            "[20-01-20 19:25:16 INFO] -----False negatives in percent: 1.0057933698101063%\n",
            "[20-01-20 19:25:16 INFO] Exec time for 23 features: 96.78699779510498s\n",
            "[20-01-20 19:25:16 INFO] Function knn_classifier finished in 446.4995377063751s\n"
          ],
          "name": "stderr"
        }
      ]
    },
    {
      "cell_type": "markdown",
      "metadata": {
        "id": "As9NdCES7zK_",
        "colab_type": "text"
      },
      "source": [
        "After data standardization – a process of transforming data to have a mean of zero and a standard deviation of 1 – there are similar results and conclusions as with data normalization. Both are giving promising results of accuracy and precision above 99%."
      ]
    },
    {
      "cell_type": "code",
      "metadata": {
        "id": "LJJP3vs9OFRi",
        "colab_type": "code",
        "outputId": "0a5a32d8-0cf9-4540-8351-ca1d16c3dbfb",
        "colab": {
          "base_uri": "https://localhost:8080/",
          "height": 55
        }
      },
      "source": [
        "get_logger(logger_file=LOGGER_FILE).info(\"--------------------------------------\")\n",
        "get_logger(logger_file=LOGGER_FILE).info(\"---------------Stopping---------------\")"
      ],
      "execution_count": 14,
      "outputs": [
        {
          "output_type": "stream",
          "text": [
            "[20-01-20 19:25:16 INFO] --------------------------------------\n",
            "[20-01-20 19:25:16 INFO] ---------------Stopping---------------\n"
          ],
          "name": "stderr"
        }
      ]
    },
    {
      "cell_type": "markdown",
      "metadata": {
        "id": "yq7bRifl7av7",
        "colab_type": "text"
      },
      "source": [
        "Below is an output from functions run above."
      ]
    },
    {
      "cell_type": "code",
      "metadata": {
        "id": "rm5BY4rMUTmj",
        "colab_type": "code",
        "colab": {}
      },
      "source": [
        "ENABLE_LONG_LOGS = False    # change to True to enable long logger outputs"
      ],
      "execution_count": 0,
      "outputs": []
    },
    {
      "cell_type": "code",
      "metadata": {
        "id": "pjsH08t6Lhmb",
        "colab_type": "code",
        "colab": {}
      },
      "source": [
        "if ENABLE_LONG_LOGS:\n",
        "    import os\n",
        "    if os.path.exists('KNN_results_runtime.log'):\n",
        "        !cat KNN_results.log"
      ],
      "execution_count": 0,
      "outputs": []
    },
    {
      "cell_type": "markdown",
      "metadata": {
        "id": "bBa-16nZ-yDG",
        "colab_type": "text"
      },
      "source": [
        "## Algorithm parameters selection\n",
        "Because running whole script can last a long time, measurements have been carried out earlier and analyzed for best parameter selection."
      ]
    },
    {
      "cell_type": "code",
      "metadata": {
        "id": "MPqG6X02_wzL",
        "colab_type": "code",
        "outputId": "3ac4f47a-8401-4992-ce65-aa3a821714c5",
        "colab": {
          "base_uri": "https://localhost:8080/",
          "height": 1000
        }
      },
      "source": [
        "import os\n",
        "if os.path.exists('Malware_Discovery_ML/KNN/results_analyze.txt'):\n",
        "    !cat Malware_Discovery_ML/KNN/results_analyze.txt"
      ],
      "execution_count": 28,
      "outputs": [
        {
          "output_type": "stream",
          "text": [
            "For not optimized data --> k=1 – best result for weight=uniform and metric=manhattan and 23 features\n",
            "[28-12-19 14:07:31 INFO] ---Starting fitting for weight=uniform and metric=manhattan\n",
            "[28-12-19 14:07:46 INFO] ----Measuring confusion matrix...\n",
            "[28-12-19 14:07:57 INFO] -----KNN accuracy is: 97.98140770252324%\n",
            "[28-12-19 14:07:57 INFO] -----Precision in percent: 98.56965602812436%\n",
            "[28-12-19 14:07:57 INFO] -----Recall in percent: 98.54927636113025%\n",
            "[28-12-19 14:07:57 INFO] -----False positives in percent: 1.430343971875646%\n",
            "[28-12-19 14:07:57 INFO] -----False negatives in percent: 3.3948875090718493%\n",
            "\n",
            "\n",
            "For normalized data --> k=1 – best result for weight=distance and metric=manhattan and 23 features\n",
            "[28-12-19 14:15:17 INFO] --Finding best 23 features\n",
            "[28-12-19 14:15:18 INFO] ---Starting fitting for weight=distance and metric=manhattan\n",
            "[28-12-19 14:15:50 INFO] ----Measuring confusion matrix...\n",
            "[28-12-19 14:16:06 INFO] -----KNN accuracy is: 99.19594349873235%\n",
            "[28-12-19 14:16:06 INFO] -----Precision in percent: 99.32862799104836%\n",
            "[28-12-19 14:16:06 INFO] -----Recall in percent: 99.52394094107908%\n",
            "[28-12-19 14:16:06 INFO] -----False positives in percent: 0.6713720089516267%\n",
            "[28-12-19 14:16:06 INFO] -----False negatives in percent: 1.1156022635408245%\n",
            "\n",
            "\n",
            "For standardized data --> k=2 – best result for weight=distance and metric=manhattan and 23 features\n",
            "[28-12-19 14:36:12 INFO] --Finding best 23 features\n",
            "[28-12-19 14:36:13 INFO] ---Starting fitting for weight=distance and metric=manhattan\n",
            "[28-12-19 14:37:03 INFO] ----Measuring confusion matrix...\n",
            "[28-12-19 14:37:38 INFO] -----KNN accuracy is: 99.2080164191718%\n",
            "[28-12-19 14:37:38 INFO] -----Precision in percent: 99.34780358190413%\n",
            "[28-12-19 14:37:38 INFO] -----Recall in percent: 99.51951329116112%\n",
            "[28-12-19 14:37:38 INFO] -----False positives in percent: 0.6521964180958626%\n",
            "[28-12-19 14:37:38 INFO] -----False negatives in percent: 1.1177227404310068%\n",
            "\n",
            "\n",
            "For standardized data --> k=8 –\n",
            "[28-12-19 15:37:28 INFO] -Running KNN algorithm with n_neighbors=8\n",
            "[28-12-19 15:37:32 INFO] --Finding best 23 features\n",
            "[28-12-19 15:37:32 INFO] ---Starting fitting for weight=distance and metric=manhattan\n",
            "[28-12-19 15:38:43 INFO] ----Measuring confusion matrix...\n",
            "[28-12-19 15:39:28 INFO] -----KNN accuracy is: 99.33357479174212%\n",
            "[28-12-19 15:39:28 INFO] -----Precision in percent: 99.38396943937778%\n",
            "[28-12-19 15:39:28 INFO] -----Recall in percent: 99.66522864538395%\n",
            "[28-12-19 15:39:28 INFO] -----False positives in percent: 0.6160305606222253%\n",
            "[28-12-19 15:39:28 INFO] -----False negatives in percent: 0.7849166531801263%\n",
            "\n",
            "\n",
            "For standardized data with k=8 neighbors:\n",
            "[28-12-19 16:27:17 INFO] --Finding best 30 features\n",
            "[28-12-19 16:28:19 INFO] -----KNN accuracy is: 99.35047688035736%\n",
            "[28-12-19 16:28:19 INFO] -----Precision in percent: 99.39686369119421%\n",
            "[28-12-19 16:28:19 INFO] -----Recall in percent: 99.67512269302551%\n",
            "[28-12-19 16:28:19 INFO] -----False positives in percent: 0.6031363088057901%\n",
            "[28-12-19 16:28:19 INFO] -----False negatives in percent: 0.7580645161290323%\n",
            "[28-12-19 16:28:19 INFO] Exec time for 30 features: 62.01845407485962s\n",
            "-------------------------------------------------------------------------------------\n",
            "[28-12-19 17:03:09 INFO] --Finding best 47 features\n",
            "[28-12-19 17:05:26 INFO] -----KNN accuracy is: 99.35530604853314%\n",
            "[28-12-19 17:05:26 INFO] -----Precision in percent: 99.44287777701355%\n",
            "[28-12-19 17:05:26 INFO] -----Recall in percent: 99.63819303263153%\n",
            "[28-12-19 17:05:26 INFO] -----False positives in percent: 0.5571222229864502%\n",
            "[28-12-19 17:05:26 INFO] -----False negatives in percent: 0.8510983221204508%\n",
            "[28-12-19 17:05:26 INFO] Exec time for 47 features: 136.6435329914093s"
          ],
          "name": "stdout"
        }
      ]
    },
    {
      "cell_type": "code",
      "metadata": {
        "id": "fYSUpERHBo0O",
        "colab_type": "code",
        "colab": {}
      },
      "source": [
        "@log_to_file(logger_file='KNN_final.log')\n",
        "def knn_classifier_final_model(input_data, labels):\n",
        "    log = get_logger(logger_file=LOGGER_FILE)\n",
        "    log.info(f\"-Running final KNN algorithm model with n_neighbors=8\")\n",
        "    weight = 'distance'\n",
        "    metric = 'manhattan'\n",
        "\n",
        "    classifier = neighbors.KNeighborsClassifier(8, weights=weight, metric=metric)\n",
        "    start_time = time.time()\n",
        "    log.info(f\"--Finding best 30 features\")\n",
        "    best_features_data = SelectKBest(f_classif, k=30).fit_transform(input_data, labels)\n",
        "    X_train, X_test, Y_train, Y_test = train_test_split(best_features_data, labels, test_size=0.3)\n",
        "\n",
        "    log.info(f\"---Starting fitting for weight={weight} and metric={metric}\")\n",
        "    classifier.fit(X_train, Y_train)\n",
        "\n",
        "    score = classifier.score(X_test, Y_test)\n",
        "\n",
        "    \"\"\" Confusion matrix \"\"\"\n",
        "    log.info(\"----Measuring confusion matrix...\")\n",
        "    result = classifier.predict(X_test)\n",
        "    conf_matrix = confusion_matrix(Y_test, result)\n",
        "\n",
        "    log.info(f\"-----KNN accuracy is: {score * 100}%\")\n",
        "\n",
        "    precision = conf_matrix[0][0] / (conf_matrix[0][0] + conf_matrix[0][1]) * 100\n",
        "    log.info(f\"-----Precision in percent: {precision}%\")\n",
        "\n",
        "    recall = conf_matrix[0][0] / (conf_matrix[0][0] + conf_matrix[1][0]) * 100\n",
        "    log.info(f\"-----Recall in percent: {recall}%\")\n",
        "\n",
        "    false_positives = conf_matrix[0][1] / sum(conf_matrix[0]) * 100\n",
        "    log.info(f\"-----False positives in percent: {false_positives}%\")\n",
        "\n",
        "    false_negatives = conf_matrix[1][0] / sum(conf_matrix[1]) * 100\n",
        "    log.info(f\"-----False negatives in percent: {false_negatives}%\")\n",
        "    log.info(f\"Exec time for 30 features: {time.time() - start_time}s\")"
      ],
      "execution_count": 0,
      "outputs": []
    },
    {
      "cell_type": "markdown",
      "metadata": {
        "id": "_eJvgLXIJ4L3",
        "colab_type": "text"
      },
      "source": [
        "Model is performing best with 8 neighbors, 30 features selected by function *SelectKBest* (thus it can vary, but not much) and fed with standardized data. The algorithm is running for about 60 seconds."
      ]
    },
    {
      "cell_type": "code",
      "metadata": {
        "id": "t4tGrMiIAyio",
        "colab_type": "code",
        "outputId": "bc7dee8b-926b-475c-b8d6-b51f909bc03a",
        "colab": {
          "base_uri": "https://localhost:8080/",
          "height": 302
        }
      },
      "source": [
        "    get_logger(logger_file=LOGGER_FILE).info(\"--------------------------------------\")\n",
        "    input_data, labels = malware_data_transform(optimize_data='standardize', enable_figures=False)\n",
        "    knn_classifier_final_model(input_data, labels)"
      ],
      "execution_count": 19,
      "outputs": [
        {
          "output_type": "stream",
          "text": [
            "[20-01-20 19:25:18 INFO] --------------------------------------\n",
            "[20-01-20 19:25:18 INFO] Running malware_data_transform...\n",
            "[20-01-20 19:25:18 INFO] -Reading csv file\n",
            "[20-01-20 19:25:19 INFO] --Data standardization processing...\n",
            "[20-01-20 19:25:19 INFO] Function malware_data_transform finished in 1.136582612991333s\n",
            "[20-01-20 19:25:19 INFO] -Running final KNN algorithm model with n_neighbors=8\n",
            "[20-01-20 19:25:19 INFO] --Finding best 30 features\n",
            "[20-01-20 19:25:19 INFO] ---Starting fitting for weight=distance and metric=manhattan\n",
            "[20-01-20 19:26:19 INFO] ----Measuring confusion matrix...\n",
            "[20-01-20 19:27:09 INFO] -----KNN accuracy is: 99.29735603042376%\n",
            "[20-01-20 19:27:09 INFO] -----Precision in percent: 99.31488078925733%\n",
            "[20-01-20 19:27:09 INFO] -----Recall in percent: 99.68710243097341%\n",
            "[20-01-20 19:27:09 INFO] -----False positives in percent: 0.6851192107426692%\n",
            "[20-01-20 19:27:09 INFO] -----False negatives in percent: 0.7444980773950749%\n",
            "[20-01-20 19:27:09 INFO] Exec time for 30 features: 110.24777269363403s\n"
          ],
          "name": "stderr"
        }
      ]
    },
    {
      "cell_type": "code",
      "metadata": {
        "id": "jFSpE-51C-rP",
        "colab_type": "code",
        "colab": {}
      },
      "source": [
        "import os\n",
        "if ENABLE_LONG_LOGS:\n",
        "    if os.path.exists('Malware_Discovery_ML/KNN/loggerOutputs/KNN_results.log'):\n",
        "        !cat Malware_Discovery_ML/KNN/loggerOutputs/KNN_results.log\n",
        "    if os.path.exists('Malware_Discovery_ML/KNN/loggerOutputs/KNN_standardized_data.log'):\n",
        "        !cat Malware_Discovery_ML/KNN/loggerOutputs/KNN_standardized_data.log\n",
        "    if os.path.exists('Malware_Discovery_ML/KNN/loggerOutputs/KNN_k8_features.log'):\n",
        "        !cat Malware_Discovery_ML/KNN/loggerOutputs/KNN_k8_features.log\n",
        "    if os.path.exists('Malware_Discovery_ML/KNN/loggerOutputs/KNN_final.log'):\n",
        "        !cat Malware_Discovery_ML/KNN/loggerOutputs/KNN_final.log"
      ],
      "execution_count": 0,
      "outputs": []
    },
    {
      "cell_type": "markdown",
      "metadata": {
        "id": "-ByJ2DFPFkmM",
        "colab_type": "text"
      },
      "source": [
        "# Decision Tree\n"
      ]
    },
    {
      "cell_type": "code",
      "metadata": {
        "id": "5m4Sk2QkGpHH",
        "colab_type": "code",
        "colab": {}
      },
      "source": [
        "import seaborn as sn\n",
        "import matplotlib.pyplot as plt\n",
        "from sklearn import tree\n",
        "import graphviz\n",
        "import numpy as np\n",
        "import time\n",
        "import pandas as pd\n",
        "from sklearn.feature_selection import SelectFromModel\n",
        "from sklearn.model_selection import train_test_split\n",
        "from sklearn.metrics import classification_report, confusion_matrix\n",
        "from sklearn.ensemble import ExtraTreesClassifier\n",
        "from sklearn.svm import LinearSVC\n",
        "import warnings\n",
        "\n",
        "warnings.filterwarnings(\"ignore\")"
      ],
      "execution_count": 0,
      "outputs": []
    },
    {
      "cell_type": "code",
      "metadata": {
        "id": "5tQEzqmEOUQV",
        "colab_type": "code",
        "colab": {}
      },
      "source": [
        "svc_list = []\n",
        "svc_features = []\n",
        "\n",
        "tree_selection_list = []\n",
        "tree_selection_features = []\n",
        "\n",
        "none_feature_list = []"
      ],
      "execution_count": 0,
      "outputs": []
    },
    {
      "cell_type": "code",
      "metadata": {
        "id": "TUDLR1wYH6So",
        "colab_type": "code",
        "colab": {}
      },
      "source": [
        "def get_average_confusion_matrix(list, name):\n",
        "    a = list[0][0]\n",
        "    b = list[0][1]\n",
        "\n",
        "    for single_matrix in list:\n",
        "        a = np.vstack((a, single_matrix[0]))\n",
        "        b = np.vstack((b, single_matrix[1]))\n",
        "\n",
        "    a = np.delete(a, (0), axis=0)\n",
        "    b = np.delete(b, (0), axis=0)\n",
        "\n",
        "    a_average = np.mean(a, axis=0)\n",
        "    b_average = np.mean(b, axis=0)\n",
        "\n",
        "    average_matrix = list[0][0]\n",
        "    average_matrix = np.vstack((average_matrix, a_average))\n",
        "    average_matrix = np.vstack((average_matrix, b_average))\n",
        "    average_matrix = np.delete(average_matrix, 0, axis=0)\n",
        "\n",
        "    df_cm = pd.DataFrame(average_matrix, range(2), range(2))\n",
        "    sn.set(font_scale=1.4)\n",
        "    sn.heatmap(df_cm, annot=True, annot_kws={\"size\": 16}, cmap='Blues', fmt='g')  # font size\n",
        "    plt.title(str(name) + \" feature selection\")\n",
        "    plt.show()\n",
        "\n",
        "\n",
        "def get_confusion_matrix(Y, predictions, name):\n",
        "    matrix = confusion_matrix(Y, predictions)\n",
        "    if name == \"LinearSVC\":\n",
        "        svc_list.append(matrix)\n",
        "    if name == \"Tree selection\":\n",
        "        tree_selection_list.append(matrix)\n",
        "    if name == \"None\":\n",
        "        none_feature_list.append(matrix)\n",
        "\n",
        "\n",
        "\n",
        "def show_graph(my_classifier, feautures_names, name):\n",
        "    dot_data = tree.export_graphviz(my_classifier, out_file=None,\n",
        "                                    feature_names=feautures_names,\n",
        "                                    class_names=[str(0), str(1)],\n",
        "                                    filled=True, rounded=True,\n",
        "                                    special_characters=False)\n",
        "    graph = graphviz.Source(dot_data)\n",
        "    graph.render(\"decision_graph_\" + str(name) + \".dot\")\n",
        "\n",
        "\n",
        "def train_decision_tree(X, Y, name):\n",
        "    X_train, X_test, Y_train, Y_test = train_test_split(X, Y, test_size=0.25)\n",
        "    my_classifier = tree.DecisionTreeClassifier()\n",
        "    my_classifier.fit(X_train, Y_train)\n",
        "    score = my_classifier.score(X_test, Y_test)\n",
        "    predictions = my_classifier.predict(X_test)\n",
        "    if name == \"LinearSVC\":\n",
        "        svc_features.append(X.shape[1])\n",
        "    if name == \"Tree selection\":\n",
        "        tree_selection_features.append(X.shape[1])\n",
        "    get_confusion_matrix(Y_test, predictions, name)\n",
        "\n",
        "def test_SVC_loop(X, Y, loop_range):\n",
        "    for i in range(loop_range):\n",
        "        lsvc = LinearSVC(C=0.01, penalty=\"l1\", dual=False).fit(X, Y)\n",
        "        model = SelectFromModel(lsvc, prefit=True)\n",
        "        X_new_L1 = model.transform(X)\n",
        "        train_decision_tree(X_new_L1, Y, \"LinearSVC\")\n",
        "\n",
        "\n",
        "def test_extra_tree_loop(X, Y, loop_range):\n",
        "    for i in range(loop_range):\n",
        "        clf = ExtraTreesClassifier().fit(X, Y)\n",
        "        feature_selection = SelectFromModel(clf, prefit=True)\n",
        "        X_new_tree_based = feature_selection.transform(X)\n",
        "        train_decision_tree(X_new_tree_based, Y, \"Tree selection\")\n",
        "\n",
        "\n",
        "def test_no_features_selection_loop(X, Y, loop_range):\n",
        "    for i in range(loop_range):\n",
        "        train_decision_tree(X, Y, \"None\")\n"
      ],
      "execution_count": 0,
      "outputs": []
    },
    {
      "cell_type": "code",
      "metadata": {
        "id": "bIEW_G3ZIHPm",
        "colab_type": "code",
        "outputId": "3b5c48ae-7e78-4de4-e1af-1cb6a1473626",
        "colab": {
          "base_uri": "https://localhost:8080/",
          "height": 36
        }
      },
      "source": [
        "print(\"--- main starts ---\")\n",
        "data = pd.read_csv(\"MalwareData.csv\", sep='|')\n",
        "feautures_names = data.drop(['Name', 'md5', 'legitimate'], axis=1).columns\n",
        "X = data.drop(['Name', 'md5', 'legitimate'], axis=1).values\n",
        "\n",
        "Y = data['legitimate'].values"
      ],
      "execution_count": 24,
      "outputs": [
        {
          "output_type": "stream",
          "text": [
            "--- main starts ---\n"
          ],
          "name": "stdout"
        }
      ]
    },
    {
      "cell_type": "code",
      "metadata": {
        "id": "ojlC6Jb9SGoz",
        "colab_type": "code",
        "outputId": "c5b614b3-35e0-49eb-87fb-02272fd84d7b",
        "colab": {
          "base_uri": "https://localhost:8080/",
          "height": 388
        }
      },
      "source": [
        "print(\"--- LinearSVC Starts! ---\")\n",
        "start_time = time.time()\n",
        "test_SVC_loop(X, Y, 30)\n",
        "\n",
        "print(\"SVC average confusion matrix : \")\n",
        "get_average_confusion_matrix(svc_list, \"LinearSVC\")\n",
        "\n",
        "svc_average_features_amount = sum(svc_features) / len(svc_features)\n",
        "print(\"Average amount of features in SVC feature selection: \" + str(svc_average_features_amount))\n",
        "\n",
        "training_time = time.time() - start_time\n",
        "average_training_time = training_time/30\n",
        "print(\"Average training time : \" + str(average_training_time))\n",
        "print(\"--- %s seconds ---\" % (training_time))"
      ],
      "execution_count": 25,
      "outputs": [
        {
          "output_type": "stream",
          "text": [
            "--- LinearSVC Starts! ---\n",
            "SVC average confusion matrix : \n"
          ],
          "name": "stdout"
        },
        {
          "output_type": "display_data",
          "data": {
            "image/png": "[encoded data removed]",
            "text/plain": [
              "<Figure size 432x288 with 2 Axes>"
            ]
          },
          "metadata": {
            "tags": []
          }
        },
        {
          "output_type": "stream",
          "text": [
            "Average amount of features in SVC feature selection: 27.3\n",
            "Average training time : 12.128770128885906\n",
            "--- 363.86310386657715 seconds ---\n"
          ],
          "name": "stdout"
        }
      ]
    },
    {
      "cell_type": "code",
      "metadata": {
        "id": "_LUOnW4-bLow",
        "colab_type": "code",
        "outputId": "41caad07-81cf-47f2-d8d2-015e47b0982d",
        "colab": {
          "base_uri": "https://localhost:8080/",
          "height": 388
        }
      },
      "source": [
        "print(\"--- ExtraTree Starts! ---\")\n",
        "start_time = time.time()\n",
        "test_extra_tree_loop(X, Y, 30)\n",
        "\n",
        "print(\"Tree Selection average matrix : \" )\n",
        "get_average_confusion_matrix(tree_selection_list, \"ExtraTree\")\n",
        "\n",
        "tree_features_average_amount = sum(tree_selection_features) / len(tree_selection_features)\n",
        "print(\"Average amount of features in Tree Selection:  \" + str(tree_features_average_amount))\n",
        "\n",
        "training_time = time.time() - start_time\n",
        "average_training_time = training_time/30\n",
        "print(\"Average training time : \" + str(average_training_time))\n",
        "print(\"--- %s seconds ---\" % (training_time))"
      ],
      "execution_count": 26,
      "outputs": [
        {
          "output_type": "stream",
          "text": [
            "--- ExtraTree Starts! ---\n",
            "Tree Selection average matrix : \n"
          ],
          "name": "stdout"
        },
        {
          "output_type": "display_data",
          "data": {
            "image/png": "[encoded data removed]",
            "text/plain": [
              "<Figure size 432x288 with 2 Axes>"
            ]
          },
          "metadata": {
            "tags": []
          }
        },
        {
          "output_type": "stream",
          "text": [
            "Average amount of features in Tree Selection:  13.3\n",
            "Average training time : 14.590334876378376\n",
            "--- 437.7100462913513 seconds ---\n"
          ],
          "name": "stdout"
        }
      ]
    },
    {
      "cell_type": "code",
      "metadata": {
        "id": "fnZXHoUfiyug",
        "colab_type": "code",
        "outputId": "5894423d-907d-4bda-ccac-333490c3a22d",
        "colab": {
          "base_uri": "https://localhost:8080/",
          "height": 388
        }
      },
      "source": [
        "print(\"--- No Features Starts! ---\")\n",
        "start_time = time.time()\n",
        "test_no_features_selection_loop(X, Y, 30)\n",
        "\n",
        "print(\"No feature selection average confusion matrix : \")\n",
        "get_average_confusion_matrix(none_feature_list, \"None\")\n",
        "\n",
        "training_time = time.time() - start_time\n",
        "average_training_time = training_time/30\n",
        "print(\"Amount of features : \" + str(X.shape[1]))\n",
        "print(\"Average training time : \" + str(average_training_time))\n",
        "print(\"--- %s seconds ---\" % (training_time))"
      ],
      "execution_count": 27,
      "outputs": [
        {
          "output_type": "stream",
          "text": [
            "--- No Features Starts! ---\n",
            "No feature selection average confusion matrix : \n"
          ],
          "name": "stdout"
        },
        {
          "output_type": "display_data",
          "data": {
            "image/png": "[encoded data removed]",
            "text/plain": [
              "<Figure size 432x288 with 2 Axes>"
            ]
          },
          "metadata": {
            "tags": []
          }
        },
        {
          "output_type": "stream",
          "text": [
            "Amount of features : 54\n",
            "Average training time : 4.8840210199356076\n",
            "--- 146.52063059806824 seconds ---\n"
          ],
          "name": "stdout"
        }
      ]
    }
  ]
}