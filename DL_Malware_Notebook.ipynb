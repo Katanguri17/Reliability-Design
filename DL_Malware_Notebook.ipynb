{
  "nbformat": 4,
  "nbformat_minor": 0,
  "metadata": {
    "colab": {
      "name": "DL_Malware_Notebook.ipynb",
      "provenance": [],
      "include_colab_link": true
    },
    "kernelspec": {
      "name": "python3",
      "display_name": "Python 3"
    }
  },
  "cells": [
    {
      "cell_type": "markdown",
      "metadata": {
        "id": "view-in-github",
        "colab_type": "text"
      },
      "source": [
        "<a href=\"https://colab.research.google.com/github/kamkali/Malicious_Discovery/blob/master/DL_Malware_Notebook.ipynb\" target=\"_parent\"><img src=\"https://colab.research.google.com/assets/colab-badge.svg\" alt=\"Open In Colab\"/></a>"
      ]
    },
    {
      "cell_type": "code",
      "metadata": {
        "id": "l-dHuvQtdSw4",
        "colab_type": "code",
        "outputId": "d79327d3-0b4b-485f-d2ce-2d6c06662db3",
        "colab": {
          "base_uri": "https://localhost:8080/",
          "height": 36
        }
      },
      "source": [
        "print(\"Hello from Python3 shell!\")"
      ],
      "execution_count": 0,
      "outputs": [
        {
          "output_type": "stream",
          "text": [
            "Hello from Python3 shell!\n"
          ],
          "name": "stdout"
        }
      ]
    },
    {
      "cell_type": "markdown",
      "metadata": {
        "id": "rp4LelB4jM7J",
        "colab_type": "text"
      },
      "source": [
        "# Hello on Jupyter Notebook with Google Collab! Here we can post our research on discovering malware with machine learning.\n",
        "## Plik będzie dostępny na naszym repo na githubie.\n",
        "### Tutaj macie link powitalny od goola na temat jak to wszystko działa tutaj:\n",
        "https://colab.research.google.com/notebooks/welcome.ipynb#scrollTo=-Rh3-Vt9Nev9\n",
        "Dajcie znać co myślicie o takim rozwiązaniu. Moim zdaniem może się tutaj wygodnie pracować. Pozdro wariaty!!!"
      ]
    },
    {
      "cell_type": "code",
      "metadata": {
        "id": "rT63_ngMk7YE",
        "colab_type": "code",
        "outputId": "d018b093-14a6-4c4a-ebff-bdcde3cdd94c",
        "colab": {
          "base_uri": "https://localhost:8080/",
          "height": 36
        }
      },
      "source": [
        "!pwd"
      ],
      "execution_count": 0,
      "outputs": [
        {
          "output_type": "stream",
          "text": [
            "/content\n"
          ],
          "name": "stdout"
        }
      ]
    }
  ]
}