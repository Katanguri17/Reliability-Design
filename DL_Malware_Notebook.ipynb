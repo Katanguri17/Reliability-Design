{
  "nbformat": 4,
  "nbformat_minor": 0,
  "metadata": {
    "colab": {
      "name": "DL_Malware_Notebook.ipynb",
      "provenance": [],
      "collapsed_sections": [],
      "toc_visible": true,
      "include_colab_link": true
    },
    "kernelspec": {
      "name": "python3",
      "display_name": "Python 3"
    }
  },
  "cells": [
    {
      "cell_type": "markdown",
      "metadata": {
        "id": "view-in-github",
        "colab_type": "text"
      },
      "source": [
        "<a href=\"https://colab.research.google.com/github/kamkali/Malicious_Discovery/blob/master/DL_Malware_Notebook.ipynb\" target=\"_parent\"><img src=\"https://colab.research.google.com/assets/colab-badge.svg\" alt=\"Open In Colab\"/></a>"
      ]
    },
    {
      "cell_type": "markdown",
      "metadata": {
        "id": "rp4LelB4jM7J",
        "colab_type": "text"
      },
      "source": [
        "\n",
        "# Welcome to the Jupyter Notebook with Google Colab! Here we will post our research on discovering malware using machine learning.\n",
        "\n",
        "*authors: Jakub Burghardt, Kamil Kaliś, Michał Szczepaniak-Krupowski*"
      ]
    },
    {
      "cell_type": "code",
      "metadata": {
        "id": "_A81ddFiMone",
        "colab_type": "code",
        "outputId": "e685112f-3426-41d9-e17f-bd977664ab3a",
        "colab": {
          "base_uri": "https://localhost:8080/",
          "height": 74
        }
      },
      "source": [
        "!pip install pefile\n",
        "def sup():\n",
        "  print(\"Hello World!\")\n",
        "sup()"
      ],
      "execution_count": 1,
      "outputs": [
        {
          "output_type": "stream",
          "text": [
            "Requirement already satisfied: pefile in /usr/local/lib/python3.6/dist-packages (2019.4.18)\n",
            "Requirement already satisfied: future in /usr/local/lib/python3.6/dist-packages (from pefile) (0.16.0)\n",
            "Hello World!\n"
          ],
          "name": "stdout"
        }
      ]
    },
    {
      "cell_type": "code",
      "metadata": {
        "id": "gjnVomalm7iN",
        "colab_type": "code",
        "colab": {}
      },
      "source": [
        "def upload_files():\n",
        "    \"\"\"Function for uploading files to the project\"\"\"\n",
        "    from google.colab import files\n",
        "    uploaded = files.upload()\n",
        "    for k, v in uploaded.items():\n",
        "        open(k, 'wb').write(v)\n",
        "    return list(uploaded.keys())"
      ],
      "execution_count": 0,
      "outputs": []
    },
    {
      "cell_type": "markdown",
      "metadata": {
        "id": "c4jwWlmDkolB",
        "colab_type": "text"
      },
      "source": [
        "-----"
      ]
    },
    {
      "cell_type": "markdown",
      "metadata": {
        "id": "kXzB8IW4wh_3",
        "colab_type": "text"
      },
      "source": [
        "# Part I: planning\n"
      ]
    },
    {
      "cell_type": "markdown",
      "metadata": {
        "id": "w4W_Rct2gYbN",
        "colab_type": "text"
      },
      "source": [
        "## Main tasks:\n",
        "- get acquaint with malware topic:\n",
        "    - types of malware\n",
        "    - frequency of appearance on different operating systems\n",
        "    - detection methods: static and dynamic\n",
        "    - trends\n",
        "- familiarity with machine learning topic: \n",
        "    - selection of different algorithms\n",
        "- most significant features pick\n",
        "- dataset pick:\n",
        "    - should be up to date (as current as possible)\n",
        "    - should contain proper features selected earlier\n",
        "- analysis of efficiency of chosen algorithms:\n",
        "    - statistical comparison of accuracy, true positives/false negatives/etc."
      ]
    },
    {
      "cell_type": "markdown",
      "metadata": {
        "id": "HGONaqPalQHq",
        "colab_type": "text"
      },
      "source": [
        "## Assignment of the task:\n",
        "### Michał Szczepaniak-Krupowski:\n",
        "A deeper look at malware – types and families, comparison between static and dynamic methods.\n",
        "\n",
        "The popularity of malware on different OS – why Windows users are the most threatened on the malicious software attack?\n",
        "\n",
        "### Kamil Kaliś:\n",
        "What is Machine Learning and why is it crucial in Cybersecurity – the need for accelerating the usage of ML in modern detecting malware.\n",
        "\n",
        "Comparison of different supervised learning algorithms – pros and cons in malware detection.\n",
        "\n",
        "### Jakub Burghardt:\n",
        "Malware detection methods – more detailed reasoning about static detection methods.\n",
        "\n",
        "A brief look at PE format (Portable Executable) – how can they be helpful in detecting malware with static methods?"
      ]
    },
    {
      "cell_type": "markdown",
      "metadata": {
        "id": "XCLfUg4anHAm",
        "colab_type": "text"
      },
      "source": [
        "-----"
      ]
    },
    {
      "cell_type": "markdown",
      "metadata": {
        "id": "2u92j9RanK5C",
        "colab_type": "text"
      },
      "source": [
        "# Mid-term presentation\n",
        "### link to presentation:\n",
        "https://drive.google.com/open?id=1x1DcDueWrDM8XHEd-sKMWykt5G3wMW9X-8NbKFgRhmk"
      ]
    },
    {
      "cell_type": "markdown",
      "metadata": {
        "id": "Ki4t_5tBMm4x",
        "colab_type": "text"
      },
      "source": [
        "# Project implementation:"
      ]
    },
    {
      "cell_type": "markdown",
      "metadata": {
        "id": "m-ELzWs2Jy6U",
        "colab_type": "text"
      },
      "source": [
        "># *'Before'* section:"
      ]
    },
    {
      "cell_type": "markdown",
      "metadata": {
        "id": "thgj7PYGJ8kK",
        "colab_type": "text"
      },
      "source": [
        "Code snippet to upload MalwareData.csv if not already in colab directory:"
      ]
    },
    {
      "cell_type": "code",
      "metadata": {
        "id": "NG3cOt_JJ7BF",
        "colab_type": "code",
        "colab": {}
      },
      "source": [
        "import os\n",
        "if not os.path.exists('MalDiscoveryData'):\n",
        "    !git clone https://github.com/kamkali/MalDiscoveryData\n",
        "    !unzip MalDiscoveryData/MalwareData.csv.zip"
      ],
      "execution_count": 0,
      "outputs": []
    },
    {
      "cell_type": "markdown",
      "metadata": {
        "id": "AqUwz-vIKEyX",
        "colab_type": "text"
      },
      "source": [
        "Logger module to save outputs from functions:"
      ]
    },
    {
      "cell_type": "code",
      "metadata": {
        "id": "J8RVUXrVKMj0",
        "colab_type": "code",
        "colab": {}
      },
      "source": [
        "import logging\n",
        "import functools\n",
        "import time\n",
        "\n",
        "\"\"\"Logger module created by Kamil Kaliś\"\"\"\n",
        "\n",
        "\n",
        "def logger_setup(logger_file=\"results.log\"):\n",
        "    \"\"\"Sets up the logger.\n",
        "    Usage:\n",
        "        1. With wrapper @log_to_file(logger_file=<loggername.log>)\n",
        "        2. Set logger within module as:\n",
        "            2.1 log = get_logger(logger_file-<loggername.log>)\n",
        "            2.2 use 'log' variable to use logger and write them to file\"\"\"\n",
        "\n",
        "    logformat = \"[%(asctime)s %(levelname)s] %(message)s\"\n",
        "    dateformat = \"%d-%m-%y %H:%M:%S\"\n",
        "    logger = logging.getLogger(logger_file)\n",
        "    formatter = logging.Formatter(logformat)\n",
        "    formatter.datefmt = dateformat\n",
        "    fh = logging.FileHandler(logger_file, mode=\"a\")\n",
        "    fh.setFormatter(formatter)\n",
        "    sh = logging.StreamHandler()\n",
        "    sh.setFormatter(formatter)\n",
        "    logger.setLevel(logging.INFO)\n",
        "    logger.addHandler(fh)\n",
        "    logger.addHandler(sh)\n",
        "    logger.propagate = False\n",
        "\n",
        "\n",
        "def log_to_file(func=None, logger_file='results.log'):\n",
        "    def log_exec_time(original_func):\n",
        "        \"\"\"Wrapper for logging execution time of marked function.\n",
        "        Usage:\n",
        "        Add adnotation above function: '@log_to_file(<logger_file.log>)'\"\"\"\n",
        "\n",
        "        @functools.wraps(original_func)\n",
        "        def wrapper(*args, **kwargs):\n",
        "            log = logging.getLogger(logger_file)\n",
        "            log.info(f\"Running {original_func.__name__}...\")\n",
        "            start_time = time.time()\n",
        "            result = original_func(*args, **kwargs)\n",
        "            exec_time = time.time() - start_time\n",
        "            log.info(f\"Function {original_func.__name__} finished in {exec_time}s\")\n",
        "            return result\n",
        "\n",
        "        return wrapper\n",
        "\n",
        "    return log_exec_time if func is None else log_exec_time(func)\n",
        "\n",
        "\n",
        "def get_logger(logger_file='results.log'):\n",
        "    return logging.getLogger(logger_file)\n"
      ],
      "execution_count": 0,
      "outputs": []
    },
    {
      "cell_type": "markdown",
      "metadata": {
        "id": "XeXnUrh2nXPA",
        "colab_type": "text"
      },
      "source": [
        "--------"
      ]
    },
    {
      "cell_type": "markdown",
      "metadata": {
        "id": "ApZikBoQnYky",
        "colab_type": "text"
      },
      "source": [
        "> # K-Nearest Neighbors:\n",
        "*author: Kamil Kaliś*"
      ]
    },
    {
      "cell_type": "markdown",
      "metadata": {
        "id": "SBm7luWAlrdI",
        "colab_type": "text"
      },
      "source": [
        "One simple way to solve malware detection problems is to use the K-Nearest Neighbors algorithm. KNN model from the third-party library (*sklearn*) will be used.\n",
        "We also need data to work on and in this case, it is collected in *MalwareData.csv* file. To process data, *pandas* library and sklearn modules are used. To visualize data and charts *plotly* library will be used."
      ]
    },
    {
      "cell_type": "markdown",
      "metadata": {
        "id": "0g2tZPcnnZR_",
        "colab_type": "text"
      },
      "source": [
        "As mentioned above, let's start with importing adequate libraries and modules:"
      ]
    },
    {
      "cell_type": "code",
      "metadata": {
        "id": "x6HcpRdbnX_v",
        "colab_type": "code",
        "colab": {}
      },
      "source": [
        "import pandas as pd\n",
        "import plotly.graph_objects as go\n",
        "from plotly.offline import plot\n",
        "from sklearn import neighbors, preprocessing\n",
        "from sklearn.model_selection import train_test_split\n",
        "from sklearn.feature_selection import SelectKBest, f_classif\n",
        "from sklearn.metrics import confusion_matrix"
      ],
      "execution_count": 0,
      "outputs": []
    },
    {
      "cell_type": "markdown",
      "metadata": {
        "id": "zXUfElNKnnfR",
        "colab_type": "text"
      },
      "source": [
        "Then, read data to work on:"
      ]
    },
    {
      "cell_type": "code",
      "metadata": {
        "id": "CSe3UA0voVYx",
        "colab_type": "code",
        "outputId": "2388d99f-2ac4-4619-826d-6384ee9bca47",
        "colab": {
          "base_uri": "https://localhost:8080/",
          "height": 55
        }
      },
      "source": [
        "data = pd.read_csv('MalwareData.csv', sep='|')\n",
        "print(data.shape[0], data.shape[1])\n",
        "benign_files = data[data['legitimate'] == 1].count()\n",
        "malware_files = data[data['legitimate'] == 0].count()\n",
        "print(f\"Clean files count is {benign_files[1]} and malware files count is {malware_files[1]}\")"
      ],
      "execution_count": 6,
      "outputs": [
        {
          "output_type": "stream",
          "text": [
            "138047 57\n",
            "Clean files count is 41323 and malware files count is 96724\n"
          ],
          "name": "stdout"
        }
      ]
    },
    {
      "cell_type": "markdown",
      "metadata": {
        "id": "qfRHsxkdoEes",
        "colab_type": "text"
      },
      "source": [
        "MalwareData.csv contains 138 047 records as a whole, where 41 323 files are benign, clean files, and 96 724 files which are malicious. \n",
        "Data is reprezented with 56 features. Last 57'th feature represents a label *legitimate* classifies given sample:\n",
        "\n",
        "'1' – for clean file, '0' – for malware file.\n",
        "\n",
        "Knowing all this, we can start to process the data to more algorithm friendly form."
      ]
    },
    {
      "cell_type": "markdown",
      "metadata": {
        "id": "LyTpLt-a9Pfk",
        "colab_type": "text"
      },
      "source": [
        "## Function: malware_data_transform\n",
        "\n",
        "### **@description:** \n",
        "> Performs data transform as dropping insignificant columns and 'legitimate' column, which contains labels. It can normalize or standardize data.\n",
        "\n",
        "### **@params:**\n",
        "\n",
        ">*   optimize_data – enables data normalization or standardization: \n",
        "default is None\n",
        ">*   csv_data – cvs file to read and transform:\n",
        "default is MalwareData.csv\n",
        ">*   csv_sep – separator used in csv file:\n",
        "default is '|'\n",
        ">*   enable figures – enables plotly charts to show:\n",
        "default is False\n",
        "\n",
        "### **@returns:**\n",
        "\n",
        "\n",
        "> full_data.values, labels – tuple with values of features and labels for malicious and clean files\n",
        "\n",
        "\n",
        "\n",
        "\n",
        "\n",
        "\n"
      ]
    },
    {
      "cell_type": "code",
      "metadata": {
        "id": "VxFEUrZMqZJw",
        "colab_type": "code",
        "colab": {}
      },
      "source": [
        "@log_to_file(logger_file='KNN_results.log')\n",
        "def malware_data_transform(optimize_data=None, csv_data='MalwareData.csv', csv_sep='|', enable_figures=False):\n",
        "    log = get_logger(logger_file='KNN_results.log')\n",
        "    log.info(\"-Reading csv file\")\n",
        "    full_data = pd.read_csv(csv_data, sep=csv_sep)\n",
        "\n",
        "    pd.set_option(\"display.max_columns\", None)\n",
        "\n",
        "    labels = full_data['legitimate'].values\n",
        "    full_data: pd.DataFrame = full_data.drop(['Name', 'md5', 'legitimate'], axis=1)\n",
        "\n",
        "    if optimize_data == 'normalize':\n",
        "        log.info(\"--Data normalization processing...\")\n",
        "        full_data = pd.DataFrame(preprocessing.MinMaxScaler().fit_transform(full_data))\n",
        "    elif optimize_data == 'standardize':\n",
        "        log.info(\"--Data standardization processing...\")\n",
        "        full_data = pd.DataFrame(preprocessing.StandardScaler().fit_transform(full_data))\n",
        "\n",
        "    if enable_figures:\n",
        "        log.info(\"--Figures enabled\")\n",
        "        plot_bar_figures(full_data, optimize_data)\n",
        "\n",
        "    return full_data.values, labels\n"
      ],
      "execution_count": 0,
      "outputs": []
    },
    {
      "cell_type": "markdown",
      "metadata": {
        "id": "Pa7NfTXQBqyP",
        "colab_type": "text"
      },
      "source": [
        "When transforming data, it is good to see how it looks like. The next function provides a utility to show non-optimized data, normalized or standardized forms of data."
      ]
    },
    {
      "cell_type": "markdown",
      "metadata": {
        "id": "jyPQE8xcAiJU",
        "colab_type": "text"
      },
      "source": [
        "## Function: plot_bar_figures\n",
        "\n",
        "### **@description:** \n",
        "> Function to plot bar charts with features values\n",
        "### **@params:**\n",
        "\n",
        "\n",
        ">*   optimize_data – enables data normalization or standardization: \n",
        "default is None\n",
        ">*   full_data – transformed data\n",
        "\n",
        "### **@returns:**\n",
        "> Nothing\n",
        "\n",
        "\n",
        "\n",
        "\n",
        "\n",
        "\n"
      ]
    },
    {
      "cell_type": "code",
      "metadata": {
        "id": "U2WwdyG2qrZF",
        "colab_type": "code",
        "colab": {}
      },
      "source": [
        "def plot_bar_figures(full_data, optimize_data):\n",
        "    cols = full_data.keys()\n",
        "    if optimize_data == 'normalize':\n",
        "        cols = full_data.keys()\n",
        "        full_data_normalized = pd.DataFrame(preprocessing.MinMaxScaler().fit_transform(full_data))\n",
        "        trace_norm_mean: pd.DataFrame = full_data_normalized.mean()\n",
        "        trace_norm_std: pd.DataFrame = full_data_normalized.std()\n",
        "\n",
        "        # -------------------------------------------------\n",
        "        layout = go.Layout(title='Normalized data mean')\n",
        "        figure = go.Figure(go.Bar(y=trace_norm_mean,\n",
        "                                  x=cols\n",
        "                                  ), layout=layout)\n",
        "        figure.show()\n",
        "        # -------------------------------------------------\n",
        "        layout = go.Layout(title='Normalized data standard deviation')\n",
        "        figure = go.Figure(go.Bar(y=trace_norm_std,\n",
        "                                  x=cols\n",
        "                                  ), layout=layout)\n",
        "        figure.show()\n",
        "\n",
        "    elif optimize_data == 'standardize':\n",
        "        cols = full_data.keys()\n",
        "\n",
        "        full_data_standardized = pd.DataFrame(preprocessing.StandardScaler().fit_transform(full_data))\n",
        "        trace_stand_mean = full_data_standardized.mean()\n",
        "        trace_stand_std = full_data_standardized.std()\n",
        "\n",
        "        # -------------------------------------------------\n",
        "        layout = go.Layout(title='Standardized data mean')\n",
        "        figure = go.Figure(go.Bar(y=trace_stand_mean,\n",
        "                                  x=cols\n",
        "                                  ), layout=layout)\n",
        "        \n",
        "        figure.show()\n",
        "        # -------------------------------------------------\n",
        "        layout = go.Layout(title='Standardized data standard deviation')\n",
        "        figure = go.Figure(go.Bar(y=trace_stand_std,\n",
        "                                  x=cols\n",
        "                                  ), layout=layout)\n",
        "        figure.show()\n",
        "    else:\n",
        "        trace_mean = full_data.mean()\n",
        "        trace_std = full_data.std()\n",
        "\n",
        "        # -------------------------------------------------\n",
        "        layout = go.Layout(title='Data mean')\n",
        "        figure = go.Figure(go.Bar(y=trace_mean,\n",
        "                                  x=cols\n",
        "                                  ), layout=layout)\n",
        "        figure.show()\n",
        "        # -------------------------------------------------\n",
        "        layout = go.Layout(title='Data standard deviation')\n",
        "        figure = go.Figure(go.Bar(y=trace_std,\n",
        "                                  x=cols\n",
        "                                  ), layout=layout)\n",
        "        figure.show()"
      ],
      "execution_count": 0,
      "outputs": []
    },
    {
      "cell_type": "markdown",
      "metadata": {
        "id": "o3MhbAq22jAK",
        "colab_type": "text"
      },
      "source": [
        "The classifier is built using *sklearn* library. To get the best results, it needs to be parameterized and analyzed with different combinations of parameters, like:\n",
        "* Numbers of neighbors\n",
        "* Number of features and proper algorithm to choose them\n",
        "* Different metrics and weights in KNN algorithm\n",
        "* Non-optimized or normalized / standardized data"
      ]
    },
    {
      "cell_type": "markdown",
      "metadata": {
        "id": "E5fNfmY34kJR",
        "colab_type": "text"
      },
      "source": [
        "## Function: knn_classifier\n",
        "\n",
        "### **@description:** \n",
        "> Function to fit KNN classifier for different params and receive metrics, like accuracy percentage, false positives percentage and false positives percentage.\n",
        "### **@params:**\n",
        "\n",
        "\n",
        ">*   input data – data applied to teach algorithm\n",
        ">*   labels – 0/1 label for each sample in input data\n",
        ">*   n_neighbors - upper limit of neighbors to classify with (descending order):\n",
        "default is 1\n",
        ">*   run_for_features – tuple of starting number of features to select, step, upper limit: default is (3, 30, 20)\n",
        "\n",
        "### **@returns:**\n",
        "> Nothing\n",
        "\n",
        "\n",
        "\n",
        "\n",
        "\n",
        "\n"
      ]
    },
    {
      "cell_type": "code",
      "metadata": {
        "id": "41iT-w-kq9ME",
        "colab_type": "code",
        "colab": {}
      },
      "source": [
        "@log_to_file(logger_file='KNN_results.log')\n",
        "def knn_classifier(input_data, labels, n_neighbors=1, run_for_features=(3, 30, 20)):\n",
        "    log = get_logger(logger_file='KNN_results.log')\n",
        "    for n in range(1, n_neighbors + 1):\n",
        "        log.info(f\"-Running KNN algorithm with n_neighbors={n}\")\n",
        "        weight = 'distance'\n",
        "        classifier = neighbors.KNeighborsClassifier(n, weights=weight, metric='euclidean')\n",
        "        for k in range(*run_for_features):\n",
        "            log.info(f\"--Finding best {k} features\")\n",
        "            best_features_data = SelectKBest(f_classif, k=k).fit_transform(input_data, labels)\n",
        "            X_train, X_test, Y_train, Y_test = train_test_split(best_features_data, labels, test_size=0.3)\n",
        "\n",
        "            log.info(f\"---Starting fitting for weight={weight}\")\n",
        "            classifier.fit(X_train, Y_train)\n",
        "\n",
        "            score = classifier.score(X_test, Y_test)\n",
        "\n",
        "            \"\"\" Confusion matrix \"\"\"\n",
        "            log.info(\"-----Measuring confusion matrix...\")\n",
        "            result = classifier.predict(X_test)\n",
        "            conf_matrix = confusion_matrix(Y_test, result)\n",
        "\n",
        "            log.info(f\"----KNN accuracy is: {score * 100}%\")\n",
        "\n",
        "            precision = conf_matrix[0][0] / (conf_matrix[0][0] + conf_matrix[0][1]) * 100\n",
        "            log.info(f\"------Precision in percent: {precision}%\")\n",
        "\n",
        "            recall = conf_matrix[0][0] / (conf_matrix[0][0] + conf_matrix[1][0]) * 100\n",
        "            log.info(f\"------Recall in percent: {recall}%\")\n",
        "\n",
        "            false_positives = conf_matrix[0][1] / sum(conf_matrix[0]) * 100\n",
        "            log.info(f\"------False positives in percent: {false_positives}%\")\n",
        "\n",
        "            false_negatives = conf_matrix[1][0] / sum(conf_matrix[1]) * 100\n",
        "            log.info(f\"------False negatives in percent: {false_negatives}%\")\n"
      ],
      "execution_count": 0,
      "outputs": []
    },
    {
      "cell_type": "markdown",
      "metadata": {
        "id": "RysrRygr60LH",
        "colab_type": "text"
      },
      "source": [
        "The output of functions is collected by the logger module. Output file with results is named *KNN_results.log*."
      ]
    },
    {
      "cell_type": "markdown",
      "metadata": {
        "id": "LrJBHPH07otM",
        "colab_type": "text"
      },
      "source": [
        "Below is the section, which evokes the above functions. It is *main* part of the program."
      ]
    },
    {
      "cell_type": "code",
      "metadata": {
        "id": "HIJ7vXmoK1MU",
        "colab_type": "code",
        "outputId": "f59abb08-d66b-4958-b671-8fde0defe222",
        "colab": {
          "base_uri": "https://localhost:8080/",
          "height": 55
        }
      },
      "source": [
        "logger_setup(logger_file='KNN_results.log')\n",
        "get_logger(logger_file='KNN_results.log').info(\"---------------Starting---------------\")\n",
        "get_logger(logger_file='KNN_results.log').info(\"--------------------------------------\")"
      ],
      "execution_count": 10,
      "outputs": [
        {
          "output_type": "stream",
          "text": [
            "[22-12-19 13:49:03 INFO] ---------------Starting---------------\n",
            "[22-12-19 13:49:03 INFO] --------------------------------------\n"
          ],
          "name": "stderr"
        }
      ]
    },
    {
      "cell_type": "code",
      "metadata": {
        "id": "tJJ7HnLMrara",
        "colab_type": "code",
        "outputId": "e8ebe8cd-e9fa-4d58-a117-4850e956e397",
        "colab": {
          "base_uri": "https://localhost:8080/",
          "height": 1000
        }
      },
      "source": [
        "input_data, labels = malware_data_transform(enable_figures=True)\n",
        "knn_classifier(input_data, labels, 1, (3, 24, 20))"
      ],
      "execution_count": 11,
      "outputs": [
        {
          "output_type": "stream",
          "text": [
            "[22-12-19 13:49:03 INFO] Running malware_data_transform...\n",
            "[22-12-19 13:49:03 INFO] -Reading csv file\n",
            "[22-12-19 13:49:04 INFO] --Figures enabled\n"
          ],
          "name": "stderr"
        },
        {
          "output_type": "display_data",
          "data": {
            "text/html": [
              "<html>\n",
              "<head><meta charset=\"utf-8\" /></head>\n",
              "<body>\n",
              "    <div>\n",
              "            <script src=\"https://cdnjs.cloudflare.com/ajax/libs/mathjax/2.7.5/MathJax.js?config=TeX-AMS-MML_SVG\"></script><script type=\"text/javascript\">if (window.MathJax) {MathJax.Hub.Config({SVG: {font: \"STIX-Web\"}});}</script>\n",
              "                <script type=\"text/javascript\">window.PlotlyConfig = {MathJaxConfig: 'local'};</script>\n",
              "        <script src=\"https://cdn.plot.ly/plotly-latest.min.js\"></script>    \n",
              "            <div id=\"794bb8c1-5e1a-4a39-9e09-651e3c89f677\" class=\"plotly-graph-div\" style=\"height:525px; width:100%;\"></div>\n",
              "            <script type=\"text/javascript\">\n",
              "                \n",
              "                    window.PLOTLYENV=window.PLOTLYENV || {};\n",
              "                    \n",
              "                if (document.getElementById(\"794bb8c1-5e1a-4a39-9e09-651e3c89f677\")) {\n",
              "                    Plotly.newPlot(\n",
              "                        '794bb8c1-5e1a-4a39-9e09-651e3c89f677',\n",
              "                        [{\"type\": \"bar\", \"x\": [\"Machine\", \"SizeOfOptionalHeader\", \"Characteristics\", \"MajorLinkerVersion\", \"MinorLinkerVersion\", \"SizeOfCode\", \"SizeOfInitializedData\", \"SizeOfUninitializedData\", \"AddressOfEntryPoint\", \"BaseOfCode\", \"BaseOfData\", \"ImageBase\", \"SectionAlignment\", \"FileAlignment\", \"MajorOperatingSystemVersion\", \"MinorOperatingSystemVersion\", \"MajorImageVersion\", \"MinorImageVersion\", \"MajorSubsystemVersion\", \"MinorSubsystemVersion\", \"SizeOfImage\", \"SizeOfHeaders\", \"CheckSum\", \"Subsystem\", \"DllCharacteristics\", \"SizeOfStackReserve\", \"SizeOfStackCommit\", \"SizeOfHeapReserve\", \"SizeOfHeapCommit\", \"LoaderFlags\", \"NumberOfRvaAndSizes\", \"SectionsNb\", \"SectionsMeanEntropy\", \"SectionsMinEntropy\", \"SectionsMaxEntropy\", \"SectionsMeanRawsize\", \"SectionsMinRawsize\", \"SectionMaxRawsize\", \"SectionsMeanVirtualsize\", \"SectionsMinVirtualsize\", \"SectionMaxVirtualsize\", \"ImportsNbDLL\", \"ImportsNb\", \"ImportsNbOrdinal\", \"ExportNb\", \"ResourcesNb\", \"ResourcesMeanEntropy\", \"ResourcesMinEntropy\", \"ResourcesMaxEntropy\", \"ResourcesMeanSize\", \"ResourcesMinSize\", \"ResourcesMaxSize\", \"LoadConfigurationSize\", \"VersionInformationSize\"], \"y\": [4259.069273508298, 225.8456322846567, 4444.14599375575, 8.619774424652473, 3.819286185139844, 242595.5626561968, 450486.67476294306, 100952.50529891993, 171956.14344389955, 57798.44920932726, 221374.27168283265, 535087648618069.3, 7323.764341130195, 694.3866943866943, 5.09784348808739, 1.0929828246901419, 68.7519830202757, 64.85128253420936, 4.861894861894862, 1.4446022006997616, 815975.0379870624, 1297.8765203155447, 179795931.25568828, 2.1574029135004746, 22312.125283417965, 930247.7281505574, 5445.5428078842715, 1031957.5115141944, 34298.82206060255, 36085.05999405999, 79087.62005693713, 4.994509116460336, 4.637598809859562, 2.259625023207957, 6.958912884783592, 187151.2808781152, 19564.878382000334, 650680.5078198005, 188423.72694030218, 21098.36581019508, 634980.8137808138, 5.462936536107268, 113.2256477866234, 4.338341289560802, 23.674263113287502, 22.050700123870854, 4.000126786359949, 2.434541487118737, 5.5216096064038895, 55450.93495999901, 18180.816562475098, 246590.2539714735, 465674.9807239563, 12.363115460676436]}],\n",
              "                        {\"template\": {\"data\": {\"bar\": [{\"error_x\": {\"color\": \"#2a3f5f\"}, \"error_y\": {\"color\": \"#2a3f5f\"}, \"marker\": {\"line\": {\"color\": \"#E5ECF6\", \"width\": 0.5}}, \"type\": \"bar\"}], \"barpolar\": [{\"marker\": {\"line\": {\"color\": \"#E5ECF6\", \"width\": 0.5}}, \"type\": \"barpolar\"}], \"carpet\": [{\"aaxis\": {\"endlinecolor\": \"#2a3f5f\", \"gridcolor\": \"white\", \"linecolor\": \"white\", \"minorgridcolor\": \"white\", \"startlinecolor\": \"#2a3f5f\"}, \"baxis\": {\"endlinecolor\": \"#2a3f5f\", \"gridcolor\": \"white\", \"linecolor\": \"white\", \"minorgridcolor\": \"white\", \"startlinecolor\": \"#2a3f5f\"}, \"type\": \"carpet\"}], \"choropleth\": [{\"colorbar\": {\"outlinewidth\": 0, \"ticks\": \"\"}, \"type\": \"choropleth\"}], \"contour\": [{\"colorbar\": {\"outlinewidth\": 0, \"ticks\": \"\"}, \"colorscale\": [[0.0, \"#0d0887\"], [0.1111111111111111, \"#46039f\"], [0.2222222222222222, \"#7201a8\"], [0.3333333333333333, \"#9c179e\"], [0.4444444444444444, \"#bd3786\"], [0.5555555555555556, \"#d8576b\"], [0.6666666666666666, \"#ed7953\"], [0.7777777777777778, \"#fb9f3a\"], [0.8888888888888888, \"#fdca26\"], [1.0, \"#f0f921\"]], \"type\": \"contour\"}], \"contourcarpet\": [{\"colorbar\": {\"outlinewidth\": 0, \"ticks\": \"\"}, \"type\": \"contourcarpet\"}], \"heatmap\": [{\"colorbar\": {\"outlinewidth\": 0, \"ticks\": \"\"}, \"colorscale\": [[0.0, \"#0d0887\"], [0.1111111111111111, \"#46039f\"], [0.2222222222222222, \"#7201a8\"], [0.3333333333333333, \"#9c179e\"], [0.4444444444444444, \"#bd3786\"], [0.5555555555555556, \"#d8576b\"], [0.6666666666666666, \"#ed7953\"], [0.7777777777777778, \"#fb9f3a\"], [0.8888888888888888, \"#fdca26\"], [1.0, \"#f0f921\"]], \"type\": \"heatmap\"}], \"heatmapgl\": [{\"colorbar\": {\"outlinewidth\": 0, \"ticks\": \"\"}, \"colorscale\": [[0.0, \"#0d0887\"], [0.1111111111111111, \"#46039f\"], [0.2222222222222222, \"#7201a8\"], [0.3333333333333333, \"#9c179e\"], [0.4444444444444444, \"#bd3786\"], [0.5555555555555556, \"#d8576b\"], [0.6666666666666666, \"#ed7953\"], [0.7777777777777778, \"#fb9f3a\"], [0.8888888888888888, \"#fdca26\"], [1.0, \"#f0f921\"]], \"type\": \"heatmapgl\"}], \"histogram\": [{\"marker\": {\"colorbar\": {\"outlinewidth\": 0, \"ticks\": \"\"}}, \"type\": \"histogram\"}], \"histogram2d\": [{\"colorbar\": {\"outlinewidth\": 0, \"ticks\": \"\"}, \"colorscale\": [[0.0, \"#0d0887\"], [0.1111111111111111, \"#46039f\"], [0.2222222222222222, \"#7201a8\"], [0.3333333333333333, \"#9c179e\"], [0.4444444444444444, \"#bd3786\"], [0.5555555555555556, \"#d8576b\"], [0.6666666666666666, \"#ed7953\"], [0.7777777777777778, \"#fb9f3a\"], [0.8888888888888888, \"#fdca26\"], [1.0, \"#f0f921\"]], \"type\": \"histogram2d\"}], \"histogram2dcontour\": [{\"colorbar\": {\"outlinewidth\": 0, \"ticks\": \"\"}, \"colorscale\": [[0.0, \"#0d0887\"], [0.1111111111111111, \"#46039f\"], [0.2222222222222222, \"#7201a8\"], [0.3333333333333333, \"#9c179e\"], [0.4444444444444444, \"#bd3786\"], [0.5555555555555556, \"#d8576b\"], [0.6666666666666666, \"#ed7953\"], [0.7777777777777778, \"#fb9f3a\"], [0.8888888888888888, \"#fdca26\"], [1.0, \"#f0f921\"]], \"type\": \"histogram2dcontour\"}], \"mesh3d\": [{\"colorbar\": {\"outlinewidth\": 0, \"ticks\": \"\"}, \"type\": \"mesh3d\"}], \"parcoords\": [{\"line\": {\"colorbar\": {\"outlinewidth\": 0, \"ticks\": \"\"}}, \"type\": \"parcoords\"}], \"scatter\": [{\"marker\": {\"colorbar\": {\"outlinewidth\": 0, \"ticks\": \"\"}}, \"type\": \"scatter\"}], \"scatter3d\": [{\"line\": {\"colorbar\": {\"outlinewidth\": 0, \"ticks\": \"\"}}, \"marker\": {\"colorbar\": {\"outlinewidth\": 0, \"ticks\": \"\"}}, \"type\": \"scatter3d\"}], \"scattercarpet\": [{\"marker\": {\"colorbar\": {\"outlinewidth\": 0, \"ticks\": \"\"}}, \"type\": \"scattercarpet\"}], \"scattergeo\": [{\"marker\": {\"colorbar\": {\"outlinewidth\": 0, \"ticks\": \"\"}}, \"type\": \"scattergeo\"}], \"scattergl\": [{\"marker\": {\"colorbar\": {\"outlinewidth\": 0, \"ticks\": \"\"}}, \"type\": \"scattergl\"}], \"scattermapbox\": [{\"marker\": {\"colorbar\": {\"outlinewidth\": 0, \"ticks\": \"\"}}, \"type\": \"scattermapbox\"}], \"scatterpolar\": [{\"marker\": {\"colorbar\": {\"outlinewidth\": 0, \"ticks\": \"\"}}, \"type\": \"scatterpolar\"}], \"scatterpolargl\": [{\"marker\": {\"colorbar\": {\"outlinewidth\": 0, \"ticks\": \"\"}}, \"type\": \"scatterpolargl\"}], \"scatterternary\": [{\"marker\": {\"colorbar\": {\"outlinewidth\": 0, \"ticks\": \"\"}}, \"type\": \"scatterternary\"}], \"surface\": [{\"colorbar\": {\"outlinewidth\": 0, \"ticks\": \"\"}, \"colorscale\": [[0.0, \"#0d0887\"], [0.1111111111111111, \"#46039f\"], [0.2222222222222222, \"#7201a8\"], [0.3333333333333333, \"#9c179e\"], [0.4444444444444444, \"#bd3786\"], [0.5555555555555556, \"#d8576b\"], [0.6666666666666666, \"#ed7953\"], [0.7777777777777778, \"#fb9f3a\"], [0.8888888888888888, \"#fdca26\"], [1.0, \"#f0f921\"]], \"type\": \"surface\"}], \"table\": [{\"cells\": {\"fill\": {\"color\": \"#EBF0F8\"}, \"line\": {\"color\": \"white\"}}, \"header\": {\"fill\": {\"color\": \"#C8D4E3\"}, \"line\": {\"color\": \"white\"}}, \"type\": \"table\"}]}, \"layout\": {\"annotationdefaults\": {\"arrowcolor\": \"#2a3f5f\", \"arrowhead\": 0, \"arrowwidth\": 1}, \"colorscale\": {\"diverging\": [[0, \"#8e0152\"], [0.1, \"#c51b7d\"], [0.2, \"#de77ae\"], [0.3, \"#f1b6da\"], [0.4, \"#fde0ef\"], [0.5, \"#f7f7f7\"], [0.6, \"#e6f5d0\"], [0.7, \"#b8e186\"], [0.8, \"#7fbc41\"], [0.9, \"#4d9221\"], [1, \"#276419\"]], \"sequential\": [[0.0, \"#0d0887\"], [0.1111111111111111, \"#46039f\"], [0.2222222222222222, \"#7201a8\"], [0.3333333333333333, \"#9c179e\"], [0.4444444444444444, \"#bd3786\"], [0.5555555555555556, \"#d8576b\"], [0.6666666666666666, \"#ed7953\"], [0.7777777777777778, \"#fb9f3a\"], [0.8888888888888888, \"#fdca26\"], [1.0, \"#f0f921\"]], \"sequentialminus\": [[0.0, \"#0d0887\"], [0.1111111111111111, \"#46039f\"], [0.2222222222222222, \"#7201a8\"], [0.3333333333333333, \"#9c179e\"], [0.4444444444444444, \"#bd3786\"], [0.5555555555555556, \"#d8576b\"], [0.6666666666666666, \"#ed7953\"], [0.7777777777777778, \"#fb9f3a\"], [0.8888888888888888, \"#fdca26\"], [1.0, \"#f0f921\"]]}, \"colorway\": [\"#636efa\", \"#EF553B\", \"#00cc96\", \"#ab63fa\", \"#FFA15A\", \"#19d3f3\", \"#FF6692\", \"#B6E880\", \"#FF97FF\", \"#FECB52\"], \"font\": {\"color\": \"#2a3f5f\"}, \"geo\": {\"bgcolor\": \"white\", \"lakecolor\": \"white\", \"landcolor\": \"#E5ECF6\", \"showlakes\": true, \"showland\": true, \"subunitcolor\": \"white\"}, \"hoverlabel\": {\"align\": \"left\"}, \"hovermode\": \"closest\", \"mapbox\": {\"style\": \"light\"}, \"paper_bgcolor\": \"white\", \"plot_bgcolor\": \"#E5ECF6\", \"polar\": {\"angularaxis\": {\"gridcolor\": \"white\", \"linecolor\": \"white\", \"ticks\": \"\"}, \"bgcolor\": \"#E5ECF6\", \"radialaxis\": {\"gridcolor\": \"white\", \"linecolor\": \"white\", \"ticks\": \"\"}}, \"scene\": {\"xaxis\": {\"backgroundcolor\": \"#E5ECF6\", \"gridcolor\": \"white\", \"gridwidth\": 2, \"linecolor\": \"white\", \"showbackground\": true, \"ticks\": \"\", \"zerolinecolor\": \"white\"}, \"yaxis\": {\"backgroundcolor\": \"#E5ECF6\", \"gridcolor\": \"white\", \"gridwidth\": 2, \"linecolor\": \"white\", \"showbackground\": true, \"ticks\": \"\", \"zerolinecolor\": \"white\"}, \"zaxis\": {\"backgroundcolor\": \"#E5ECF6\", \"gridcolor\": \"white\", \"gridwidth\": 2, \"linecolor\": \"white\", \"showbackground\": true, \"ticks\": \"\", \"zerolinecolor\": \"white\"}}, \"shapedefaults\": {\"line\": {\"color\": \"#2a3f5f\"}}, \"ternary\": {\"aaxis\": {\"gridcolor\": \"white\", \"linecolor\": \"white\", \"ticks\": \"\"}, \"baxis\": {\"gridcolor\": \"white\", \"linecolor\": \"white\", \"ticks\": \"\"}, \"bgcolor\": \"#E5ECF6\", \"caxis\": {\"gridcolor\": \"white\", \"linecolor\": \"white\", \"ticks\": \"\"}}, \"title\": {\"x\": 0.05}, \"xaxis\": {\"automargin\": true, \"gridcolor\": \"white\", \"linecolor\": \"white\", \"ticks\": \"\", \"zerolinecolor\": \"white\", \"zerolinewidth\": 2}, \"yaxis\": {\"automargin\": true, \"gridcolor\": \"white\", \"linecolor\": \"white\", \"ticks\": \"\", \"zerolinecolor\": \"white\", \"zerolinewidth\": 2}}}, \"title\": {\"text\": \"Data mean\"}},\n",
              "                        {\"responsive\": true}\n",
              "                    ).then(function(){\n",
              "                            \n",
              "var gd = document.getElementById('794bb8c1-5e1a-4a39-9e09-651e3c89f677');\n",
              "var x = new MutationObserver(function (mutations, observer) {{\n",
              "        var display = window.getComputedStyle(gd).display;\n",
              "        if (!display || display === 'none') {{\n",
              "            console.log([gd, 'removed!']);\n",
              "            Plotly.purge(gd);\n",
              "            observer.disconnect();\n",
              "        }}\n",
              "}});\n",
              "\n",
              "// Listen for the removal of the full notebook cells\n",
              "var notebookContainer = gd.closest('#notebook-container');\n",
              "if (notebookContainer) {{\n",
              "    x.observe(notebookContainer, {childList: true});\n",
              "}}\n",
              "\n",
              "// Listen for the clearing of the current output cell\n",
              "var outputEl = gd.closest('.output');\n",
              "if (outputEl) {{\n",
              "    x.observe(outputEl, {childList: true});\n",
              "}}\n",
              "\n",
              "                        })\n",
              "                };\n",
              "                \n",
              "            </script>\n",
              "        </div>\n",
              "</body>\n",
              "</html>"
            ]
          },
          "metadata": {
            "tags": []
          }
        },
        {
          "output_type": "display_data",
          "data": {
            "text/html": [
              "<html>\n",
              "<head><meta charset=\"utf-8\" /></head>\n",
              "<body>\n",
              "    <div>\n",
              "            <script src=\"https://cdnjs.cloudflare.com/ajax/libs/mathjax/2.7.5/MathJax.js?config=TeX-AMS-MML_SVG\"></script><script type=\"text/javascript\">if (window.MathJax) {MathJax.Hub.Config({SVG: {font: \"STIX-Web\"}});}</script>\n",
              "                <script type=\"text/javascript\">window.PlotlyConfig = {MathJaxConfig: 'local'};</script>\n",
              "        <script src=\"https://cdn.plot.ly/plotly-latest.min.js\"></script>    \n",
              "            <div id=\"d189af2f-28bd-4c87-9507-9e361a9a1f4e\" class=\"plotly-graph-div\" style=\"height:525px; width:100%;\"></div>\n",
              "            <script type=\"text/javascript\">\n",
              "                \n",
              "                    window.PLOTLYENV=window.PLOTLYENV || {};\n",
              "                    \n",
              "                if (document.getElementById(\"d189af2f-28bd-4c87-9507-9e361a9a1f4e\")) {\n",
              "                    Plotly.newPlot(\n",
              "                        'd189af2f-28bd-4c87-9507-9e361a9a1f4e',\n",
              "                        [{\"type\": \"bar\", \"x\": [\"Machine\", \"SizeOfOptionalHeader\", \"Characteristics\", \"MajorLinkerVersion\", \"MinorLinkerVersion\", \"SizeOfCode\", \"SizeOfInitializedData\", \"SizeOfUninitializedData\", \"AddressOfEntryPoint\", \"BaseOfCode\", \"BaseOfData\", \"ImageBase\", \"SectionAlignment\", \"FileAlignment\", \"MajorOperatingSystemVersion\", \"MinorOperatingSystemVersion\", \"MajorImageVersion\", \"MinorImageVersion\", \"MajorSubsystemVersion\", \"MinorSubsystemVersion\", \"SizeOfImage\", \"SizeOfHeaders\", \"CheckSum\", \"Subsystem\", \"DllCharacteristics\", \"SizeOfStackReserve\", \"SizeOfStackCommit\", \"SizeOfHeapReserve\", \"SizeOfHeapCommit\", \"LoaderFlags\", \"NumberOfRvaAndSizes\", \"SectionsNb\", \"SectionsMeanEntropy\", \"SectionsMinEntropy\", \"SectionsMaxEntropy\", \"SectionsMeanRawsize\", \"SectionsMinRawsize\", \"SectionMaxRawsize\", \"SectionsMeanVirtualsize\", \"SectionsMinVirtualsize\", \"SectionMaxVirtualsize\", \"ImportsNbDLL\", \"ImportsNb\", \"ImportsNbOrdinal\", \"ExportNb\", \"ResourcesNb\", \"ResourcesMeanEntropy\", \"ResourcesMinEntropy\", \"ResourcesMaxEntropy\", \"ResourcesMeanSize\", \"ResourcesMinSize\", \"ResourcesMaxSize\", \"LoadConfigurationSize\", \"VersionInformationSize\"], \"y\": [10880.347245376208, 5.121398630509971, 8186.782523681734, 4.088756512543184, 11.862674830949203, 5754485.404037357, 21015985.183456965, 16352876.18206114, 3430552.5002441085, 5527658.054143652, 2188020.094605205, 9.929589435801232e+16, 625768.6894616858, 1289.9210984643664, 99.22019151162063, 77.5510770756867, 1185.8860419819814, 1139.6913970815312, 0.6477202307648442, 181.180392664942, 6530064.851916466, 5595.523020963893, 597619186.4064535, 0.4529401132491726, 15440.574817283776, 555008.0632430781, 18047.242105229536, 181774.39528055905, 7906877.492302277, 8904748.09415926, 14669006.496434085, 1.9153292515008877, 1.0994644288632032, 1.8318933942622138, 1.0442968350015671, 7735218.223678169, 354086.8249980658, 30072259.73921732, 4180152.822568605, 354314.10777250334, 12854626.762898482, 4.362811008202623, 123.13470419124151, 34.77674454963192, 252.09395796744096, 136.49424383806627, 1.1129807840413473, 0.8155769062552004, 1.5974025641898237, 7799163.383786961, 6502369.1854296345, 21248603.863616556, 26089866.925890185, 6.798878196596645]}],\n",
              "                        {\"template\": {\"data\": {\"bar\": [{\"error_x\": {\"color\": \"#2a3f5f\"}, \"error_y\": {\"color\": \"#2a3f5f\"}, \"marker\": {\"line\": {\"color\": \"#E5ECF6\", \"width\": 0.5}}, \"type\": \"bar\"}], \"barpolar\": [{\"marker\": {\"line\": {\"color\": \"#E5ECF6\", \"width\": 0.5}}, \"type\": \"barpolar\"}], \"carpet\": [{\"aaxis\": {\"endlinecolor\": \"#2a3f5f\", \"gridcolor\": \"white\", \"linecolor\": \"white\", \"minorgridcolor\": \"white\", \"startlinecolor\": \"#2a3f5f\"}, \"baxis\": {\"endlinecolor\": \"#2a3f5f\", \"gridcolor\": \"white\", \"linecolor\": \"white\", \"minorgridcolor\": \"white\", \"startlinecolor\": \"#2a3f5f\"}, \"type\": \"carpet\"}], \"choropleth\": [{\"colorbar\": {\"outlinewidth\": 0, \"ticks\": \"\"}, \"type\": \"choropleth\"}], \"contour\": [{\"colorbar\": {\"outlinewidth\": 0, \"ticks\": \"\"}, \"colorscale\": [[0.0, \"#0d0887\"], [0.1111111111111111, \"#46039f\"], [0.2222222222222222, \"#7201a8\"], [0.3333333333333333, \"#9c179e\"], [0.4444444444444444, \"#bd3786\"], [0.5555555555555556, \"#d8576b\"], [0.6666666666666666, \"#ed7953\"], [0.7777777777777778, \"#fb9f3a\"], [0.8888888888888888, \"#fdca26\"], [1.0, \"#f0f921\"]], \"type\": \"contour\"}], \"contourcarpet\": [{\"colorbar\": {\"outlinewidth\": 0, \"ticks\": \"\"}, \"type\": \"contourcarpet\"}], \"heatmap\": [{\"colorbar\": {\"outlinewidth\": 0, \"ticks\": \"\"}, \"colorscale\": [[0.0, \"#0d0887\"], [0.1111111111111111, \"#46039f\"], [0.2222222222222222, \"#7201a8\"], [0.3333333333333333, \"#9c179e\"], [0.4444444444444444, \"#bd3786\"], [0.5555555555555556, \"#d8576b\"], [0.6666666666666666, \"#ed7953\"], [0.7777777777777778, \"#fb9f3a\"], [0.8888888888888888, \"#fdca26\"], [1.0, \"#f0f921\"]], \"type\": \"heatmap\"}], \"heatmapgl\": [{\"colorbar\": {\"outlinewidth\": 0, \"ticks\": \"\"}, \"colorscale\": [[0.0, \"#0d0887\"], [0.1111111111111111, \"#46039f\"], [0.2222222222222222, \"#7201a8\"], [0.3333333333333333, \"#9c179e\"], [0.4444444444444444, \"#bd3786\"], [0.5555555555555556, \"#d8576b\"], [0.6666666666666666, \"#ed7953\"], [0.7777777777777778, \"#fb9f3a\"], [0.8888888888888888, \"#fdca26\"], [1.0, \"#f0f921\"]], \"type\": \"heatmapgl\"}], \"histogram\": [{\"marker\": {\"colorbar\": {\"outlinewidth\": 0, \"ticks\": \"\"}}, \"type\": \"histogram\"}], \"histogram2d\": [{\"colorbar\": {\"outlinewidth\": 0, \"ticks\": \"\"}, \"colorscale\": [[0.0, \"#0d0887\"], [0.1111111111111111, \"#46039f\"], [0.2222222222222222, \"#7201a8\"], [0.3333333333333333, \"#9c179e\"], [0.4444444444444444, \"#bd3786\"], [0.5555555555555556, \"#d8576b\"], [0.6666666666666666, \"#ed7953\"], [0.7777777777777778, \"#fb9f3a\"], [0.8888888888888888, \"#fdca26\"], [1.0, \"#f0f921\"]], \"type\": \"histogram2d\"}], \"histogram2dcontour\": [{\"colorbar\": {\"outlinewidth\": 0, \"ticks\": \"\"}, \"colorscale\": [[0.0, \"#0d0887\"], [0.1111111111111111, \"#46039f\"], [0.2222222222222222, \"#7201a8\"], [0.3333333333333333, \"#9c179e\"], [0.4444444444444444, \"#bd3786\"], [0.5555555555555556, \"#d8576b\"], [0.6666666666666666, \"#ed7953\"], [0.7777777777777778, \"#fb9f3a\"], [0.8888888888888888, \"#fdca26\"], [1.0, \"#f0f921\"]], \"type\": \"histogram2dcontour\"}], \"mesh3d\": [{\"colorbar\": {\"outlinewidth\": 0, \"ticks\": \"\"}, \"type\": \"mesh3d\"}], \"parcoords\": [{\"line\": {\"colorbar\": {\"outlinewidth\": 0, \"ticks\": \"\"}}, \"type\": \"parcoords\"}], \"scatter\": [{\"marker\": {\"colorbar\": {\"outlinewidth\": 0, \"ticks\": \"\"}}, \"type\": \"scatter\"}], \"scatter3d\": [{\"line\": {\"colorbar\": {\"outlinewidth\": 0, \"ticks\": \"\"}}, \"marker\": {\"colorbar\": {\"outlinewidth\": 0, \"ticks\": \"\"}}, \"type\": \"scatter3d\"}], \"scattercarpet\": [{\"marker\": {\"colorbar\": {\"outlinewidth\": 0, \"ticks\": \"\"}}, \"type\": \"scattercarpet\"}], \"scattergeo\": [{\"marker\": {\"colorbar\": {\"outlinewidth\": 0, \"ticks\": \"\"}}, \"type\": \"scattergeo\"}], \"scattergl\": [{\"marker\": {\"colorbar\": {\"outlinewidth\": 0, \"ticks\": \"\"}}, \"type\": \"scattergl\"}], \"scattermapbox\": [{\"marker\": {\"colorbar\": {\"outlinewidth\": 0, \"ticks\": \"\"}}, \"type\": \"scattermapbox\"}], \"scatterpolar\": [{\"marker\": {\"colorbar\": {\"outlinewidth\": 0, \"ticks\": \"\"}}, \"type\": \"scatterpolar\"}], \"scatterpolargl\": [{\"marker\": {\"colorbar\": {\"outlinewidth\": 0, \"ticks\": \"\"}}, \"type\": \"scatterpolargl\"}], \"scatterternary\": [{\"marker\": {\"colorbar\": {\"outlinewidth\": 0, \"ticks\": \"\"}}, \"type\": \"scatterternary\"}], \"surface\": [{\"colorbar\": {\"outlinewidth\": 0, \"ticks\": \"\"}, \"colorscale\": [[0.0, \"#0d0887\"], [0.1111111111111111, \"#46039f\"], [0.2222222222222222, \"#7201a8\"], [0.3333333333333333, \"#9c179e\"], [0.4444444444444444, \"#bd3786\"], [0.5555555555555556, \"#d8576b\"], [0.6666666666666666, \"#ed7953\"], [0.7777777777777778, \"#fb9f3a\"], [0.8888888888888888, \"#fdca26\"], [1.0, \"#f0f921\"]], \"type\": \"surface\"}], \"table\": [{\"cells\": {\"fill\": {\"color\": \"#EBF0F8\"}, \"line\": {\"color\": \"white\"}}, \"header\": {\"fill\": {\"color\": \"#C8D4E3\"}, \"line\": {\"color\": \"white\"}}, \"type\": \"table\"}]}, \"layout\": {\"annotationdefaults\": {\"arrowcolor\": \"#2a3f5f\", \"arrowhead\": 0, \"arrowwidth\": 1}, \"colorscale\": {\"diverging\": [[0, \"#8e0152\"], [0.1, \"#c51b7d\"], [0.2, \"#de77ae\"], [0.3, \"#f1b6da\"], [0.4, \"#fde0ef\"], [0.5, \"#f7f7f7\"], [0.6, \"#e6f5d0\"], [0.7, \"#b8e186\"], [0.8, \"#7fbc41\"], [0.9, \"#4d9221\"], [1, \"#276419\"]], \"sequential\": [[0.0, \"#0d0887\"], [0.1111111111111111, \"#46039f\"], [0.2222222222222222, \"#7201a8\"], [0.3333333333333333, \"#9c179e\"], [0.4444444444444444, \"#bd3786\"], [0.5555555555555556, \"#d8576b\"], [0.6666666666666666, \"#ed7953\"], [0.7777777777777778, \"#fb9f3a\"], [0.8888888888888888, \"#fdca26\"], [1.0, \"#f0f921\"]], \"sequentialminus\": [[0.0, \"#0d0887\"], [0.1111111111111111, \"#46039f\"], [0.2222222222222222, \"#7201a8\"], [0.3333333333333333, \"#9c179e\"], [0.4444444444444444, \"#bd3786\"], [0.5555555555555556, \"#d8576b\"], [0.6666666666666666, \"#ed7953\"], [0.7777777777777778, \"#fb9f3a\"], [0.8888888888888888, \"#fdca26\"], [1.0, \"#f0f921\"]]}, \"colorway\": [\"#636efa\", \"#EF553B\", \"#00cc96\", \"#ab63fa\", \"#FFA15A\", \"#19d3f3\", \"#FF6692\", \"#B6E880\", \"#FF97FF\", \"#FECB52\"], \"font\": {\"color\": \"#2a3f5f\"}, \"geo\": {\"bgcolor\": \"white\", \"lakecolor\": \"white\", \"landcolor\": \"#E5ECF6\", \"showlakes\": true, \"showland\": true, \"subunitcolor\": \"white\"}, \"hoverlabel\": {\"align\": \"left\"}, \"hovermode\": \"closest\", \"mapbox\": {\"style\": \"light\"}, \"paper_bgcolor\": \"white\", \"plot_bgcolor\": \"#E5ECF6\", \"polar\": {\"angularaxis\": {\"gridcolor\": \"white\", \"linecolor\": \"white\", \"ticks\": \"\"}, \"bgcolor\": \"#E5ECF6\", \"radialaxis\": {\"gridcolor\": \"white\", \"linecolor\": \"white\", \"ticks\": \"\"}}, \"scene\": {\"xaxis\": {\"backgroundcolor\": \"#E5ECF6\", \"gridcolor\": \"white\", \"gridwidth\": 2, \"linecolor\": \"white\", \"showbackground\": true, \"ticks\": \"\", \"zerolinecolor\": \"white\"}, \"yaxis\": {\"backgroundcolor\": \"#E5ECF6\", \"gridcolor\": \"white\", \"gridwidth\": 2, \"linecolor\": \"white\", \"showbackground\": true, \"ticks\": \"\", \"zerolinecolor\": \"white\"}, \"zaxis\": {\"backgroundcolor\": \"#E5ECF6\", \"gridcolor\": \"white\", \"gridwidth\": 2, \"linecolor\": \"white\", \"showbackground\": true, \"ticks\": \"\", \"zerolinecolor\": \"white\"}}, \"shapedefaults\": {\"line\": {\"color\": \"#2a3f5f\"}}, \"ternary\": {\"aaxis\": {\"gridcolor\": \"white\", \"linecolor\": \"white\", \"ticks\": \"\"}, \"baxis\": {\"gridcolor\": \"white\", \"linecolor\": \"white\", \"ticks\": \"\"}, \"bgcolor\": \"#E5ECF6\", \"caxis\": {\"gridcolor\": \"white\", \"linecolor\": \"white\", \"ticks\": \"\"}}, \"title\": {\"x\": 0.05}, \"xaxis\": {\"automargin\": true, \"gridcolor\": \"white\", \"linecolor\": \"white\", \"ticks\": \"\", \"zerolinecolor\": \"white\", \"zerolinewidth\": 2}, \"yaxis\": {\"automargin\": true, \"gridcolor\": \"white\", \"linecolor\": \"white\", \"ticks\": \"\", \"zerolinecolor\": \"white\", \"zerolinewidth\": 2}}}, \"title\": {\"text\": \"Data standard deviation\"}},\n",
              "                        {\"responsive\": true}\n",
              "                    ).then(function(){\n",
              "                            \n",
              "var gd = document.getElementById('d189af2f-28bd-4c87-9507-9e361a9a1f4e');\n",
              "var x = new MutationObserver(function (mutations, observer) {{\n",
              "        var display = window.getComputedStyle(gd).display;\n",
              "        if (!display || display === 'none') {{\n",
              "            console.log([gd, 'removed!']);\n",
              "            Plotly.purge(gd);\n",
              "            observer.disconnect();\n",
              "        }}\n",
              "}});\n",
              "\n",
              "// Listen for the removal of the full notebook cells\n",
              "var notebookContainer = gd.closest('#notebook-container');\n",
              "if (notebookContainer) {{\n",
              "    x.observe(notebookContainer, {childList: true});\n",
              "}}\n",
              "\n",
              "// Listen for the clearing of the current output cell\n",
              "var outputEl = gd.closest('.output');\n",
              "if (outputEl) {{\n",
              "    x.observe(outputEl, {childList: true});\n",
              "}}\n",
              "\n",
              "                        })\n",
              "                };\n",
              "                \n",
              "            </script>\n",
              "        </div>\n",
              "</body>\n",
              "</html>"
            ]
          },
          "metadata": {
            "tags": []
          }
        },
        {
          "output_type": "stream",
          "text": [
            "[22-12-19 13:49:05 INFO] Function malware_data_transform finished in 1.827791452407837s\n",
            "[22-12-19 13:49:05 INFO] Running knn_classifier...\n",
            "[22-12-19 13:49:05 INFO] -Running KNN algorithm with n_neighbors=1\n",
            "[22-12-19 13:49:05 INFO] --Finding best 3 features\n",
            "[22-12-19 13:49:05 INFO] ---Starting fitting for weight=distance\n",
            "[22-12-19 13:49:11 INFO] -----Measuring confusion matrix...\n",
            "[22-12-19 13:49:13 INFO] ----KNN accuracy is: 96.57853434745866%\n",
            "[22-12-19 13:49:13 INFO] ------Precision in percent: 97.7166741510933%\n",
            "[22-12-19 13:49:13 INFO] ------Recall in percent: 97.39705274755543%\n",
            "[22-12-19 13:49:13 INFO] ------False positives in percent: 2.283325848906698%\n",
            "[22-12-19 13:49:13 INFO] ------False negatives in percent: 6.064495427562972%\n",
            "[22-12-19 13:49:13 INFO] --Finding best 23 features\n",
            "[22-12-19 13:49:13 INFO] ---Starting fitting for weight=distance\n",
            "[22-12-19 13:49:27 INFO] -----Measuring confusion matrix...\n",
            "[22-12-19 13:49:37 INFO] ----KNN accuracy is: 97.61439092116383%\n",
            "[22-12-19 13:49:37 INFO] ------Precision in percent: 98.3565063624701%\n",
            "[22-12-19 13:49:37 INFO] ------Recall in percent: 98.22028323119005%\n",
            "[22-12-19 13:49:37 INFO] ------False positives in percent: 1.6434936375299052%\n",
            "[22-12-19 13:49:37 INFO] ------False negatives in percent: 4.087800222681724%\n",
            "[22-12-19 13:49:37 INFO] Function knn_classifier finished in 32.07361149787903s\n"
          ],
          "name": "stderr"
        }
      ]
    },
    {
      "cell_type": "markdown",
      "metadata": {
        "id": "D_58pSne78kG",
        "colab_type": "text"
      },
      "source": [
        "When data is a raw input without optimization, charts show that the value of one feature dominates another one. The function executes quickly, because it may enter this dominant value and pretend based on its value. However, results, in this case, may not be the most accurate."
      ]
    },
    {
      "cell_type": "code",
      "metadata": {
        "id": "a5ev6HRhzvnH",
        "colab_type": "code",
        "outputId": "44a1c6bd-611b-461f-beea-d06abb66cc18",
        "colab": {
          "base_uri": "https://localhost:8080/",
          "height": 1000
        }
      },
      "source": [
        "get_logger(logger_file='KNN_results.log').info(\"--------------------------------------\")\n",
        "input_data, labels = malware_data_transform(optimize_data='normalize', enable_figures=True)\n",
        "knn_classifier(input_data, labels, 1, (3, 24, 20))"
      ],
      "execution_count": 12,
      "outputs": [
        {
          "output_type": "stream",
          "text": [
            "[22-12-19 13:49:37 INFO] --------------------------------------\n",
            "[22-12-19 13:49:37 INFO] Running malware_data_transform...\n",
            "[22-12-19 13:49:37 INFO] -Reading csv file\n",
            "[22-12-19 13:49:38 INFO] --Data normalization processing...\n",
            "[22-12-19 13:49:38 INFO] --Figures enabled\n"
          ],
          "name": "stderr"
        },
        {
          "output_type": "display_data",
          "data": {
            "text/html": [
              "<html>\n",
              "<head><meta charset=\"utf-8\" /></head>\n",
              "<body>\n",
              "    <div>\n",
              "            <script src=\"https://cdnjs.cloudflare.com/ajax/libs/mathjax/2.7.5/MathJax.js?config=TeX-AMS-MML_SVG\"></script><script type=\"text/javascript\">if (window.MathJax) {MathJax.Hub.Config({SVG: {font: \"STIX-Web\"}});}</script>\n",
              "                <script type=\"text/javascript\">window.PlotlyConfig = {MathJaxConfig: 'local'};</script>\n",
              "        <script src=\"https://cdn.plot.ly/plotly-latest.min.js\"></script>    \n",
              "            <div id=\"61e04f3a-0221-4976-bb24-3c1d54b0fc65\" class=\"plotly-graph-div\" style=\"height:525px; width:100%;\"></div>\n",
              "            <script type=\"text/javascript\">\n",
              "                \n",
              "                    window.PLOTLYENV=window.PLOTLYENV || {};\n",
              "                    \n",
              "                if (document.getElementById(\"61e04f3a-0221-4976-bb24-3c1d54b0fc65\")) {\n",
              "                    Plotly.newPlot(\n",
              "                        '61e04f3a-0221-4976-bb24-3c1d54b0fc65',\n",
              "                        [{\"type\": \"bar\", \"x\": [0, 1, 2, 3, 4, 5, 6, 7, 8, 9, 10, 11, 12, 13, 14, 15, 16, 17, 18, 19, 20, 21, 22, 23, 24, 25, 26, 27, 28, 29, 30, 31, 32, 33, 34, 35, 36, 37, 38, 39, 40, 41, 42, 43, 44, 45, 46, 47, 48, 49, 50, 51, 52, 53], \"y\": [0.11525796177237313, 0.014419002223880272, 0.08965157710075866, 0.03380303695939558, 0.014977592882899324, 0.00013339785097250998, 0.00010488712744958372, 2.3504982267475397e-05, 0.00016003597625767355, 2.8490229538947172e-05, 0.0008246834266291285, 2.900717338323494e-05, 5.444709369751537e-05, 0.010353887276930322, 0.00013827285147263138, 6.155222304960032e-05, 0.0024023195436685325, 0.0031616264886035537, 0.42909942910007987, 3.0348785728987863e-05, 0.0005786910438098045, 0.0010812898485402284, 0.041862002410341166, 0.07716019423355232, 0.45071358442542486, 0.02772354269476406, 0.002596637157385002, 0.0757039518733833, 1.6511064458274067e-05, 1.549847469473754e-05, 2.324321627637662e-05, 0.10242331067854434, 0.5800219391416609, 0.2826100621095702, 0.8698647856073974, 0.00013068022376314987, 0.0006746346013516239, 0.00015148635191777998, 0.0001316108365107565, 0.0007275129972922164, 0.00014784582872744918, 0.019510487628947037, 0.025547303200954417, 0.0012574902288568124, 0.0014265041644542522, 0.0028659605047978427, 0.5000331702234168, 0.3043282282944656, 0.6902012026402097, 2.295231386066596e-05, 7.525424202238237e-06, 5.7414632078824044e-05, 0.00010842340554594728, 0.4755044407948735]}],\n",
              "                        {\"template\": {\"data\": {\"bar\": [{\"error_x\": {\"color\": \"#2a3f5f\"}, \"error_y\": {\"color\": \"#2a3f5f\"}, \"marker\": {\"line\": {\"color\": \"#E5ECF6\", \"width\": 0.5}}, \"type\": \"bar\"}], \"barpolar\": [{\"marker\": {\"line\": {\"color\": \"#E5ECF6\", \"width\": 0.5}}, \"type\": \"barpolar\"}], \"carpet\": [{\"aaxis\": {\"endlinecolor\": \"#2a3f5f\", \"gridcolor\": \"white\", \"linecolor\": \"white\", \"minorgridcolor\": \"white\", \"startlinecolor\": \"#2a3f5f\"}, \"baxis\": {\"endlinecolor\": \"#2a3f5f\", \"gridcolor\": \"white\", \"linecolor\": \"white\", \"minorgridcolor\": \"white\", \"startlinecolor\": \"#2a3f5f\"}, \"type\": \"carpet\"}], \"choropleth\": [{\"colorbar\": {\"outlinewidth\": 0, \"ticks\": \"\"}, \"type\": \"choropleth\"}], \"contour\": [{\"colorbar\": {\"outlinewidth\": 0, \"ticks\": \"\"}, \"colorscale\": [[0.0, \"#0d0887\"], [0.1111111111111111, \"#46039f\"], [0.2222222222222222, \"#7201a8\"], [0.3333333333333333, \"#9c179e\"], [0.4444444444444444, \"#bd3786\"], [0.5555555555555556, \"#d8576b\"], [0.6666666666666666, \"#ed7953\"], [0.7777777777777778, \"#fb9f3a\"], [0.8888888888888888, \"#fdca26\"], [1.0, \"#f0f921\"]], \"type\": \"contour\"}], \"contourcarpet\": [{\"colorbar\": {\"outlinewidth\": 0, \"ticks\": \"\"}, \"type\": \"contourcarpet\"}], \"heatmap\": [{\"colorbar\": {\"outlinewidth\": 0, \"ticks\": \"\"}, \"colorscale\": [[0.0, \"#0d0887\"], [0.1111111111111111, \"#46039f\"], [0.2222222222222222, \"#7201a8\"], [0.3333333333333333, \"#9c179e\"], [0.4444444444444444, \"#bd3786\"], [0.5555555555555556, \"#d8576b\"], [0.6666666666666666, \"#ed7953\"], [0.7777777777777778, \"#fb9f3a\"], [0.8888888888888888, \"#fdca26\"], [1.0, \"#f0f921\"]], \"type\": \"heatmap\"}], \"heatmapgl\": [{\"colorbar\": {\"outlinewidth\": 0, \"ticks\": \"\"}, \"colorscale\": [[0.0, \"#0d0887\"], [0.1111111111111111, \"#46039f\"], [0.2222222222222222, \"#7201a8\"], [0.3333333333333333, \"#9c179e\"], [0.4444444444444444, \"#bd3786\"], [0.5555555555555556, \"#d8576b\"], [0.6666666666666666, \"#ed7953\"], [0.7777777777777778, \"#fb9f3a\"], [0.8888888888888888, \"#fdca26\"], [1.0, \"#f0f921\"]], \"type\": \"heatmapgl\"}], \"histogram\": [{\"marker\": {\"colorbar\": {\"outlinewidth\": 0, \"ticks\": \"\"}}, \"type\": \"histogram\"}], \"histogram2d\": [{\"colorbar\": {\"outlinewidth\": 0, \"ticks\": \"\"}, \"colorscale\": [[0.0, \"#0d0887\"], [0.1111111111111111, \"#46039f\"], [0.2222222222222222, \"#7201a8\"], [0.3333333333333333, \"#9c179e\"], [0.4444444444444444, \"#bd3786\"], [0.5555555555555556, \"#d8576b\"], [0.6666666666666666, \"#ed7953\"], [0.7777777777777778, \"#fb9f3a\"], [0.8888888888888888, \"#fdca26\"], [1.0, \"#f0f921\"]], \"type\": \"histogram2d\"}], \"histogram2dcontour\": [{\"colorbar\": {\"outlinewidth\": 0, \"ticks\": \"\"}, \"colorscale\": [[0.0, \"#0d0887\"], [0.1111111111111111, \"#46039f\"], [0.2222222222222222, \"#7201a8\"], [0.3333333333333333, \"#9c179e\"], [0.4444444444444444, \"#bd3786\"], [0.5555555555555556, \"#d8576b\"], [0.6666666666666666, \"#ed7953\"], [0.7777777777777778, \"#fb9f3a\"], [0.8888888888888888, \"#fdca26\"], [1.0, \"#f0f921\"]], \"type\": \"histogram2dcontour\"}], \"mesh3d\": [{\"colorbar\": {\"outlinewidth\": 0, \"ticks\": \"\"}, \"type\": \"mesh3d\"}], \"parcoords\": [{\"line\": {\"colorbar\": {\"outlinewidth\": 0, \"ticks\": \"\"}}, \"type\": \"parcoords\"}], \"scatter\": [{\"marker\": {\"colorbar\": {\"outlinewidth\": 0, \"ticks\": \"\"}}, \"type\": \"scatter\"}], \"scatter3d\": [{\"line\": {\"colorbar\": {\"outlinewidth\": 0, \"ticks\": \"\"}}, \"marker\": {\"colorbar\": {\"outlinewidth\": 0, \"ticks\": \"\"}}, \"type\": \"scatter3d\"}], \"scattercarpet\": [{\"marker\": {\"colorbar\": {\"outlinewidth\": 0, \"ticks\": \"\"}}, \"type\": \"scattercarpet\"}], \"scattergeo\": [{\"marker\": {\"colorbar\": {\"outlinewidth\": 0, \"ticks\": \"\"}}, \"type\": \"scattergeo\"}], \"scattergl\": [{\"marker\": {\"colorbar\": {\"outlinewidth\": 0, \"ticks\": \"\"}}, \"type\": \"scattergl\"}], \"scattermapbox\": [{\"marker\": {\"colorbar\": {\"outlinewidth\": 0, \"ticks\": \"\"}}, \"type\": \"scattermapbox\"}], \"scatterpolar\": [{\"marker\": {\"colorbar\": {\"outlinewidth\": 0, \"ticks\": \"\"}}, \"type\": \"scatterpolar\"}], \"scatterpolargl\": [{\"marker\": {\"colorbar\": {\"outlinewidth\": 0, \"ticks\": \"\"}}, \"type\": \"scatterpolargl\"}], \"scatterternary\": [{\"marker\": {\"colorbar\": {\"outlinewidth\": 0, \"ticks\": \"\"}}, \"type\": \"scatterternary\"}], \"surface\": [{\"colorbar\": {\"outlinewidth\": 0, \"ticks\": \"\"}, \"colorscale\": [[0.0, \"#0d0887\"], [0.1111111111111111, \"#46039f\"], [0.2222222222222222, \"#7201a8\"], [0.3333333333333333, \"#9c179e\"], [0.4444444444444444, \"#bd3786\"], [0.5555555555555556, \"#d8576b\"], [0.6666666666666666, \"#ed7953\"], [0.7777777777777778, \"#fb9f3a\"], [0.8888888888888888, \"#fdca26\"], [1.0, \"#f0f921\"]], \"type\": \"surface\"}], \"table\": [{\"cells\": {\"fill\": {\"color\": \"#EBF0F8\"}, \"line\": {\"color\": \"white\"}}, \"header\": {\"fill\": {\"color\": \"#C8D4E3\"}, \"line\": {\"color\": \"white\"}}, \"type\": \"table\"}]}, \"layout\": {\"annotationdefaults\": {\"arrowcolor\": \"#2a3f5f\", \"arrowhead\": 0, \"arrowwidth\": 1}, \"colorscale\": {\"diverging\": [[0, \"#8e0152\"], [0.1, \"#c51b7d\"], [0.2, \"#de77ae\"], [0.3, \"#f1b6da\"], [0.4, \"#fde0ef\"], [0.5, \"#f7f7f7\"], [0.6, \"#e6f5d0\"], [0.7, \"#b8e186\"], [0.8, \"#7fbc41\"], [0.9, \"#4d9221\"], [1, \"#276419\"]], \"sequential\": [[0.0, \"#0d0887\"], [0.1111111111111111, \"#46039f\"], [0.2222222222222222, \"#7201a8\"], [0.3333333333333333, \"#9c179e\"], [0.4444444444444444, \"#bd3786\"], [0.5555555555555556, \"#d8576b\"], [0.6666666666666666, \"#ed7953\"], [0.7777777777777778, \"#fb9f3a\"], [0.8888888888888888, \"#fdca26\"], [1.0, \"#f0f921\"]], \"sequentialminus\": [[0.0, \"#0d0887\"], [0.1111111111111111, \"#46039f\"], [0.2222222222222222, \"#7201a8\"], [0.3333333333333333, \"#9c179e\"], [0.4444444444444444, \"#bd3786\"], [0.5555555555555556, \"#d8576b\"], [0.6666666666666666, \"#ed7953\"], [0.7777777777777778, \"#fb9f3a\"], [0.8888888888888888, \"#fdca26\"], [1.0, \"#f0f921\"]]}, \"colorway\": [\"#636efa\", \"#EF553B\", \"#00cc96\", \"#ab63fa\", \"#FFA15A\", \"#19d3f3\", \"#FF6692\", \"#B6E880\", \"#FF97FF\", \"#FECB52\"], \"font\": {\"color\": \"#2a3f5f\"}, \"geo\": {\"bgcolor\": \"white\", \"lakecolor\": \"white\", \"landcolor\": \"#E5ECF6\", \"showlakes\": true, \"showland\": true, \"subunitcolor\": \"white\"}, \"hoverlabel\": {\"align\": \"left\"}, \"hovermode\": \"closest\", \"mapbox\": {\"style\": \"light\"}, \"paper_bgcolor\": \"white\", \"plot_bgcolor\": \"#E5ECF6\", \"polar\": {\"angularaxis\": {\"gridcolor\": \"white\", \"linecolor\": \"white\", \"ticks\": \"\"}, \"bgcolor\": \"#E5ECF6\", \"radialaxis\": {\"gridcolor\": \"white\", \"linecolor\": \"white\", \"ticks\": \"\"}}, \"scene\": {\"xaxis\": {\"backgroundcolor\": \"#E5ECF6\", \"gridcolor\": \"white\", \"gridwidth\": 2, \"linecolor\": \"white\", \"showbackground\": true, \"ticks\": \"\", \"zerolinecolor\": \"white\"}, \"yaxis\": {\"backgroundcolor\": \"#E5ECF6\", \"gridcolor\": \"white\", \"gridwidth\": 2, \"linecolor\": \"white\", \"showbackground\": true, \"ticks\": \"\", \"zerolinecolor\": \"white\"}, \"zaxis\": {\"backgroundcolor\": \"#E5ECF6\", \"gridcolor\": \"white\", \"gridwidth\": 2, \"linecolor\": \"white\", \"showbackground\": true, \"ticks\": \"\", \"zerolinecolor\": \"white\"}}, \"shapedefaults\": {\"line\": {\"color\": \"#2a3f5f\"}}, \"ternary\": {\"aaxis\": {\"gridcolor\": \"white\", \"linecolor\": \"white\", \"ticks\": \"\"}, \"baxis\": {\"gridcolor\": \"white\", \"linecolor\": \"white\", \"ticks\": \"\"}, \"bgcolor\": \"#E5ECF6\", \"caxis\": {\"gridcolor\": \"white\", \"linecolor\": \"white\", \"ticks\": \"\"}}, \"title\": {\"x\": 0.05}, \"xaxis\": {\"automargin\": true, \"gridcolor\": \"white\", \"linecolor\": \"white\", \"ticks\": \"\", \"zerolinecolor\": \"white\", \"zerolinewidth\": 2}, \"yaxis\": {\"automargin\": true, \"gridcolor\": \"white\", \"linecolor\": \"white\", \"ticks\": \"\", \"zerolinecolor\": \"white\", \"zerolinewidth\": 2}}}, \"title\": {\"text\": \"Normalized data mean\"}},\n",
              "                        {\"responsive\": true}\n",
              "                    ).then(function(){\n",
              "                            \n",
              "var gd = document.getElementById('61e04f3a-0221-4976-bb24-3c1d54b0fc65');\n",
              "var x = new MutationObserver(function (mutations, observer) {{\n",
              "        var display = window.getComputedStyle(gd).display;\n",
              "        if (!display || display === 'none') {{\n",
              "            console.log([gd, 'removed!']);\n",
              "            Plotly.purge(gd);\n",
              "            observer.disconnect();\n",
              "        }}\n",
              "}});\n",
              "\n",
              "// Listen for the removal of the full notebook cells\n",
              "var notebookContainer = gd.closest('#notebook-container');\n",
              "if (notebookContainer) {{\n",
              "    x.observe(notebookContainer, {childList: true});\n",
              "}}\n",
              "\n",
              "// Listen for the clearing of the current output cell\n",
              "var outputEl = gd.closest('.output');\n",
              "if (outputEl) {{\n",
              "    x.observe(outputEl, {childList: true});\n",
              "}}\n",
              "\n",
              "                        })\n",
              "                };\n",
              "                \n",
              "            </script>\n",
              "        </div>\n",
              "</body>\n",
              "</html>"
            ]
          },
          "metadata": {
            "tags": []
          }
        },
        {
          "output_type": "display_data",
          "data": {
            "text/html": [
              "<html>\n",
              "<head><meta charset=\"utf-8\" /></head>\n",
              "<body>\n",
              "    <div>\n",
              "            <script src=\"https://cdnjs.cloudflare.com/ajax/libs/mathjax/2.7.5/MathJax.js?config=TeX-AMS-MML_SVG\"></script><script type=\"text/javascript\">if (window.MathJax) {MathJax.Hub.Config({SVG: {font: \"STIX-Web\"}});}</script>\n",
              "                <script type=\"text/javascript\">window.PlotlyConfig = {MathJaxConfig: 'local'};</script>\n",
              "        <script src=\"https://cdn.plot.ly/plotly-latest.min.js\"></script>    \n",
              "            <div id=\"f53786ad-3871-4967-bb88-dd41106e2d4b\" class=\"plotly-graph-div\" style=\"height:525px; width:100%;\"></div>\n",
              "            <script type=\"text/javascript\">\n",
              "                \n",
              "                    window.PLOTLYENV=window.PLOTLYENV || {};\n",
              "                    \n",
              "                if (document.getElementById(\"f53786ad-3871-4967-bb88-dd41106e2d4b\")) {\n",
              "                    Plotly.newPlot(\n",
              "                        'f53786ad-3871-4967-bb88-dd41106e2d4b',\n",
              "                        [{\"type\": \"bar\", \"x\": [0, 1, 2, 3, 4, 5, 6, 7, 8, 9, 10, 11, 12, 13, 14, 15, 16, 17, 18, 19, 20, 21, 22, 23, 24, 25, 26, 27, 28, 29, 30, 31, 32, 33, 34, 35, 36, 37, 38, 39, 40, 41, 42, 43, 44, 45, 46, 47, 48, 49, 50, 51, 52, 53], \"y\": [0.3193339764438102, 0.040010926800859145, 0.16522598889331502, 0.01603433926488062, 0.04652029345466581, 0.0031642622723434444, 0.0048931665239107846, 0.003807474252804525, 0.0031927432628112034, 0.002724714052542495, 0.00815101003127249, 0.005382843785838599, 0.004662340611650206, 0.019687440452822873, 0.00269122793510657, 0.0043673524286579335, 0.04143701883306202, 0.05556217809502565, 0.07196891452940694, 0.003806310770272139, 0.0046311343722327, 0.007119130950461916, 0.13914405986329756, 0.030196007549989464, 0.3119055998965396, 0.0165405292285406, 0.008605595638861435, 0.013334890166123044, 0.0038062812684476373, 0.003824574852391811, 0.004311484789965446, 0.049111006448735575, 0.13750941299421218, 0.22911390191441966, 0.13053720567127142, 0.005403039926510992, 0.012209594118765748, 0.007001877245749881, 0.002919767158066822, 0.012217444746533222, 0.0029930084586719027, 0.015581467886435461, 0.0277831011261903, 0.010080215811516937, 0.015190043261529118, 0.01774034882220397, 0.13912741759573388, 0.10195064501131057, 0.1996753210559248, 0.0032282385493486534, 0.0026914680246499924, 0.0049474006104097915, 0.006074520512026901, 0.26149531525392894]}],\n",
              "                        {\"template\": {\"data\": {\"bar\": [{\"error_x\": {\"color\": \"#2a3f5f\"}, \"error_y\": {\"color\": \"#2a3f5f\"}, \"marker\": {\"line\": {\"color\": \"#E5ECF6\", \"width\": 0.5}}, \"type\": \"bar\"}], \"barpolar\": [{\"marker\": {\"line\": {\"color\": \"#E5ECF6\", \"width\": 0.5}}, \"type\": \"barpolar\"}], \"carpet\": [{\"aaxis\": {\"endlinecolor\": \"#2a3f5f\", \"gridcolor\": \"white\", \"linecolor\": \"white\", \"minorgridcolor\": \"white\", \"startlinecolor\": \"#2a3f5f\"}, \"baxis\": {\"endlinecolor\": \"#2a3f5f\", \"gridcolor\": \"white\", \"linecolor\": \"white\", \"minorgridcolor\": \"white\", \"startlinecolor\": \"#2a3f5f\"}, \"type\": \"carpet\"}], \"choropleth\": [{\"colorbar\": {\"outlinewidth\": 0, \"ticks\": \"\"}, \"type\": \"choropleth\"}], \"contour\": [{\"colorbar\": {\"outlinewidth\": 0, \"ticks\": \"\"}, \"colorscale\": [[0.0, \"#0d0887\"], [0.1111111111111111, \"#46039f\"], [0.2222222222222222, \"#7201a8\"], [0.3333333333333333, \"#9c179e\"], [0.4444444444444444, \"#bd3786\"], [0.5555555555555556, \"#d8576b\"], [0.6666666666666666, \"#ed7953\"], [0.7777777777777778, \"#fb9f3a\"], [0.8888888888888888, \"#fdca26\"], [1.0, \"#f0f921\"]], \"type\": \"contour\"}], \"contourcarpet\": [{\"colorbar\": {\"outlinewidth\": 0, \"ticks\": \"\"}, \"type\": \"contourcarpet\"}], \"heatmap\": [{\"colorbar\": {\"outlinewidth\": 0, \"ticks\": \"\"}, \"colorscale\": [[0.0, \"#0d0887\"], [0.1111111111111111, \"#46039f\"], [0.2222222222222222, \"#7201a8\"], [0.3333333333333333, \"#9c179e\"], [0.4444444444444444, \"#bd3786\"], [0.5555555555555556, \"#d8576b\"], [0.6666666666666666, \"#ed7953\"], [0.7777777777777778, \"#fb9f3a\"], [0.8888888888888888, \"#fdca26\"], [1.0, \"#f0f921\"]], \"type\": \"heatmap\"}], \"heatmapgl\": [{\"colorbar\": {\"outlinewidth\": 0, \"ticks\": \"\"}, \"colorscale\": [[0.0, \"#0d0887\"], [0.1111111111111111, \"#46039f\"], [0.2222222222222222, \"#7201a8\"], [0.3333333333333333, \"#9c179e\"], [0.4444444444444444, \"#bd3786\"], [0.5555555555555556, \"#d8576b\"], [0.6666666666666666, \"#ed7953\"], [0.7777777777777778, \"#fb9f3a\"], [0.8888888888888888, \"#fdca26\"], [1.0, \"#f0f921\"]], \"type\": \"heatmapgl\"}], \"histogram\": [{\"marker\": {\"colorbar\": {\"outlinewidth\": 0, \"ticks\": \"\"}}, \"type\": \"histogram\"}], \"histogram2d\": [{\"colorbar\": {\"outlinewidth\": 0, \"ticks\": \"\"}, \"colorscale\": [[0.0, \"#0d0887\"], [0.1111111111111111, \"#46039f\"], [0.2222222222222222, \"#7201a8\"], [0.3333333333333333, \"#9c179e\"], [0.4444444444444444, \"#bd3786\"], [0.5555555555555556, \"#d8576b\"], [0.6666666666666666, \"#ed7953\"], [0.7777777777777778, \"#fb9f3a\"], [0.8888888888888888, \"#fdca26\"], [1.0, \"#f0f921\"]], \"type\": \"histogram2d\"}], \"histogram2dcontour\": [{\"colorbar\": {\"outlinewidth\": 0, \"ticks\": \"\"}, \"colorscale\": [[0.0, \"#0d0887\"], [0.1111111111111111, \"#46039f\"], [0.2222222222222222, \"#7201a8\"], [0.3333333333333333, \"#9c179e\"], [0.4444444444444444, \"#bd3786\"], [0.5555555555555556, \"#d8576b\"], [0.6666666666666666, \"#ed7953\"], [0.7777777777777778, \"#fb9f3a\"], [0.8888888888888888, \"#fdca26\"], [1.0, \"#f0f921\"]], \"type\": \"histogram2dcontour\"}], \"mesh3d\": [{\"colorbar\": {\"outlinewidth\": 0, \"ticks\": \"\"}, \"type\": \"mesh3d\"}], \"parcoords\": [{\"line\": {\"colorbar\": {\"outlinewidth\": 0, \"ticks\": \"\"}}, \"type\": \"parcoords\"}], \"scatter\": [{\"marker\": {\"colorbar\": {\"outlinewidth\": 0, \"ticks\": \"\"}}, \"type\": \"scatter\"}], \"scatter3d\": [{\"line\": {\"colorbar\": {\"outlinewidth\": 0, \"ticks\": \"\"}}, \"marker\": {\"colorbar\": {\"outlinewidth\": 0, \"ticks\": \"\"}}, \"type\": \"scatter3d\"}], \"scattercarpet\": [{\"marker\": {\"colorbar\": {\"outlinewidth\": 0, \"ticks\": \"\"}}, \"type\": \"scattercarpet\"}], \"scattergeo\": [{\"marker\": {\"colorbar\": {\"outlinewidth\": 0, \"ticks\": \"\"}}, \"type\": \"scattergeo\"}], \"scattergl\": [{\"marker\": {\"colorbar\": {\"outlinewidth\": 0, \"ticks\": \"\"}}, \"type\": \"scattergl\"}], \"scattermapbox\": [{\"marker\": {\"colorbar\": {\"outlinewidth\": 0, \"ticks\": \"\"}}, \"type\": \"scattermapbox\"}], \"scatterpolar\": [{\"marker\": {\"colorbar\": {\"outlinewidth\": 0, \"ticks\": \"\"}}, \"type\": \"scatterpolar\"}], \"scatterpolargl\": [{\"marker\": {\"colorbar\": {\"outlinewidth\": 0, \"ticks\": \"\"}}, \"type\": \"scatterpolargl\"}], \"scatterternary\": [{\"marker\": {\"colorbar\": {\"outlinewidth\": 0, \"ticks\": \"\"}}, \"type\": \"scatterternary\"}], \"surface\": [{\"colorbar\": {\"outlinewidth\": 0, \"ticks\": \"\"}, \"colorscale\": [[0.0, \"#0d0887\"], [0.1111111111111111, \"#46039f\"], [0.2222222222222222, \"#7201a8\"], [0.3333333333333333, \"#9c179e\"], [0.4444444444444444, \"#bd3786\"], [0.5555555555555556, \"#d8576b\"], [0.6666666666666666, \"#ed7953\"], [0.7777777777777778, \"#fb9f3a\"], [0.8888888888888888, \"#fdca26\"], [1.0, \"#f0f921\"]], \"type\": \"surface\"}], \"table\": [{\"cells\": {\"fill\": {\"color\": \"#EBF0F8\"}, \"line\": {\"color\": \"white\"}}, \"header\": {\"fill\": {\"color\": \"#C8D4E3\"}, \"line\": {\"color\": \"white\"}}, \"type\": \"table\"}]}, \"layout\": {\"annotationdefaults\": {\"arrowcolor\": \"#2a3f5f\", \"arrowhead\": 0, \"arrowwidth\": 1}, \"colorscale\": {\"diverging\": [[0, \"#8e0152\"], [0.1, \"#c51b7d\"], [0.2, \"#de77ae\"], [0.3, \"#f1b6da\"], [0.4, \"#fde0ef\"], [0.5, \"#f7f7f7\"], [0.6, \"#e6f5d0\"], [0.7, \"#b8e186\"], [0.8, \"#7fbc41\"], [0.9, \"#4d9221\"], [1, \"#276419\"]], \"sequential\": [[0.0, \"#0d0887\"], [0.1111111111111111, \"#46039f\"], [0.2222222222222222, \"#7201a8\"], [0.3333333333333333, \"#9c179e\"], [0.4444444444444444, \"#bd3786\"], [0.5555555555555556, \"#d8576b\"], [0.6666666666666666, \"#ed7953\"], [0.7777777777777778, \"#fb9f3a\"], [0.8888888888888888, \"#fdca26\"], [1.0, \"#f0f921\"]], \"sequentialminus\": [[0.0, \"#0d0887\"], [0.1111111111111111, \"#46039f\"], [0.2222222222222222, \"#7201a8\"], [0.3333333333333333, \"#9c179e\"], [0.4444444444444444, \"#bd3786\"], [0.5555555555555556, \"#d8576b\"], [0.6666666666666666, \"#ed7953\"], [0.7777777777777778, \"#fb9f3a\"], [0.8888888888888888, \"#fdca26\"], [1.0, \"#f0f921\"]]}, \"colorway\": [\"#636efa\", \"#EF553B\", \"#00cc96\", \"#ab63fa\", \"#FFA15A\", \"#19d3f3\", \"#FF6692\", \"#B6E880\", \"#FF97FF\", \"#FECB52\"], \"font\": {\"color\": \"#2a3f5f\"}, \"geo\": {\"bgcolor\": \"white\", \"lakecolor\": \"white\", \"landcolor\": \"#E5ECF6\", \"showlakes\": true, \"showland\": true, \"subunitcolor\": \"white\"}, \"hoverlabel\": {\"align\": \"left\"}, \"hovermode\": \"closest\", \"mapbox\": {\"style\": \"light\"}, \"paper_bgcolor\": \"white\", \"plot_bgcolor\": \"#E5ECF6\", \"polar\": {\"angularaxis\": {\"gridcolor\": \"white\", \"linecolor\": \"white\", \"ticks\": \"\"}, \"bgcolor\": \"#E5ECF6\", \"radialaxis\": {\"gridcolor\": \"white\", \"linecolor\": \"white\", \"ticks\": \"\"}}, \"scene\": {\"xaxis\": {\"backgroundcolor\": \"#E5ECF6\", \"gridcolor\": \"white\", \"gridwidth\": 2, \"linecolor\": \"white\", \"showbackground\": true, \"ticks\": \"\", \"zerolinecolor\": \"white\"}, \"yaxis\": {\"backgroundcolor\": \"#E5ECF6\", \"gridcolor\": \"white\", \"gridwidth\": 2, \"linecolor\": \"white\", \"showbackground\": true, \"ticks\": \"\", \"zerolinecolor\": \"white\"}, \"zaxis\": {\"backgroundcolor\": \"#E5ECF6\", \"gridcolor\": \"white\", \"gridwidth\": 2, \"linecolor\": \"white\", \"showbackground\": true, \"ticks\": \"\", \"zerolinecolor\": \"white\"}}, \"shapedefaults\": {\"line\": {\"color\": \"#2a3f5f\"}}, \"ternary\": {\"aaxis\": {\"gridcolor\": \"white\", \"linecolor\": \"white\", \"ticks\": \"\"}, \"baxis\": {\"gridcolor\": \"white\", \"linecolor\": \"white\", \"ticks\": \"\"}, \"bgcolor\": \"#E5ECF6\", \"caxis\": {\"gridcolor\": \"white\", \"linecolor\": \"white\", \"ticks\": \"\"}}, \"title\": {\"x\": 0.05}, \"xaxis\": {\"automargin\": true, \"gridcolor\": \"white\", \"linecolor\": \"white\", \"ticks\": \"\", \"zerolinecolor\": \"white\", \"zerolinewidth\": 2}, \"yaxis\": {\"automargin\": true, \"gridcolor\": \"white\", \"linecolor\": \"white\", \"ticks\": \"\", \"zerolinecolor\": \"white\", \"zerolinewidth\": 2}}}, \"title\": {\"text\": \"Normalized data standard deviation\"}},\n",
              "                        {\"responsive\": true}\n",
              "                    ).then(function(){\n",
              "                            \n",
              "var gd = document.getElementById('f53786ad-3871-4967-bb88-dd41106e2d4b');\n",
              "var x = new MutationObserver(function (mutations, observer) {{\n",
              "        var display = window.getComputedStyle(gd).display;\n",
              "        if (!display || display === 'none') {{\n",
              "            console.log([gd, 'removed!']);\n",
              "            Plotly.purge(gd);\n",
              "            observer.disconnect();\n",
              "        }}\n",
              "}});\n",
              "\n",
              "// Listen for the removal of the full notebook cells\n",
              "var notebookContainer = gd.closest('#notebook-container');\n",
              "if (notebookContainer) {{\n",
              "    x.observe(notebookContainer, {childList: true});\n",
              "}}\n",
              "\n",
              "// Listen for the clearing of the current output cell\n",
              "var outputEl = gd.closest('.output');\n",
              "if (outputEl) {{\n",
              "    x.observe(outputEl, {childList: true});\n",
              "}}\n",
              "\n",
              "                        })\n",
              "                };\n",
              "                \n",
              "            </script>\n",
              "        </div>\n",
              "</body>\n",
              "</html>"
            ]
          },
          "metadata": {
            "tags": []
          }
        },
        {
          "output_type": "stream",
          "text": [
            "[22-12-19 13:49:39 INFO] Function malware_data_transform finished in 1.5302696228027344s\n",
            "[22-12-19 13:49:39 INFO] Running knn_classifier...\n",
            "[22-12-19 13:49:39 INFO] -Running KNN algorithm with n_neighbors=1\n",
            "[22-12-19 13:49:39 INFO] --Finding best 3 features\n",
            "[22-12-19 13:49:39 INFO] ---Starting fitting for weight=distance\n",
            "[22-12-19 13:49:43 INFO] -----Measuring confusion matrix...\n",
            "[22-12-19 13:49:44 INFO] ----KNN accuracy is: 96.40951346130629%\n",
            "[22-12-19 13:49:44 INFO] ------Precision in percent: 97.47283729885848%\n",
            "[22-12-19 13:49:44 INFO] ------Recall in percent: 97.41589636094979%\n",
            "[22-12-19 13:49:44 INFO] ------False positives in percent: 2.527162701141521%\n",
            "[22-12-19 13:49:44 INFO] ------False negatives in percent: 6.098451058308329%\n",
            "[22-12-19 13:49:44 INFO] --Finding best 23 features\n",
            "[22-12-19 13:49:45 INFO] ---Starting fitting for weight=distance\n",
            "[22-12-19 13:50:35 INFO] -----Measuring confusion matrix...\n",
            "[22-12-19 13:51:05 INFO] ----KNN accuracy is: 99.17179765785343%\n",
            "[22-12-19 13:51:05 INFO] ------Precision in percent: 99.33457454144255%\n",
            "[22-12-19 13:51:05 INFO] ------Recall in percent: 99.4820620834916%\n",
            "[22-12-19 13:51:05 INFO] ------False positives in percent: 0.6654254585574403%\n",
            "[22-12-19 13:51:05 INFO] ------False negatives in percent: 1.208605269518975%\n",
            "[22-12-19 13:51:05 INFO] Function knn_classifier finished in 86.39040517807007s\n"
          ],
          "name": "stderr"
        }
      ]
    },
    {
      "cell_type": "markdown",
      "metadata": {
        "id": "UdUlXd6Lps47",
        "colab_type": "text"
      },
      "source": [
        "After performing data normalization - a process of eliminating units of data, enabling to compare data more easily - mean value and std are looking better. It affects algorithm execution time, which doubles, but it performs better on data rescaled to values ​​between 0 and 1. The algorithm predicts classes more accurate and False positives/negatives results lower.\n",
        "Precision and recall measurements for normalized data is above 99%, which is a satisfying result."
      ]
    },
    {
      "cell_type": "code",
      "metadata": {
        "id": "yVXRD7ll0All",
        "colab_type": "code",
        "colab": {
          "base_uri": "https://localhost:8080/",
          "height": 1000
        },
        "outputId": "9a0bd9e9-5579-4512-bbf1-68b45eb6a836"
      },
      "source": [
        "get_logger(logger_file='KNN_results.log').info(\"--------------------------------------\")\n",
        "input_data, labels = malware_data_transform(optimize_data='standardize', enable_figures=True)\n",
        "knn_classifier(input_data, labels, 1, (3, 24, 20))"
      ],
      "execution_count": 13,
      "outputs": [
        {
          "output_type": "stream",
          "text": [
            "[22-12-19 13:51:05 INFO] --------------------------------------\n",
            "[22-12-19 13:51:05 INFO] Running malware_data_transform...\n",
            "[22-12-19 13:51:05 INFO] -Reading csv file\n",
            "[22-12-19 13:51:06 INFO] --Data standardization processing...\n",
            "[22-12-19 13:51:06 INFO] --Figures enabled\n"
          ],
          "name": "stderr"
        },
        {
          "output_type": "display_data",
          "data": {
            "text/html": [
              "<html>\n",
              "<head><meta charset=\"utf-8\" /></head>\n",
              "<body>\n",
              "    <div>\n",
              "            <script src=\"https://cdnjs.cloudflare.com/ajax/libs/mathjax/2.7.5/MathJax.js?config=TeX-AMS-MML_SVG\"></script><script type=\"text/javascript\">if (window.MathJax) {MathJax.Hub.Config({SVG: {font: \"STIX-Web\"}});}</script>\n",
              "                <script type=\"text/javascript\">window.PlotlyConfig = {MathJaxConfig: 'local'};</script>\n",
              "        <script src=\"https://cdn.plot.ly/plotly-latest.min.js\"></script>    \n",
              "            <div id=\"5f80e2f8-00aa-4f3a-98c9-71c25964f44c\" class=\"plotly-graph-div\" style=\"height:525px; width:100%;\"></div>\n",
              "            <script type=\"text/javascript\">\n",
              "                \n",
              "                    window.PLOTLYENV=window.PLOTLYENV || {};\n",
              "                    \n",
              "                if (document.getElementById(\"5f80e2f8-00aa-4f3a-98c9-71c25964f44c\")) {\n",
              "                    Plotly.newPlot(\n",
              "                        '5f80e2f8-00aa-4f3a-98c9-71c25964f44c',\n",
              "                        [{\"type\": \"bar\", \"x\": [0, 1, 2, 3, 4, 5, 6, 7, 8, 9, 10, 11, 12, 13, 14, 15, 16, 17, 18, 19, 20, 21, 22, 23, 24, 25, 26, 27, 28, 29, 30, 31, 32, 33, 34, 35, 36, 37, 38, 39, 40, 41, 42, 43, 44, 45, 46, 47, 48, 49, 50, 51, 52, 53], \"y\": [-3.040380499932144e-14, 1.310182766923623e-13, 6.461145346037704e-14, -2.4779831766660595e-15, 9.379014878088035e-15, 3.355089208284636e-15, -3.781215814389734e-16, -1.1186587818067937e-14, -7.915223273368484e-16, -2.8398254303235957e-15, -4.120304714919366e-17, -4.2661148787525515e-15, -3.253556910230073e-15, -1.0662638763825038e-13, 1.5332367334333203e-15, 2.5650447108607008e-15, 1.1515399314197691e-14, 2.939048290651428e-15, -2.93827078187691e-13, -5.842448784806687e-15, 2.0810071900944458e-16, 2.8733923113627855e-15, -1.4476516229960295e-14, 4.313452944169223e-13, 1.4102188099035772e-13, -1.2301303282268007e-13, 5.823472501863207e-15, 1.1867778228881626e-14, -8.63936415921551e-15, -3.2265650190828175e-15, -4.31869735602993e-15, -1.2505361280158994e-14, -4.071639658864586e-14, 4.224744148494971e-15, 3.206799350062632e-14, 8.518365616568969e-16, 3.743933358282091e-14, -8.029905249618592e-16, -3.0400341860591937e-16, -4.216671986197274e-15, 7.609631363925399e-17, -1.0876147574721217e-15, -1.089243133365194e-14, 6.873574497188657e-15, 9.73178690309993e-14, 3.20155609630109e-15, 2.6827865802597224e-14, 5.785421102969092e-15, 3.431859798020248e-14, -4.016464650440037e-16, 8.624621843343338e-16, -1.9038660142469087e-15, -8.097812057969583e-15, -1.1908848888809337e-13]}],\n",
              "                        {\"template\": {\"data\": {\"bar\": [{\"error_x\": {\"color\": \"#2a3f5f\"}, \"error_y\": {\"color\": \"#2a3f5f\"}, \"marker\": {\"line\": {\"color\": \"#E5ECF6\", \"width\": 0.5}}, \"type\": \"bar\"}], \"barpolar\": [{\"marker\": {\"line\": {\"color\": \"#E5ECF6\", \"width\": 0.5}}, \"type\": \"barpolar\"}], \"carpet\": [{\"aaxis\": {\"endlinecolor\": \"#2a3f5f\", \"gridcolor\": \"white\", \"linecolor\": \"white\", \"minorgridcolor\": \"white\", \"startlinecolor\": \"#2a3f5f\"}, \"baxis\": {\"endlinecolor\": \"#2a3f5f\", \"gridcolor\": \"white\", \"linecolor\": \"white\", \"minorgridcolor\": \"white\", \"startlinecolor\": \"#2a3f5f\"}, \"type\": \"carpet\"}], \"choropleth\": [{\"colorbar\": {\"outlinewidth\": 0, \"ticks\": \"\"}, \"type\": \"choropleth\"}], \"contour\": [{\"colorbar\": {\"outlinewidth\": 0, \"ticks\": \"\"}, \"colorscale\": [[0.0, \"#0d0887\"], [0.1111111111111111, \"#46039f\"], [0.2222222222222222, \"#7201a8\"], [0.3333333333333333, \"#9c179e\"], [0.4444444444444444, \"#bd3786\"], [0.5555555555555556, \"#d8576b\"], [0.6666666666666666, \"#ed7953\"], [0.7777777777777778, \"#fb9f3a\"], [0.8888888888888888, \"#fdca26\"], [1.0, \"#f0f921\"]], \"type\": \"contour\"}], \"contourcarpet\": [{\"colorbar\": {\"outlinewidth\": 0, \"ticks\": \"\"}, \"type\": \"contourcarpet\"}], \"heatmap\": [{\"colorbar\": {\"outlinewidth\": 0, \"ticks\": \"\"}, \"colorscale\": [[0.0, \"#0d0887\"], [0.1111111111111111, \"#46039f\"], [0.2222222222222222, \"#7201a8\"], [0.3333333333333333, \"#9c179e\"], [0.4444444444444444, \"#bd3786\"], [0.5555555555555556, \"#d8576b\"], [0.6666666666666666, \"#ed7953\"], [0.7777777777777778, \"#fb9f3a\"], [0.8888888888888888, \"#fdca26\"], [1.0, \"#f0f921\"]], \"type\": \"heatmap\"}], \"heatmapgl\": [{\"colorbar\": {\"outlinewidth\": 0, \"ticks\": \"\"}, \"colorscale\": [[0.0, \"#0d0887\"], [0.1111111111111111, \"#46039f\"], [0.2222222222222222, \"#7201a8\"], [0.3333333333333333, \"#9c179e\"], [0.4444444444444444, \"#bd3786\"], [0.5555555555555556, \"#d8576b\"], [0.6666666666666666, \"#ed7953\"], [0.7777777777777778, \"#fb9f3a\"], [0.8888888888888888, \"#fdca26\"], [1.0, \"#f0f921\"]], \"type\": \"heatmapgl\"}], \"histogram\": [{\"marker\": {\"colorbar\": {\"outlinewidth\": 0, \"ticks\": \"\"}}, \"type\": \"histogram\"}], \"histogram2d\": [{\"colorbar\": {\"outlinewidth\": 0, \"ticks\": \"\"}, \"colorscale\": [[0.0, \"#0d0887\"], [0.1111111111111111, \"#46039f\"], [0.2222222222222222, \"#7201a8\"], [0.3333333333333333, \"#9c179e\"], [0.4444444444444444, \"#bd3786\"], [0.5555555555555556, \"#d8576b\"], [0.6666666666666666, \"#ed7953\"], [0.7777777777777778, \"#fb9f3a\"], [0.8888888888888888, \"#fdca26\"], [1.0, \"#f0f921\"]], \"type\": \"histogram2d\"}], \"histogram2dcontour\": [{\"colorbar\": {\"outlinewidth\": 0, \"ticks\": \"\"}, \"colorscale\": [[0.0, \"#0d0887\"], [0.1111111111111111, \"#46039f\"], [0.2222222222222222, \"#7201a8\"], [0.3333333333333333, \"#9c179e\"], [0.4444444444444444, \"#bd3786\"], [0.5555555555555556, \"#d8576b\"], [0.6666666666666666, \"#ed7953\"], [0.7777777777777778, \"#fb9f3a\"], [0.8888888888888888, \"#fdca26\"], [1.0, \"#f0f921\"]], \"type\": \"histogram2dcontour\"}], \"mesh3d\": [{\"colorbar\": {\"outlinewidth\": 0, \"ticks\": \"\"}, \"type\": \"mesh3d\"}], \"parcoords\": [{\"line\": {\"colorbar\": {\"outlinewidth\": 0, \"ticks\": \"\"}}, \"type\": \"parcoords\"}], \"scatter\": [{\"marker\": {\"colorbar\": {\"outlinewidth\": 0, \"ticks\": \"\"}}, \"type\": \"scatter\"}], \"scatter3d\": [{\"line\": {\"colorbar\": {\"outlinewidth\": 0, \"ticks\": \"\"}}, \"marker\": {\"colorbar\": {\"outlinewidth\": 0, \"ticks\": \"\"}}, \"type\": \"scatter3d\"}], \"scattercarpet\": [{\"marker\": {\"colorbar\": {\"outlinewidth\": 0, \"ticks\": \"\"}}, \"type\": \"scattercarpet\"}], \"scattergeo\": [{\"marker\": {\"colorbar\": {\"outlinewidth\": 0, \"ticks\": \"\"}}, \"type\": \"scattergeo\"}], \"scattergl\": [{\"marker\": {\"colorbar\": {\"outlinewidth\": 0, \"ticks\": \"\"}}, \"type\": \"scattergl\"}], \"scattermapbox\": [{\"marker\": {\"colorbar\": {\"outlinewidth\": 0, \"ticks\": \"\"}}, \"type\": \"scattermapbox\"}], \"scatterpolar\": [{\"marker\": {\"colorbar\": {\"outlinewidth\": 0, \"ticks\": \"\"}}, \"type\": \"scatterpolar\"}], \"scatterpolargl\": [{\"marker\": {\"colorbar\": {\"outlinewidth\": 0, \"ticks\": \"\"}}, \"type\": \"scatterpolargl\"}], \"scatterternary\": [{\"marker\": {\"colorbar\": {\"outlinewidth\": 0, \"ticks\": \"\"}}, \"type\": \"scatterternary\"}], \"surface\": [{\"colorbar\": {\"outlinewidth\": 0, \"ticks\": \"\"}, \"colorscale\": [[0.0, \"#0d0887\"], [0.1111111111111111, \"#46039f\"], [0.2222222222222222, \"#7201a8\"], [0.3333333333333333, \"#9c179e\"], [0.4444444444444444, \"#bd3786\"], [0.5555555555555556, \"#d8576b\"], [0.6666666666666666, \"#ed7953\"], [0.7777777777777778, \"#fb9f3a\"], [0.8888888888888888, \"#fdca26\"], [1.0, \"#f0f921\"]], \"type\": \"surface\"}], \"table\": [{\"cells\": {\"fill\": {\"color\": \"#EBF0F8\"}, \"line\": {\"color\": \"white\"}}, \"header\": {\"fill\": {\"color\": \"#C8D4E3\"}, \"line\": {\"color\": \"white\"}}, \"type\": \"table\"}]}, \"layout\": {\"annotationdefaults\": {\"arrowcolor\": \"#2a3f5f\", \"arrowhead\": 0, \"arrowwidth\": 1}, \"colorscale\": {\"diverging\": [[0, \"#8e0152\"], [0.1, \"#c51b7d\"], [0.2, \"#de77ae\"], [0.3, \"#f1b6da\"], [0.4, \"#fde0ef\"], [0.5, \"#f7f7f7\"], [0.6, \"#e6f5d0\"], [0.7, \"#b8e186\"], [0.8, \"#7fbc41\"], [0.9, \"#4d9221\"], [1, \"#276419\"]], \"sequential\": [[0.0, \"#0d0887\"], [0.1111111111111111, \"#46039f\"], [0.2222222222222222, \"#7201a8\"], [0.3333333333333333, \"#9c179e\"], [0.4444444444444444, \"#bd3786\"], [0.5555555555555556, \"#d8576b\"], [0.6666666666666666, \"#ed7953\"], [0.7777777777777778, \"#fb9f3a\"], [0.8888888888888888, \"#fdca26\"], [1.0, \"#f0f921\"]], \"sequentialminus\": [[0.0, \"#0d0887\"], [0.1111111111111111, \"#46039f\"], [0.2222222222222222, \"#7201a8\"], [0.3333333333333333, \"#9c179e\"], [0.4444444444444444, \"#bd3786\"], [0.5555555555555556, \"#d8576b\"], [0.6666666666666666, \"#ed7953\"], [0.7777777777777778, \"#fb9f3a\"], [0.8888888888888888, \"#fdca26\"], [1.0, \"#f0f921\"]]}, \"colorway\": [\"#636efa\", \"#EF553B\", \"#00cc96\", \"#ab63fa\", \"#FFA15A\", \"#19d3f3\", \"#FF6692\", \"#B6E880\", \"#FF97FF\", \"#FECB52\"], \"font\": {\"color\": \"#2a3f5f\"}, \"geo\": {\"bgcolor\": \"white\", \"lakecolor\": \"white\", \"landcolor\": \"#E5ECF6\", \"showlakes\": true, \"showland\": true, \"subunitcolor\": \"white\"}, \"hoverlabel\": {\"align\": \"left\"}, \"hovermode\": \"closest\", \"mapbox\": {\"style\": \"light\"}, \"paper_bgcolor\": \"white\", \"plot_bgcolor\": \"#E5ECF6\", \"polar\": {\"angularaxis\": {\"gridcolor\": \"white\", \"linecolor\": \"white\", \"ticks\": \"\"}, \"bgcolor\": \"#E5ECF6\", \"radialaxis\": {\"gridcolor\": \"white\", \"linecolor\": \"white\", \"ticks\": \"\"}}, \"scene\": {\"xaxis\": {\"backgroundcolor\": \"#E5ECF6\", \"gridcolor\": \"white\", \"gridwidth\": 2, \"linecolor\": \"white\", \"showbackground\": true, \"ticks\": \"\", \"zerolinecolor\": \"white\"}, \"yaxis\": {\"backgroundcolor\": \"#E5ECF6\", \"gridcolor\": \"white\", \"gridwidth\": 2, \"linecolor\": \"white\", \"showbackground\": true, \"ticks\": \"\", \"zerolinecolor\": \"white\"}, \"zaxis\": {\"backgroundcolor\": \"#E5ECF6\", \"gridcolor\": \"white\", \"gridwidth\": 2, \"linecolor\": \"white\", \"showbackground\": true, \"ticks\": \"\", \"zerolinecolor\": \"white\"}}, \"shapedefaults\": {\"line\": {\"color\": \"#2a3f5f\"}}, \"ternary\": {\"aaxis\": {\"gridcolor\": \"white\", \"linecolor\": \"white\", \"ticks\": \"\"}, \"baxis\": {\"gridcolor\": \"white\", \"linecolor\": \"white\", \"ticks\": \"\"}, \"bgcolor\": \"#E5ECF6\", \"caxis\": {\"gridcolor\": \"white\", \"linecolor\": \"white\", \"ticks\": \"\"}}, \"title\": {\"x\": 0.05}, \"xaxis\": {\"automargin\": true, \"gridcolor\": \"white\", \"linecolor\": \"white\", \"ticks\": \"\", \"zerolinecolor\": \"white\", \"zerolinewidth\": 2}, \"yaxis\": {\"automargin\": true, \"gridcolor\": \"white\", \"linecolor\": \"white\", \"ticks\": \"\", \"zerolinecolor\": \"white\", \"zerolinewidth\": 2}}}, \"title\": {\"text\": \"Standardized data mean\"}},\n",
              "                        {\"responsive\": true}\n",
              "                    ).then(function(){\n",
              "                            \n",
              "var gd = document.getElementById('5f80e2f8-00aa-4f3a-98c9-71c25964f44c');\n",
              "var x = new MutationObserver(function (mutations, observer) {{\n",
              "        var display = window.getComputedStyle(gd).display;\n",
              "        if (!display || display === 'none') {{\n",
              "            console.log([gd, 'removed!']);\n",
              "            Plotly.purge(gd);\n",
              "            observer.disconnect();\n",
              "        }}\n",
              "}});\n",
              "\n",
              "// Listen for the removal of the full notebook cells\n",
              "var notebookContainer = gd.closest('#notebook-container');\n",
              "if (notebookContainer) {{\n",
              "    x.observe(notebookContainer, {childList: true});\n",
              "}}\n",
              "\n",
              "// Listen for the clearing of the current output cell\n",
              "var outputEl = gd.closest('.output');\n",
              "if (outputEl) {{\n",
              "    x.observe(outputEl, {childList: true});\n",
              "}}\n",
              "\n",
              "                        })\n",
              "                };\n",
              "                \n",
              "            </script>\n",
              "        </div>\n",
              "</body>\n",
              "</html>"
            ]
          },
          "metadata": {
            "tags": []
          }
        },
        {
          "output_type": "display_data",
          "data": {
            "text/html": [
              "<html>\n",
              "<head><meta charset=\"utf-8\" /></head>\n",
              "<body>\n",
              "    <div>\n",
              "            <script src=\"https://cdnjs.cloudflare.com/ajax/libs/mathjax/2.7.5/MathJax.js?config=TeX-AMS-MML_SVG\"></script><script type=\"text/javascript\">if (window.MathJax) {MathJax.Hub.Config({SVG: {font: \"STIX-Web\"}});}</script>\n",
              "                <script type=\"text/javascript\">window.PlotlyConfig = {MathJaxConfig: 'local'};</script>\n",
              "        <script src=\"https://cdn.plot.ly/plotly-latest.min.js\"></script>    \n",
              "            <div id=\"0a734cdf-2fb1-4662-81b5-a5a5909497a7\" class=\"plotly-graph-div\" style=\"height:525px; width:100%;\"></div>\n",
              "            <script type=\"text/javascript\">\n",
              "                \n",
              "                    window.PLOTLYENV=window.PLOTLYENV || {};\n",
              "                    \n",
              "                if (document.getElementById(\"0a734cdf-2fb1-4662-81b5-a5a5909497a7\")) {\n",
              "                    Plotly.newPlot(\n",
              "                        '0a734cdf-2fb1-4662-81b5-a5a5909497a7',\n",
              "                        [{\"type\": \"bar\", \"x\": [0, 1, 2, 3, 4, 5, 6, 7, 8, 9, 10, 11, 12, 13, 14, 15, 16, 17, 18, 19, 20, 21, 22, 23, 24, 25, 26, 27, 28, 29, 30, 31, 32, 33, 34, 35, 36, 37, 38, 39, 40, 41, 42, 43, 44, 45, 46, 47, 48, 49, 50, 51, 52, 53], \"y\": [1.000003621974054, 1.0000036219763098, 1.0000036219740227, 1.0000036219739135, 1.0000036219750665, 1.000003621974591, 1.0000036219743291, 1.0000036219744455, 1.0000036219745476, 1.0000036219753023, 1.000003621974774, 1.0000036219795756, 1.0000036219732786, 1.0000036219743993, 1.0000036219736026, 1.0000036219744197, 1.0000036219737967, 1.0000036219714799, 1.0000036219755357, 1.0000036219744048, 1.0000036219746944, 1.0000036219741002, 1.0000036219744548, 1.0000036219727273, 1.0000036219734776, 1.000003621973713, 1.000003621974887, 1.0000036219730042, 1.000003621974963, 1.0000036219746888, 1.0000036219744841, 1.0000036219755966, 1.000003621974454, 1.000003621974543, 1.0000036219744048, 1.0000036219744064, 1.000003621975663, 1.000003621974138, 1.0000036219745672, 1.0000036219744322, 1.0000036219745405, 1.0000036219740982, 1.0000036219746038, 1.0000036219731951, 1.0000036219793218, 1.0000036219739437, 1.0000036219744983, 1.0000036219743853, 1.0000036219747974, 1.0000036219743698, 1.000003621972984, 1.0000036219747905, 1.0000036219744635, 1.0000036219747863]}],\n",
              "                        {\"template\": {\"data\": {\"bar\": [{\"error_x\": {\"color\": \"#2a3f5f\"}, \"error_y\": {\"color\": \"#2a3f5f\"}, \"marker\": {\"line\": {\"color\": \"#E5ECF6\", \"width\": 0.5}}, \"type\": \"bar\"}], \"barpolar\": [{\"marker\": {\"line\": {\"color\": \"#E5ECF6\", \"width\": 0.5}}, \"type\": \"barpolar\"}], \"carpet\": [{\"aaxis\": {\"endlinecolor\": \"#2a3f5f\", \"gridcolor\": \"white\", \"linecolor\": \"white\", \"minorgridcolor\": \"white\", \"startlinecolor\": \"#2a3f5f\"}, \"baxis\": {\"endlinecolor\": \"#2a3f5f\", \"gridcolor\": \"white\", \"linecolor\": \"white\", \"minorgridcolor\": \"white\", \"startlinecolor\": \"#2a3f5f\"}, \"type\": \"carpet\"}], \"choropleth\": [{\"colorbar\": {\"outlinewidth\": 0, \"ticks\": \"\"}, \"type\": \"choropleth\"}], \"contour\": [{\"colorbar\": {\"outlinewidth\": 0, \"ticks\": \"\"}, \"colorscale\": [[0.0, \"#0d0887\"], [0.1111111111111111, \"#46039f\"], [0.2222222222222222, \"#7201a8\"], [0.3333333333333333, \"#9c179e\"], [0.4444444444444444, \"#bd3786\"], [0.5555555555555556, \"#d8576b\"], [0.6666666666666666, \"#ed7953\"], [0.7777777777777778, \"#fb9f3a\"], [0.8888888888888888, \"#fdca26\"], [1.0, \"#f0f921\"]], \"type\": \"contour\"}], \"contourcarpet\": [{\"colorbar\": {\"outlinewidth\": 0, \"ticks\": \"\"}, \"type\": \"contourcarpet\"}], \"heatmap\": [{\"colorbar\": {\"outlinewidth\": 0, \"ticks\": \"\"}, \"colorscale\": [[0.0, \"#0d0887\"], [0.1111111111111111, \"#46039f\"], [0.2222222222222222, \"#7201a8\"], [0.3333333333333333, \"#9c179e\"], [0.4444444444444444, \"#bd3786\"], [0.5555555555555556, \"#d8576b\"], [0.6666666666666666, \"#ed7953\"], [0.7777777777777778, \"#fb9f3a\"], [0.8888888888888888, \"#fdca26\"], [1.0, \"#f0f921\"]], \"type\": \"heatmap\"}], \"heatmapgl\": [{\"colorbar\": {\"outlinewidth\": 0, \"ticks\": \"\"}, \"colorscale\": [[0.0, \"#0d0887\"], [0.1111111111111111, \"#46039f\"], [0.2222222222222222, \"#7201a8\"], [0.3333333333333333, \"#9c179e\"], [0.4444444444444444, \"#bd3786\"], [0.5555555555555556, \"#d8576b\"], [0.6666666666666666, \"#ed7953\"], [0.7777777777777778, \"#fb9f3a\"], [0.8888888888888888, \"#fdca26\"], [1.0, \"#f0f921\"]], \"type\": \"heatmapgl\"}], \"histogram\": [{\"marker\": {\"colorbar\": {\"outlinewidth\": 0, \"ticks\": \"\"}}, \"type\": \"histogram\"}], \"histogram2d\": [{\"colorbar\": {\"outlinewidth\": 0, \"ticks\": \"\"}, \"colorscale\": [[0.0, \"#0d0887\"], [0.1111111111111111, \"#46039f\"], [0.2222222222222222, \"#7201a8\"], [0.3333333333333333, \"#9c179e\"], [0.4444444444444444, \"#bd3786\"], [0.5555555555555556, \"#d8576b\"], [0.6666666666666666, \"#ed7953\"], [0.7777777777777778, \"#fb9f3a\"], [0.8888888888888888, \"#fdca26\"], [1.0, \"#f0f921\"]], \"type\": \"histogram2d\"}], \"histogram2dcontour\": [{\"colorbar\": {\"outlinewidth\": 0, \"ticks\": \"\"}, \"colorscale\": [[0.0, \"#0d0887\"], [0.1111111111111111, \"#46039f\"], [0.2222222222222222, \"#7201a8\"], [0.3333333333333333, \"#9c179e\"], [0.4444444444444444, \"#bd3786\"], [0.5555555555555556, \"#d8576b\"], [0.6666666666666666, \"#ed7953\"], [0.7777777777777778, \"#fb9f3a\"], [0.8888888888888888, \"#fdca26\"], [1.0, \"#f0f921\"]], \"type\": \"histogram2dcontour\"}], \"mesh3d\": [{\"colorbar\": {\"outlinewidth\": 0, \"ticks\": \"\"}, \"type\": \"mesh3d\"}], \"parcoords\": [{\"line\": {\"colorbar\": {\"outlinewidth\": 0, \"ticks\": \"\"}}, \"type\": \"parcoords\"}], \"scatter\": [{\"marker\": {\"colorbar\": {\"outlinewidth\": 0, \"ticks\": \"\"}}, \"type\": \"scatter\"}], \"scatter3d\": [{\"line\": {\"colorbar\": {\"outlinewidth\": 0, \"ticks\": \"\"}}, \"marker\": {\"colorbar\": {\"outlinewidth\": 0, \"ticks\": \"\"}}, \"type\": \"scatter3d\"}], \"scattercarpet\": [{\"marker\": {\"colorbar\": {\"outlinewidth\": 0, \"ticks\": \"\"}}, \"type\": \"scattercarpet\"}], \"scattergeo\": [{\"marker\": {\"colorbar\": {\"outlinewidth\": 0, \"ticks\": \"\"}}, \"type\": \"scattergeo\"}], \"scattergl\": [{\"marker\": {\"colorbar\": {\"outlinewidth\": 0, \"ticks\": \"\"}}, \"type\": \"scattergl\"}], \"scattermapbox\": [{\"marker\": {\"colorbar\": {\"outlinewidth\": 0, \"ticks\": \"\"}}, \"type\": \"scattermapbox\"}], \"scatterpolar\": [{\"marker\": {\"colorbar\": {\"outlinewidth\": 0, \"ticks\": \"\"}}, \"type\": \"scatterpolar\"}], \"scatterpolargl\": [{\"marker\": {\"colorbar\": {\"outlinewidth\": 0, \"ticks\": \"\"}}, \"type\": \"scatterpolargl\"}], \"scatterternary\": [{\"marker\": {\"colorbar\": {\"outlinewidth\": 0, \"ticks\": \"\"}}, \"type\": \"scatterternary\"}], \"surface\": [{\"colorbar\": {\"outlinewidth\": 0, \"ticks\": \"\"}, \"colorscale\": [[0.0, \"#0d0887\"], [0.1111111111111111, \"#46039f\"], [0.2222222222222222, \"#7201a8\"], [0.3333333333333333, \"#9c179e\"], [0.4444444444444444, \"#bd3786\"], [0.5555555555555556, \"#d8576b\"], [0.6666666666666666, \"#ed7953\"], [0.7777777777777778, \"#fb9f3a\"], [0.8888888888888888, \"#fdca26\"], [1.0, \"#f0f921\"]], \"type\": \"surface\"}], \"table\": [{\"cells\": {\"fill\": {\"color\": \"#EBF0F8\"}, \"line\": {\"color\": \"white\"}}, \"header\": {\"fill\": {\"color\": \"#C8D4E3\"}, \"line\": {\"color\": \"white\"}}, \"type\": \"table\"}]}, \"layout\": {\"annotationdefaults\": {\"arrowcolor\": \"#2a3f5f\", \"arrowhead\": 0, \"arrowwidth\": 1}, \"colorscale\": {\"diverging\": [[0, \"#8e0152\"], [0.1, \"#c51b7d\"], [0.2, \"#de77ae\"], [0.3, \"#f1b6da\"], [0.4, \"#fde0ef\"], [0.5, \"#f7f7f7\"], [0.6, \"#e6f5d0\"], [0.7, \"#b8e186\"], [0.8, \"#7fbc41\"], [0.9, \"#4d9221\"], [1, \"#276419\"]], \"sequential\": [[0.0, \"#0d0887\"], [0.1111111111111111, \"#46039f\"], [0.2222222222222222, \"#7201a8\"], [0.3333333333333333, \"#9c179e\"], [0.4444444444444444, \"#bd3786\"], [0.5555555555555556, \"#d8576b\"], [0.6666666666666666, \"#ed7953\"], [0.7777777777777778, \"#fb9f3a\"], [0.8888888888888888, \"#fdca26\"], [1.0, \"#f0f921\"]], \"sequentialminus\": [[0.0, \"#0d0887\"], [0.1111111111111111, \"#46039f\"], [0.2222222222222222, \"#7201a8\"], [0.3333333333333333, \"#9c179e\"], [0.4444444444444444, \"#bd3786\"], [0.5555555555555556, \"#d8576b\"], [0.6666666666666666, \"#ed7953\"], [0.7777777777777778, \"#fb9f3a\"], [0.8888888888888888, \"#fdca26\"], [1.0, \"#f0f921\"]]}, \"colorway\": [\"#636efa\", \"#EF553B\", \"#00cc96\", \"#ab63fa\", \"#FFA15A\", \"#19d3f3\", \"#FF6692\", \"#B6E880\", \"#FF97FF\", \"#FECB52\"], \"font\": {\"color\": \"#2a3f5f\"}, \"geo\": {\"bgcolor\": \"white\", \"lakecolor\": \"white\", \"landcolor\": \"#E5ECF6\", \"showlakes\": true, \"showland\": true, \"subunitcolor\": \"white\"}, \"hoverlabel\": {\"align\": \"left\"}, \"hovermode\": \"closest\", \"mapbox\": {\"style\": \"light\"}, \"paper_bgcolor\": \"white\", \"plot_bgcolor\": \"#E5ECF6\", \"polar\": {\"angularaxis\": {\"gridcolor\": \"white\", \"linecolor\": \"white\", \"ticks\": \"\"}, \"bgcolor\": \"#E5ECF6\", \"radialaxis\": {\"gridcolor\": \"white\", \"linecolor\": \"white\", \"ticks\": \"\"}}, \"scene\": {\"xaxis\": {\"backgroundcolor\": \"#E5ECF6\", \"gridcolor\": \"white\", \"gridwidth\": 2, \"linecolor\": \"white\", \"showbackground\": true, \"ticks\": \"\", \"zerolinecolor\": \"white\"}, \"yaxis\": {\"backgroundcolor\": \"#E5ECF6\", \"gridcolor\": \"white\", \"gridwidth\": 2, \"linecolor\": \"white\", \"showbackground\": true, \"ticks\": \"\", \"zerolinecolor\": \"white\"}, \"zaxis\": {\"backgroundcolor\": \"#E5ECF6\", \"gridcolor\": \"white\", \"gridwidth\": 2, \"linecolor\": \"white\", \"showbackground\": true, \"ticks\": \"\", \"zerolinecolor\": \"white\"}}, \"shapedefaults\": {\"line\": {\"color\": \"#2a3f5f\"}}, \"ternary\": {\"aaxis\": {\"gridcolor\": \"white\", \"linecolor\": \"white\", \"ticks\": \"\"}, \"baxis\": {\"gridcolor\": \"white\", \"linecolor\": \"white\", \"ticks\": \"\"}, \"bgcolor\": \"#E5ECF6\", \"caxis\": {\"gridcolor\": \"white\", \"linecolor\": \"white\", \"ticks\": \"\"}}, \"title\": {\"x\": 0.05}, \"xaxis\": {\"automargin\": true, \"gridcolor\": \"white\", \"linecolor\": \"white\", \"ticks\": \"\", \"zerolinecolor\": \"white\", \"zerolinewidth\": 2}, \"yaxis\": {\"automargin\": true, \"gridcolor\": \"white\", \"linecolor\": \"white\", \"ticks\": \"\", \"zerolinecolor\": \"white\", \"zerolinewidth\": 2}}}, \"title\": {\"text\": \"Standardized data standard deviation\"}},\n",
              "                        {\"responsive\": true}\n",
              "                    ).then(function(){\n",
              "                            \n",
              "var gd = document.getElementById('0a734cdf-2fb1-4662-81b5-a5a5909497a7');\n",
              "var x = new MutationObserver(function (mutations, observer) {{\n",
              "        var display = window.getComputedStyle(gd).display;\n",
              "        if (!display || display === 'none') {{\n",
              "            console.log([gd, 'removed!']);\n",
              "            Plotly.purge(gd);\n",
              "            observer.disconnect();\n",
              "        }}\n",
              "}});\n",
              "\n",
              "// Listen for the removal of the full notebook cells\n",
              "var notebookContainer = gd.closest('#notebook-container');\n",
              "if (notebookContainer) {{\n",
              "    x.observe(notebookContainer, {childList: true});\n",
              "}}\n",
              "\n",
              "// Listen for the clearing of the current output cell\n",
              "var outputEl = gd.closest('.output');\n",
              "if (outputEl) {{\n",
              "    x.observe(outputEl, {childList: true});\n",
              "}}\n",
              "\n",
              "                        })\n",
              "                };\n",
              "                \n",
              "            </script>\n",
              "        </div>\n",
              "</body>\n",
              "</html>"
            ]
          },
          "metadata": {
            "tags": []
          }
        },
        {
          "output_type": "stream",
          "text": [
            "[22-12-19 13:51:07 INFO] Function malware_data_transform finished in 1.600907802581787s\n",
            "[22-12-19 13:51:07 INFO] Running knn_classifier...\n",
            "[22-12-19 13:51:07 INFO] -Running KNN algorithm with n_neighbors=1\n",
            "[22-12-19 13:51:07 INFO] --Finding best 3 features\n",
            "[22-12-19 13:51:07 INFO] ---Starting fitting for weight=distance\n",
            "[22-12-19 13:51:11 INFO] -----Measuring confusion matrix...\n",
            "[22-12-19 13:51:12 INFO] ----KNN accuracy is: 96.36363636363636%\n",
            "[22-12-19 13:51:12 INFO] ------Precision in percent: 97.57256481768412%\n",
            "[22-12-19 13:51:12 INFO] ------Recall in percent: 97.25110676413054%\n",
            "[22-12-19 13:51:12 INFO] ------False positives in percent: 2.427435182315876%\n",
            "[22-12-19 13:51:12 INFO] ------False negatives in percent: 6.474296799224054%\n",
            "[22-12-19 13:51:12 INFO] --Finding best 23 features\n",
            "[22-12-19 13:51:12 INFO] ---Starting fitting for weight=distance\n",
            "[22-12-19 13:51:50 INFO] -----Measuring confusion matrix...\n",
            "[22-12-19 13:52:17 INFO] ----KNN accuracy is: 99.09694555112883%\n",
            "[22-12-19 13:52:17 INFO] ------Precision in percent: 99.21679090378207%\n",
            "[22-12-19 13:52:17 INFO] ------Recall in percent: 99.49705466946847%\n",
            "[22-12-19 13:52:17 INFO] ------False positives in percent: 0.7832090962179244%\n",
            "[22-12-19 13:52:17 INFO] ------False negatives in percent: 1.1866059817945382%\n",
            "[22-12-19 13:52:17 INFO] Function knn_classifier finished in 70.37555646896362s\n"
          ],
          "name": "stderr"
        }
      ]
    },
    {
      "cell_type": "markdown",
      "metadata": {
        "id": "As9NdCES7zK_",
        "colab_type": "text"
      },
      "source": [
        "After data standardization, there are similar results and conclusions as with data normalization. Both are giving promising results above 99%."
      ]
    },
    {
      "cell_type": "code",
      "metadata": {
        "id": "LJJP3vs9OFRi",
        "colab_type": "code",
        "colab": {
          "base_uri": "https://localhost:8080/",
          "height": 55
        },
        "outputId": "9d783beb-4cee-41e5-a708-20dfb2d3214f"
      },
      "source": [
        "get_logger(logger_file='KNN_results.log').info(\"--------------------------------------\")\n",
        "get_logger(logger_file='KNN_results.log').info(\"---------------Stopping---------------\")"
      ],
      "execution_count": 14,
      "outputs": [
        {
          "output_type": "stream",
          "text": [
            "[22-12-19 13:52:17 INFO] --------------------------------------\n",
            "[22-12-19 13:52:17 INFO] ---------------Stopping---------------\n"
          ],
          "name": "stderr"
        }
      ]
    },
    {
      "cell_type": "markdown",
      "metadata": {
        "id": "yq7bRifl7av7",
        "colab_type": "text"
      },
      "source": [
        "Below is an output from functions run above."
      ]
    },
    {
      "cell_type": "code",
      "metadata": {
        "id": "pjsH08t6Lhmb",
        "colab_type": "code",
        "colab": {
          "base_uri": "https://localhost:8080/",
          "height": 1000
        },
        "outputId": "1c14db14-6607-4ab7-8bc4-328fdff86f6b"
      },
      "source": [
        "import os\n",
        "if os.path.exists('KNN_results.log'):\n",
        "    !cat KNN_results.log"
      ],
      "execution_count": 15,
      "outputs": [
        {
          "output_type": "stream",
          "text": [
            "[22-12-19 13:40:10 INFO] ---------------Starting---------------\n",
            "[22-12-19 13:40:10 INFO] --------------------------------------\n",
            "[22-12-19 13:40:10 INFO] -Reading csv file\n",
            "[22-12-19 13:40:11 INFO] --Figures enabled\n",
            "[22-12-19 13:40:12 INFO] -Running KNN algorithm with n_neighbors=1\n",
            "[22-12-19 13:40:12 INFO] --Finding best 3 features\n",
            "[22-12-19 13:40:12 INFO] ---Starting fitting for weight=distance\n",
            "[22-12-19 13:40:18 INFO] -----Measuring confusion matrix...\n",
            "[22-12-19 13:40:20 INFO] ----KNN accuracy is: 96.43607388627309%\n",
            "[22-12-19 13:40:20 INFO] ------Precision in percent: 97.59364750561022%\n",
            "[22-12-19 13:40:20 INFO] ------Recall in percent: 97.3181395669088%\n",
            "[22-12-19 13:40:20 INFO] ------False positives in percent: 2.4063524943897807%\n",
            "[22-12-19 13:40:20 INFO] ------False negatives in percent: 6.257028112449799%\n",
            "[22-12-19 13:40:20 INFO] --Finding best 23 features\n",
            "[22-12-19 13:40:20 INFO] ---Starting fitting for weight=distance\n",
            "[22-12-19 13:40:33 INFO] -----Measuring confusion matrix...\n",
            "[22-12-19 13:40:43 INFO] ----KNN accuracy is: 97.66751177109742%\n",
            "[22-12-19 13:40:43 INFO] ------Precision in percent: 98.35068549634059%\n",
            "[22-12-19 13:40:43 INFO] ------Recall in percent: 98.33041327424507%\n",
            "[22-12-19 13:40:43 INFO] ------False positives in percent: 1.6493145036594166%\n",
            "[22-12-19 13:40:43 INFO] ------False negatives in percent: 3.9473684210526314%\n",
            "[22-12-19 13:40:43 INFO] --------------------------------------\n",
            "[22-12-19 13:40:43 INFO] -Reading csv file\n",
            "[22-12-19 13:40:44 INFO] --Data normalization processing...\n",
            "[22-12-19 13:40:44 INFO] --Figures enabled\n",
            "[22-12-19 13:40:44 INFO] -Running KNN algorithm with n_neighbors=1\n",
            "[22-12-19 13:40:44 INFO] --Finding best 3 features\n",
            "[22-12-19 13:40:44 INFO] ---Starting fitting for weight=distance\n",
            "[22-12-19 13:40:49 INFO] -----Measuring confusion matrix...\n",
            "[22-12-19 13:40:50 INFO] ----KNN accuracy is: 96.50126765664614%\n",
            "[22-12-19 13:40:50 INFO] ------Precision in percent: 97.55213675213675%\n",
            "[22-12-19 13:40:50 INFO] ------Recall in percent: 97.49547271671165%\n",
            "[22-12-19 13:40:50 INFO] ------False positives in percent: 2.4478632478632476%\n",
            "[22-12-19 13:40:50 INFO] ------False negatives in percent: 6.025482942868885%\n",
            "[22-12-19 13:40:50 INFO] --Finding best 23 features\n",
            "[22-12-19 13:40:50 INFO] ---Starting fitting for weight=distance\n",
            "[22-12-19 13:41:42 INFO] -----Measuring confusion matrix...\n",
            "[22-12-19 13:42:14 INFO] ----KNN accuracy is: 99.13799348062297%\n",
            "[22-12-19 13:42:14 INFO] ------Precision in percent: 99.32105750437198%\n",
            "[22-12-19 13:42:14 INFO] ------Recall in percent: 99.45405850844664%\n",
            "[22-12-19 13:42:14 INFO] ------False positives in percent: 0.6789424956280218%\n",
            "[22-12-19 13:42:14 INFO] ------False negatives in percent: 1.297747306562194%\n",
            "[22-12-19 13:42:14 INFO] --------------------------------------\n",
            "[22-12-19 13:42:14 INFO] -Reading csv file\n",
            "[22-12-19 13:42:15 INFO] --Data standardization processing...\n",
            "[22-12-19 13:42:15 INFO] --Figures enabled\n",
            "[22-12-19 13:42:16 INFO] -Running KNN algorithm with n_neighbors=1\n",
            "[22-12-19 13:42:16 INFO] --Finding best 3 features\n",
            "[22-12-19 13:42:16 INFO] ---Starting fitting for weight=distance\n",
            "[22-12-19 13:42:20 INFO] -----Measuring confusion matrix...\n",
            "[22-12-19 13:42:21 INFO] ----KNN accuracy is: 96.39744054086684%\n",
            "[22-12-19 13:42:21 INFO] ------Precision in percent: 97.4608635816274%\n",
            "[22-12-19 13:42:21 INFO] ------Recall in percent: 97.40724184175235%\n",
            "[22-12-19 13:42:21 INFO] ------False positives in percent: 2.539136418372613%\n",
            "[22-12-19 13:42:21 INFO] ------False negatives in percent: 6.105263157894736%\n",
            "[22-12-19 13:42:21 INFO] --Finding best 23 features\n",
            "[22-12-19 13:42:21 INFO] ---Starting fitting for weight=distance\n",
            "[22-12-19 13:43:08 INFO] -----Measuring confusion matrix...\n",
            "[22-12-19 13:43:41 INFO] ----KNN accuracy is: 99.08728721477725%\n",
            "[22-12-19 13:43:41 INFO] ------Precision in percent: 99.27014838021138%\n",
            "[22-12-19 13:43:41 INFO] ------Recall in percent: 99.4276059446226%\n",
            "[22-12-19 13:43:41 INFO] ------False positives in percent: 0.7298516197886185%\n",
            "[22-12-19 13:43:41 INFO] ------False negatives in percent: 1.3421733505821476%\n",
            "[22-12-19 13:43:41 INFO] --------------------------------------\n",
            "[22-12-19 13:43:41 INFO] ---------------Stopping---------------\n",
            "[22-12-19 13:49:03 INFO] ---------------Starting---------------\n",
            "[22-12-19 13:49:03 INFO] --------------------------------------\n",
            "[22-12-19 13:49:03 INFO] Running malware_data_transform...\n",
            "[22-12-19 13:49:03 INFO] -Reading csv file\n",
            "[22-12-19 13:49:04 INFO] --Figures enabled\n",
            "[22-12-19 13:49:05 INFO] Function malware_data_transform finished in 1.827791452407837s\n",
            "[22-12-19 13:49:05 INFO] Running knn_classifier...\n",
            "[22-12-19 13:49:05 INFO] -Running KNN algorithm with n_neighbors=1\n",
            "[22-12-19 13:49:05 INFO] --Finding best 3 features\n",
            "[22-12-19 13:49:05 INFO] ---Starting fitting for weight=distance\n",
            "[22-12-19 13:49:11 INFO] -----Measuring confusion matrix...\n",
            "[22-12-19 13:49:13 INFO] ----KNN accuracy is: 96.57853434745866%\n",
            "[22-12-19 13:49:13 INFO] ------Precision in percent: 97.7166741510933%\n",
            "[22-12-19 13:49:13 INFO] ------Recall in percent: 97.39705274755543%\n",
            "[22-12-19 13:49:13 INFO] ------False positives in percent: 2.283325848906698%\n",
            "[22-12-19 13:49:13 INFO] ------False negatives in percent: 6.064495427562972%\n",
            "[22-12-19 13:49:13 INFO] --Finding best 23 features\n",
            "[22-12-19 13:49:13 INFO] ---Starting fitting for weight=distance\n",
            "[22-12-19 13:49:27 INFO] -----Measuring confusion matrix...\n",
            "[22-12-19 13:49:37 INFO] ----KNN accuracy is: 97.61439092116383%\n",
            "[22-12-19 13:49:37 INFO] ------Precision in percent: 98.3565063624701%\n",
            "[22-12-19 13:49:37 INFO] ------Recall in percent: 98.22028323119005%\n",
            "[22-12-19 13:49:37 INFO] ------False positives in percent: 1.6434936375299052%\n",
            "[22-12-19 13:49:37 INFO] ------False negatives in percent: 4.087800222681724%\n",
            "[22-12-19 13:49:37 INFO] Function knn_classifier finished in 32.07361149787903s\n",
            "[22-12-19 13:49:37 INFO] --------------------------------------\n",
            "[22-12-19 13:49:37 INFO] Running malware_data_transform...\n",
            "[22-12-19 13:49:37 INFO] -Reading csv file\n",
            "[22-12-19 13:49:38 INFO] --Data normalization processing...\n",
            "[22-12-19 13:49:38 INFO] --Figures enabled\n",
            "[22-12-19 13:49:39 INFO] Function malware_data_transform finished in 1.5302696228027344s\n",
            "[22-12-19 13:49:39 INFO] Running knn_classifier...\n",
            "[22-12-19 13:49:39 INFO] -Running KNN algorithm with n_neighbors=1\n",
            "[22-12-19 13:49:39 INFO] --Finding best 3 features\n",
            "[22-12-19 13:49:39 INFO] ---Starting fitting for weight=distance\n",
            "[22-12-19 13:49:43 INFO] -----Measuring confusion matrix...\n",
            "[22-12-19 13:49:44 INFO] ----KNN accuracy is: 96.40951346130629%\n",
            "[22-12-19 13:49:44 INFO] ------Precision in percent: 97.47283729885848%\n",
            "[22-12-19 13:49:44 INFO] ------Recall in percent: 97.41589636094979%\n",
            "[22-12-19 13:49:44 INFO] ------False positives in percent: 2.527162701141521%\n",
            "[22-12-19 13:49:44 INFO] ------False negatives in percent: 6.098451058308329%\n",
            "[22-12-19 13:49:44 INFO] --Finding best 23 features\n",
            "[22-12-19 13:49:45 INFO] ---Starting fitting for weight=distance\n",
            "[22-12-19 13:50:35 INFO] -----Measuring confusion matrix...\n",
            "[22-12-19 13:51:05 INFO] ----KNN accuracy is: 99.17179765785343%\n",
            "[22-12-19 13:51:05 INFO] ------Precision in percent: 99.33457454144255%\n",
            "[22-12-19 13:51:05 INFO] ------Recall in percent: 99.4820620834916%\n",
            "[22-12-19 13:51:05 INFO] ------False positives in percent: 0.6654254585574403%\n",
            "[22-12-19 13:51:05 INFO] ------False negatives in percent: 1.208605269518975%\n",
            "[22-12-19 13:51:05 INFO] Function knn_classifier finished in 86.39040517807007s\n",
            "[22-12-19 13:51:05 INFO] --------------------------------------\n",
            "[22-12-19 13:51:05 INFO] Running malware_data_transform...\n",
            "[22-12-19 13:51:05 INFO] -Reading csv file\n",
            "[22-12-19 13:51:06 INFO] --Data standardization processing...\n",
            "[22-12-19 13:51:06 INFO] --Figures enabled\n",
            "[22-12-19 13:51:07 INFO] Function malware_data_transform finished in 1.600907802581787s\n",
            "[22-12-19 13:51:07 INFO] Running knn_classifier...\n",
            "[22-12-19 13:51:07 INFO] -Running KNN algorithm with n_neighbors=1\n",
            "[22-12-19 13:51:07 INFO] --Finding best 3 features\n",
            "[22-12-19 13:51:07 INFO] ---Starting fitting for weight=distance\n",
            "[22-12-19 13:51:11 INFO] -----Measuring confusion matrix...\n",
            "[22-12-19 13:51:12 INFO] ----KNN accuracy is: 96.36363636363636%\n",
            "[22-12-19 13:51:12 INFO] ------Precision in percent: 97.57256481768412%\n",
            "[22-12-19 13:51:12 INFO] ------Recall in percent: 97.25110676413054%\n",
            "[22-12-19 13:51:12 INFO] ------False positives in percent: 2.427435182315876%\n",
            "[22-12-19 13:51:12 INFO] ------False negatives in percent: 6.474296799224054%\n",
            "[22-12-19 13:51:12 INFO] --Finding best 23 features\n",
            "[22-12-19 13:51:12 INFO] ---Starting fitting for weight=distance\n",
            "[22-12-19 13:51:50 INFO] -----Measuring confusion matrix...\n",
            "[22-12-19 13:52:17 INFO] ----KNN accuracy is: 99.09694555112883%\n",
            "[22-12-19 13:52:17 INFO] ------Precision in percent: 99.21679090378207%\n",
            "[22-12-19 13:52:17 INFO] ------Recall in percent: 99.49705466946847%\n",
            "[22-12-19 13:52:17 INFO] ------False positives in percent: 0.7832090962179244%\n",
            "[22-12-19 13:52:17 INFO] ------False negatives in percent: 1.1866059817945382%\n",
            "[22-12-19 13:52:17 INFO] Function knn_classifier finished in 70.37555646896362s\n",
            "[22-12-19 13:52:17 INFO] --------------------------------------\n",
            "[22-12-19 13:52:17 INFO] ---------------Stopping---------------\n"
          ],
          "name": "stdout"
        }
      ]
    }
  ]
}